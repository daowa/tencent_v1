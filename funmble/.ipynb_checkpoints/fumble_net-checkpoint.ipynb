{
 "cells": [
  {
   "cell_type": "code",
   "execution_count": 211,
   "metadata": {
    "collapsed": true
   },
   "outputs": [],
   "source": [
    "import numpy as np\n",
    "import pandas as pd"
   ]
  },
  {
   "cell_type": "code",
   "execution_count": 212,
   "metadata": {
    "collapsed": false
   },
   "outputs": [],
   "source": [
    "dataNode = pd.read_csv('C:\\\\Users\\\\work\\\\Desktop\\\\tencent\\\\feature\\\\net\\\\node4.csv')\n",
    "dataLine = pd.read_csv('C:\\\\Users\\\\work\\\\Desktop\\\\tencent\\\\feature\\\\net\\\\lines.csv')\n",
    "dataLine = dataLine.drop(dataLine['Source'] == dataLine['Target']) #去掉与自己的连接"
   ]
  },
  {
   "cell_type": "code",
   "execution_count": 201,
   "metadata": {
    "collapsed": false
   },
   "outputs": [
    {
     "data": {
      "text/plain": [
       "Source       73\n",
       "Target       73\n",
       "weight       73\n",
       "partition    73\n",
       "dtype: int64"
      ]
     },
     "execution_count": 201,
     "metadata": {},
     "output_type": "execute_result"
    }
   ],
   "source": [
    "dataLine[(dataLine['Source']==91496) & (dataLine['partition']==1)].count()"
   ]
  },
  {
   "cell_type": "code",
   "execution_count": 219,
   "metadata": {
    "collapsed": true
   },
   "outputs": [],
   "source": [
    "dataNode1 = dataNode[dataNode['partition']==1]\n",
    "dataNode0 = dataNode[dataNode['partition']==0]\n",
    "dataLine1 = dataLine[dataLine['partition']==1]\n",
    "dataLine0 = dataLine[dataLine['partition']==0]\n",
    "dataLine10 = dataLine[dataLine['partition']==10]"
   ]
  },
  {
   "cell_type": "code",
   "execution_count": 171,
   "metadata": {
    "collapsed": false
   },
   "outputs": [
    {
     "data": {
      "text/plain": [
       "1075"
      ]
     },
     "execution_count": 171,
     "metadata": {},
     "output_type": "execute_result"
    }
   ],
   "source": [
    "dataNode[dataNode['partition']==1]['id'].count()"
   ]
  },
  {
   "cell_type": "markdown",
   "metadata": {},
   "source": [
    "# 对于一个点，求与1、0的平均weight"
   ]
  },
  {
   "cell_type": "code",
   "execution_count": null,
   "metadata": {
    "collapsed": false
   },
   "outputs": [],
   "source": [
    "# 求平均weight\n",
    "def getWeightAvg(x, part):\n",
    "    tempDataLine = dataLine[dataLine['partition']==part]\n",
    "    weight = 0\n",
    "    count = 0\n",
    "    if x[1] == part: \n",
    "        weight = tempDataLine[tempDataLine['Source']==x[0]]['weight'].sum() + tempDataLine[tempDataLine['Target']==x[0]]['weight'].sum()\n",
    "        count = tempDataLine[tempDataLine['Source']==x[0]]['weight'].count() + tempDataLine[tempDataLine['Target']==x[0]]['weight'].count()\n",
    "    else: #来源id的part和标的part不同，说明要从10的线中找\n",
    "        weight = dataLine10[dataLine10['Source']==x[0]]['weight'].sum() + dataLine10[dataLine10['Target']==x[0]]['weight'].sum()\n",
    "        count = dataLine10[dataLine10['Source']==x[0]]['weight'].count() + dataLine10[dataLine10['Target']==x[0]]['weight'].count()\n",
    "    return weight/count\n",
    "dataNode['weightAvg1'] = dataNode[['id','partition']].apply(getWeightAvg, args=(1,), axis=1)\n",
    "dataNode['weightAvg0'] = dataNode[['id','partition']].apply(getWeightAvg, args=(0,), axis=1)"
   ]
  },
  {
   "cell_type": "code",
   "execution_count": 214,
   "metadata": {
    "collapsed": true
   },
   "outputs": [],
   "source": [
    "# 求总weight\n",
    "def getWeightAvg(x, part):\n",
    "    tempDataLine = dataLine[dataLine['partition']==part]\n",
    "    weight = 0\n",
    "    allCount = dataNode[dataNode['partition']==x[1]]['id'].count() #统计该类点的数量（而不是有关联的点的数量）\n",
    "    if x[1] == part: \n",
    "        weight = tempDataLine[tempDataLine['Source']==x[0]]['weight'].sum() + tempDataLine[tempDataLine['Target']==x[0]]['weight'].sum()\n",
    "    else: #来源id的part和标的part不同，说明要从10的线中找\n",
    "        weight = dataLine10[dataLine10['Source']==x[0]]['weight'].sum() + dataLine10[dataLine10['Target']==x[0]]['weight'].sum()\n",
    "    return weight/allCount\n",
    "dataNode['weightSum1'] = dataNode[['id','partition']].apply(getWeightAvg, args=(1,), axis=1)\n",
    "dataNode['weightSum0'] = dataNode[['id','partition']].apply(getWeightAvg, args=(0,), axis=1)"
   ]
  },
  {
   "cell_type": "code",
   "execution_count": 215,
   "metadata": {
    "collapsed": false
   },
   "outputs": [],
   "source": [
    "# 求maxWeight\n",
    "def getWeightMax(x, part):\n",
    "    tempDataLine = dataLine[dataLine['partition']==part]\n",
    "    m = 0.0\n",
    "    if x[1] == part:\n",
    "        m = max(tempDataLine[tempDataLine['Source']==x[0]]['weight'].max(), tempDataLine[tempDataLine['Target']==x[0]]['weight'].max()) \n",
    "    else: #来源id的part和标的part不同，说明要从10的线中找\n",
    "        m = max(dataLine10[dataLine10['Source']==x[0]]['weight'].max(), dataLine10[dataLine10['Target']==x[0]]['weight'].max())\n",
    "    return m\n",
    "dataNode['weightMax1'] = dataNode[['id','partition']].apply(getWeightMax, args=(1,), axis=1)\n",
    "dataNode['weightMax0'] = dataNode[['id','partition']].apply(getWeightMax, args=(0,), axis=1)"
   ]
  },
  {
   "cell_type": "code",
   "execution_count": 216,
   "metadata": {
    "collapsed": false
   },
   "outputs": [],
   "source": [
    "# 求voteCount\n",
    "def getVoteCount(x, part):\n",
    "    tempDataLine = dataLine[dataLine['partition']==part]\n",
    "    weight = 0\n",
    "    count = 0\n",
    "    if x[1] == part: \n",
    "        count = tempDataLine[tempDataLine['Source']==x[0]]['weight'].count() + tempDataLine[tempDataLine['Target']==x[0]]['weight'].count()\n",
    "    else: #来源id的part和标的part不同，说明要从10的线中找\n",
    "        count = dataLine10[dataLine10['Source']==x[0]]['weight'].count() + dataLine10[dataLine10['Target']==x[0]]['weight'].count()\n",
    "    return count\n",
    "dataNode['voteCount1'] = dataNode[['id','partition']].apply(getVoteCount, args=(1,), axis=1)\n",
    "dataNode['voteCount0'] = dataNode[['id','partition']].apply(getVoteCount, args=(0,), axis=1)"
   ]
  },
  {
   "cell_type": "code",
   "execution_count": 217,
   "metadata": {
    "collapsed": false
   },
   "outputs": [
    {
     "name": "stdout",
     "output_type": "stream",
     "text": [
      "----- weightAvg ------\n",
      "### 1 ###\n",
      "P:0.943579766537\n",
      "R:0.451162790698\n",
      "### 0 ###\n",
      "P:0.976635514019\n",
      "R:0.398095238095\n",
      "----- weightSum ------\n",
      "### 1 ###\n",
      "P:0.95652173913\n",
      "R:0.45023255814\n",
      "### 0 ###\n",
      "P:0.974770642202\n",
      "R:0.404761904762\n",
      "----- maxWeight ------\n",
      "### 1 ###\n",
      "P:1.0\n",
      "R:0.337674418605\n",
      "### 0 ###\n",
      "P:1.0\n",
      "R:0.00285714285714\n",
      "----- voteCount ------\n",
      "### 1 ###\n",
      "P:0.946830265849\n",
      "R:0.430697674419\n",
      "### 0 ###\n",
      "P:0.947126436782\n",
      "R:0.392380952381\n"
     ]
    }
   ],
   "source": [
    "def printPR(field1, field0):\n",
    "    print '### 1 ###'\n",
    "    right = dataNode[((dataNode[field1]-dataNode[field0])>0) & (dataNode['partition']==1)]['id'].count()\n",
    "    allPredict = dataNode[(dataNode[field1]-dataNode[field0])>0]['id'].count()\n",
    "    allRight = dataNode[dataNode['partition']==1]['id'].count()\n",
    "    print 'P:' + str(float(right)/allPredict)\n",
    "    print 'R:' + str(float(right)/allRight)\n",
    "    print '### 0 ###'\n",
    "    right = dataNode[((dataNode[field1]-dataNode[field0])<0) & (dataNode['partition']==0)]['id'].count()\n",
    "    allPredict = dataNode[(dataNode[field1]-dataNode[field0])<0]['id'].count()\n",
    "    allRight = dataNode[dataNode['partition']==0]['id'].count()\n",
    "    print 'P:' + str(float(right)/allPredict)\n",
    "    print 'R:' + str(float(right)/allRight)\n",
    "    \n",
    "print '----- weightAvg ------'\n",
    "printPR('weightAvg1', 'weightAvg0')\n",
    "print '----- weightSum ------'\n",
    "printPR('weightSum1', 'weightSum0')\n",
    "print '----- maxWeight ------'\n",
    "printPR('weightMax1', 'weightMax0') #数据泄露了\n",
    "print '----- voteCount ------'\n",
    "printPR('voteCount1', 'voteCount0')"
   ]
  },
  {
   "cell_type": "code",
   "execution_count": 203,
   "metadata": {
    "collapsed": false
   },
   "outputs": [],
   "source": [
    "def getMinus(x):\n",
    "    minus = x[0] - x[1]\n",
    "    sum = x[0] + x[1]\n",
    "#     sum = 1\n",
    "    if minus == 0:\n",
    "        return 0\n",
    "    else:\n",
    "        return minus/sum\n",
    "def getV(x):\n",
    "    if x[0] > 0: \n",
    "        return 1\n",
    "    elif x[0] < 0: \n",
    "        return -1\n",
    "    else:\n",
    "        return 0\n",
    "out = dataNode[['id','weightAvg1','weightAvg0','partition']].copy()\n",
    "out['appID'] = 83\n",
    "out['voteMinus'] = out[['weightAvg1', 'weightAvg0']].apply(getMinus, axis=1)\n",
    "out['v'] = out[['voteMinus']].apply(getV, axis=1)\n",
    "out.rename(columns={'id':'userID','weightAvg1':'voteP', 'weightAvg0':'voteN'}, inplace=True)"
   ]
  },
  {
   "cell_type": "code",
   "execution_count": 191,
   "metadata": {
    "collapsed": false
   },
   "outputs": [
    {
     "data": {
      "text/html": [
       "<div>\n",
       "<table border=\"1\" class=\"dataframe\">\n",
       "  <thead>\n",
       "    <tr style=\"text-align: right;\">\n",
       "      <th></th>\n",
       "      <th>userID</th>\n",
       "      <th>voteP</th>\n",
       "      <th>voteN</th>\n",
       "      <th>partition</th>\n",
       "      <th>appID</th>\n",
       "      <th>voteMinus</th>\n",
       "      <th>v</th>\n",
       "    </tr>\n",
       "  </thead>\n",
       "  <tbody>\n",
       "    <tr>\n",
       "      <th>0</th>\n",
       "      <td>359757</td>\n",
       "      <td>0.373991</td>\n",
       "      <td>0.328619</td>\n",
       "      <td>1</td>\n",
       "      <td>83</td>\n",
       "      <td>0.064576</td>\n",
       "      <td>1</td>\n",
       "    </tr>\n",
       "    <tr>\n",
       "      <th>1</th>\n",
       "      <td>91496</td>\n",
       "      <td>0.366976</td>\n",
       "      <td>0.342557</td>\n",
       "      <td>1</td>\n",
       "      <td>83</td>\n",
       "      <td>0.034416</td>\n",
       "      <td>1</td>\n",
       "    </tr>\n",
       "    <tr>\n",
       "      <th>2</th>\n",
       "      <td>491729</td>\n",
       "      <td>0.367875</td>\n",
       "      <td>0.348703</td>\n",
       "      <td>1</td>\n",
       "      <td>83</td>\n",
       "      <td>0.026754</td>\n",
       "      <td>1</td>\n",
       "    </tr>\n",
       "    <tr>\n",
       "      <th>3</th>\n",
       "      <td>2439324</td>\n",
       "      <td>0.000000</td>\n",
       "      <td>0.000000</td>\n",
       "      <td>1</td>\n",
       "      <td>83</td>\n",
       "      <td>0.000000</td>\n",
       "      <td>0</td>\n",
       "    </tr>\n",
       "    <tr>\n",
       "      <th>4</th>\n",
       "      <td>473013</td>\n",
       "      <td>0.000000</td>\n",
       "      <td>0.000000</td>\n",
       "      <td>1</td>\n",
       "      <td>83</td>\n",
       "      <td>0.000000</td>\n",
       "      <td>0</td>\n",
       "    </tr>\n",
       "  </tbody>\n",
       "</table>\n",
       "</div>"
      ],
      "text/plain": [
       "    userID     voteP     voteN  partition  appID  voteMinus  v\n",
       "0   359757  0.373991  0.328619          1     83   0.064576  1\n",
       "1    91496  0.366976  0.342557          1     83   0.034416  1\n",
       "2   491729  0.367875  0.348703          1     83   0.026754  1\n",
       "3  2439324  0.000000  0.000000          1     83   0.000000  0\n",
       "4   473013  0.000000  0.000000          1     83   0.000000  0"
      ]
     },
     "execution_count": 191,
     "metadata": {},
     "output_type": "execute_result"
    }
   ],
   "source": [
    "out.head()"
   ]
  },
  {
   "cell_type": "code",
   "execution_count": 115,
   "metadata": {
    "collapsed": false
   },
   "outputs": [
    {
     "data": {
      "image/png": "[encoded data removed]",
      "text/plain": [
       "<matplotlib.figure.Figure at 0xb9052e8>"
      ]
     },
     "metadata": {},
     "output_type": "display_data"
    }
   ],
   "source": [
    "import matplotlib.pyplot as plt\n",
    "temp = out[out['partition']==1][['voteMinus']].sort_values(by='voteMinus',ascending=False)\n",
    "plt.plot(range(len(temp)), temp)\n",
    "plt.show()"
   ]
  },
  {
   "cell_type": "code",
   "execution_count": 77,
   "metadata": {
    "collapsed": false,
    "scrolled": true
   },
   "outputs": [
    {
     "data": {
      "text/html": [
       "<div>\n",
       "<table border=\"1\" class=\"dataframe\">\n",
       "  <thead>\n",
       "    <tr style=\"text-align: right;\">\n",
       "      <th></th>\n",
       "      <th>userID</th>\n",
       "      <th>voteP</th>\n",
       "      <th>voteN</th>\n",
       "      <th>appID</th>\n",
       "      <th>voteMinus</th>\n",
       "      <th>v</th>\n",
       "    </tr>\n",
       "  </thead>\n",
       "  <tbody>\n",
       "    <tr>\n",
       "      <th>58</th>\n",
       "      <td>6261</td>\n",
       "      <td>0.664038</td>\n",
       "      <td>0.664038</td>\n",
       "      <td>83</td>\n",
       "      <td>0.0</td>\n",
       "      <td>0</td>\n",
       "    </tr>\n",
       "  </tbody>\n",
       "</table>\n",
       "</div>"
      ],
      "text/plain": [
       "    userID     voteP     voteN  appID  voteMinus  v\n",
       "58    6261  0.664038  0.664038     83        0.0  0"
      ]
     },
     "execution_count": 77,
     "metadata": {},
     "output_type": "execute_result"
    }
   ],
   "source": [
    "out[(out['v']==0) & (out['voteP']!=0)]"
   ]
  },
  {
   "cell_type": "code",
   "execution_count": 205,
   "metadata": {
    "collapsed": false
   },
   "outputs": [
    {
     "data": {
      "text/html": [
       "<div>\n",
       "<table border=\"1\" class=\"dataframe\">\n",
       "  <thead>\n",
       "    <tr style=\"text-align: right;\">\n",
       "      <th></th>\n",
       "      <th>id</th>\n",
       "      <th>partition</th>\n",
       "      <th>degree</th>\n",
       "      <th>weighted degree</th>\n",
       "      <th>weightAvg1</th>\n",
       "      <th>weightAvg0</th>\n",
       "      <th>weightSum1</th>\n",
       "      <th>weightSum0</th>\n",
       "      <th>weightMax1</th>\n",
       "      <th>weightMax0</th>\n",
       "      <th>voteCount1</th>\n",
       "      <th>voteCount0</th>\n",
       "    </tr>\n",
       "  </thead>\n",
       "  <tbody>\n",
       "    <tr>\n",
       "      <th>1</th>\n",
       "      <td>91496</td>\n",
       "      <td>1</td>\n",
       "      <td>126</td>\n",
       "      <td>45.654323</td>\n",
       "      <td>0.366976</td>\n",
       "      <td>0.342557</td>\n",
       "      <td>0.025262</td>\n",
       "      <td>0.017208</td>\n",
       "      <td>1.0</td>\n",
       "      <td>0.484673</td>\n",
       "      <td>74</td>\n",
       "      <td>54</td>\n",
       "    </tr>\n",
       "  </tbody>\n",
       "</table>\n",
       "</div>"
      ],
      "text/plain": [
       "      id  partition  degree  weighted degree  weightAvg1  weightAvg0  \\\n",
       "1  91496          1     126        45.654323    0.366976    0.342557   \n",
       "\n",
       "   weightSum1  weightSum0  weightMax1  weightMax0  voteCount1  voteCount0  \n",
       "1    0.025262    0.017208         1.0    0.484673          74          54  "
      ]
     },
     "execution_count": 205,
     "metadata": {},
     "output_type": "execute_result"
    }
   ],
   "source": [
    "# out[out['userID']==359757]\n",
    "dataNode[dataNode['id']==91496]"
   ]
  },
  {
   "cell_type": "code",
   "execution_count": 116,
   "metadata": {
    "collapsed": false
   },
   "outputs": [],
   "source": [
    "out.to_csv('C:\\\\Users\\\\work\\\\Desktop\\\\tencent\\\\feature\\\\user_vote.csv',index=False)"
   ]
  },
  {
   "cell_type": "code",
   "execution_count": null,
   "metadata": {
    "collapsed": true
   },
   "outputs": [],
   "source": []
  }
 ],
 "metadata": {
  "anaconda-cloud": {},
  "kernelspec": {
   "display_name": "Python [default]",
   "language": "python",
   "name": "python2"
  },
  "language_info": {
   "codemirror_mode": {
    "name": "ipython",
    "version": 2
   },
   "file_extension": ".py",
   "mimetype": "text/x-python",
   "name": "python",
   "nbconvert_exporter": "python",
   "pygments_lexer": "ipython2",
   "version": "2.7.12"
  }
 },
 "nbformat": 4,
 "nbformat_minor": 1
}
