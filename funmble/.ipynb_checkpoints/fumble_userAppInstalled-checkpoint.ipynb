{
 "cells": [
  {
   "cell_type": "code",
   "execution_count": 114,
   "metadata": {
    "collapsed": false
   },
   "outputs": [
    {
     "data": {
      "text/html": [
       "<div>\n",
       "<table border=\"1\" class=\"dataframe\">\n",
       "  <thead>\n",
       "    <tr style=\"text-align: right;\">\n",
       "      <th></th>\n",
       "      <th>userID</th>\n",
       "      <th>appID</th>\n",
       "    </tr>\n",
       "  </thead>\n",
       "  <tbody>\n",
       "    <tr>\n",
       "      <th>0</th>\n",
       "      <td>1</td>\n",
       "      <td>357</td>\n",
       "    </tr>\n",
       "    <tr>\n",
       "      <th>1</th>\n",
       "      <td>1</td>\n",
       "      <td>360</td>\n",
       "    </tr>\n",
       "    <tr>\n",
       "      <th>2</th>\n",
       "      <td>1</td>\n",
       "      <td>362</td>\n",
       "    </tr>\n",
       "    <tr>\n",
       "      <th>3</th>\n",
       "      <td>1</td>\n",
       "      <td>365</td>\n",
       "    </tr>\n",
       "    <tr>\n",
       "      <th>4</th>\n",
       "      <td>1</td>\n",
       "      <td>375</td>\n",
       "    </tr>\n",
       "  </tbody>\n",
       "</table>\n",
       "</div>"
      ],
      "text/plain": [
       "   userID  appID\n",
       "0       1    357\n",
       "1       1    360\n",
       "2       1    362\n",
       "3       1    365\n",
       "4       1    375"
      ]
     },
     "execution_count": 114,
     "metadata": {},
     "output_type": "execute_result"
    }
   ],
   "source": [
    "import pandas as pd\n",
    "import numpy as np\n",
    "data = pd.read_csv(\"C:\\\\Users\\\\work\\\\Desktop\\\\tencent\\\\pre\\\\user_installedapps.csv\")\n",
    "data.head()"
   ]
  },
  {
   "cell_type": "markdown",
   "metadata": {},
   "source": [
    "# 摸数据"
   ]
  },
  {
   "cell_type": "code",
   "execution_count": 102,
   "metadata": {
    "collapsed": false
   },
   "outputs": [],
   "source": [
    "temp = data.sort_values(by='appID')"
   ]
  },
  {
   "cell_type": "code",
   "execution_count": 118,
   "metadata": {
    "collapsed": false
   },
   "outputs": [
    {
     "data": {
      "text/html": [
       "<div>\n",
       "<table border=\"1\" class=\"dataframe\">\n",
       "  <thead>\n",
       "    <tr style=\"text-align: right;\">\n",
       "      <th></th>\n",
       "      <th>userID</th>\n",
       "      <th>appID</th>\n",
       "    </tr>\n",
       "  </thead>\n",
       "  <tbody>\n",
       "    <tr>\n",
       "      <th>1</th>\n",
       "      <td>1</td>\n",
       "      <td>360</td>\n",
       "    </tr>\n",
       "    <tr>\n",
       "      <th>682</th>\n",
       "      <td>25</td>\n",
       "      <td>360</td>\n",
       "    </tr>\n",
       "    <tr>\n",
       "      <th>858</th>\n",
       "      <td>27</td>\n",
       "      <td>360</td>\n",
       "    </tr>\n",
       "    <tr>\n",
       "      <th>1041</th>\n",
       "      <td>32</td>\n",
       "      <td>360</td>\n",
       "    </tr>\n",
       "    <tr>\n",
       "      <th>1375</th>\n",
       "      <td>40</td>\n",
       "      <td>360</td>\n",
       "    </tr>\n",
       "    <tr>\n",
       "      <th>1509</th>\n",
       "      <td>42</td>\n",
       "      <td>360</td>\n",
       "    </tr>\n",
       "    <tr>\n",
       "      <th>1751</th>\n",
       "      <td>50</td>\n",
       "      <td>360</td>\n",
       "    </tr>\n",
       "    <tr>\n",
       "      <th>1853</th>\n",
       "      <td>55</td>\n",
       "      <td>360</td>\n",
       "    </tr>\n",
       "    <tr>\n",
       "      <th>3123</th>\n",
       "      <td>85</td>\n",
       "      <td>360</td>\n",
       "    </tr>\n",
       "    <tr>\n",
       "      <th>3329</th>\n",
       "      <td>90</td>\n",
       "      <td>360</td>\n",
       "    </tr>\n",
       "    <tr>\n",
       "      <th>3568</th>\n",
       "      <td>95</td>\n",
       "      <td>360</td>\n",
       "    </tr>\n",
       "    <tr>\n",
       "      <th>3668</th>\n",
       "      <td>98</td>\n",
       "      <td>360</td>\n",
       "    </tr>\n",
       "    <tr>\n",
       "      <th>4022</th>\n",
       "      <td>107</td>\n",
       "      <td>360</td>\n",
       "    </tr>\n",
       "    <tr>\n",
       "      <th>4117</th>\n",
       "      <td>109</td>\n",
       "      <td>360</td>\n",
       "    </tr>\n",
       "    <tr>\n",
       "      <th>4175</th>\n",
       "      <td>110</td>\n",
       "      <td>360</td>\n",
       "    </tr>\n",
       "    <tr>\n",
       "      <th>4253</th>\n",
       "      <td>115</td>\n",
       "      <td>360</td>\n",
       "    </tr>\n",
       "    <tr>\n",
       "      <th>4953</th>\n",
       "      <td>153</td>\n",
       "      <td>360</td>\n",
       "    </tr>\n",
       "    <tr>\n",
       "      <th>5170</th>\n",
       "      <td>157</td>\n",
       "      <td>360</td>\n",
       "    </tr>\n",
       "    <tr>\n",
       "      <th>5734</th>\n",
       "      <td>171</td>\n",
       "      <td>360</td>\n",
       "    </tr>\n",
       "    <tr>\n",
       "      <th>5912</th>\n",
       "      <td>173</td>\n",
       "      <td>360</td>\n",
       "    </tr>\n",
       "    <tr>\n",
       "      <th>6038</th>\n",
       "      <td>181</td>\n",
       "      <td>360</td>\n",
       "    </tr>\n",
       "    <tr>\n",
       "      <th>6299</th>\n",
       "      <td>188</td>\n",
       "      <td>360</td>\n",
       "    </tr>\n",
       "    <tr>\n",
       "      <th>6677</th>\n",
       "      <td>197</td>\n",
       "      <td>360</td>\n",
       "    </tr>\n",
       "    <tr>\n",
       "      <th>6723</th>\n",
       "      <td>198</td>\n",
       "      <td>360</td>\n",
       "    </tr>\n",
       "    <tr>\n",
       "      <th>6807</th>\n",
       "      <td>201</td>\n",
       "      <td>360</td>\n",
       "    </tr>\n",
       "    <tr>\n",
       "      <th>7484</th>\n",
       "      <td>232</td>\n",
       "      <td>360</td>\n",
       "    </tr>\n",
       "    <tr>\n",
       "      <th>7637</th>\n",
       "      <td>237</td>\n",
       "      <td>360</td>\n",
       "    </tr>\n",
       "    <tr>\n",
       "      <th>8084</th>\n",
       "      <td>261</td>\n",
       "      <td>360</td>\n",
       "    </tr>\n",
       "    <tr>\n",
       "      <th>8457</th>\n",
       "      <td>279</td>\n",
       "      <td>360</td>\n",
       "    </tr>\n",
       "    <tr>\n",
       "      <th>8633</th>\n",
       "      <td>284</td>\n",
       "      <td>360</td>\n",
       "    </tr>\n",
       "    <tr>\n",
       "      <th>...</th>\n",
       "      <td>...</td>\n",
       "      <td>...</td>\n",
       "    </tr>\n",
       "    <tr>\n",
       "      <th>84029276</th>\n",
       "      <td>2804806</td>\n",
       "      <td>360</td>\n",
       "    </tr>\n",
       "    <tr>\n",
       "      <th>84030331</th>\n",
       "      <td>2804841</td>\n",
       "      <td>360</td>\n",
       "    </tr>\n",
       "    <tr>\n",
       "      <th>84030654</th>\n",
       "      <td>2804849</td>\n",
       "      <td>360</td>\n",
       "    </tr>\n",
       "    <tr>\n",
       "      <th>84031142</th>\n",
       "      <td>2804865</td>\n",
       "      <td>360</td>\n",
       "    </tr>\n",
       "    <tr>\n",
       "      <th>84031778</th>\n",
       "      <td>2804887</td>\n",
       "      <td>360</td>\n",
       "    </tr>\n",
       "    <tr>\n",
       "      <th>84031946</th>\n",
       "      <td>2804891</td>\n",
       "      <td>360</td>\n",
       "    </tr>\n",
       "    <tr>\n",
       "      <th>84032078</th>\n",
       "      <td>2804895</td>\n",
       "      <td>360</td>\n",
       "    </tr>\n",
       "    <tr>\n",
       "      <th>84032245</th>\n",
       "      <td>2804898</td>\n",
       "      <td>360</td>\n",
       "    </tr>\n",
       "    <tr>\n",
       "      <th>84032743</th>\n",
       "      <td>2804909</td>\n",
       "      <td>360</td>\n",
       "    </tr>\n",
       "    <tr>\n",
       "      <th>84033677</th>\n",
       "      <td>2804936</td>\n",
       "      <td>360</td>\n",
       "    </tr>\n",
       "    <tr>\n",
       "      <th>84033871</th>\n",
       "      <td>2804941</td>\n",
       "      <td>360</td>\n",
       "    </tr>\n",
       "    <tr>\n",
       "      <th>84033964</th>\n",
       "      <td>2804946</td>\n",
       "      <td>360</td>\n",
       "    </tr>\n",
       "    <tr>\n",
       "      <th>84034121</th>\n",
       "      <td>2804950</td>\n",
       "      <td>360</td>\n",
       "    </tr>\n",
       "    <tr>\n",
       "      <th>84034226</th>\n",
       "      <td>2804951</td>\n",
       "      <td>360</td>\n",
       "    </tr>\n",
       "    <tr>\n",
       "      <th>84034307</th>\n",
       "      <td>2804952</td>\n",
       "      <td>360</td>\n",
       "    </tr>\n",
       "    <tr>\n",
       "      <th>84034360</th>\n",
       "      <td>2804954</td>\n",
       "      <td>360</td>\n",
       "    </tr>\n",
       "    <tr>\n",
       "      <th>84034447</th>\n",
       "      <td>2804957</td>\n",
       "      <td>360</td>\n",
       "    </tr>\n",
       "    <tr>\n",
       "      <th>84034732</th>\n",
       "      <td>2804962</td>\n",
       "      <td>360</td>\n",
       "    </tr>\n",
       "    <tr>\n",
       "      <th>84035073</th>\n",
       "      <td>2804971</td>\n",
       "      <td>360</td>\n",
       "    </tr>\n",
       "    <tr>\n",
       "      <th>84035535</th>\n",
       "      <td>2804992</td>\n",
       "      <td>360</td>\n",
       "    </tr>\n",
       "    <tr>\n",
       "      <th>84035877</th>\n",
       "      <td>2805002</td>\n",
       "      <td>360</td>\n",
       "    </tr>\n",
       "    <tr>\n",
       "      <th>84036682</th>\n",
       "      <td>2805025</td>\n",
       "      <td>360</td>\n",
       "    </tr>\n",
       "    <tr>\n",
       "      <th>84037152</th>\n",
       "      <td>2805042</td>\n",
       "      <td>360</td>\n",
       "    </tr>\n",
       "    <tr>\n",
       "      <th>84037296</th>\n",
       "      <td>2805043</td>\n",
       "      <td>360</td>\n",
       "    </tr>\n",
       "    <tr>\n",
       "      <th>84037860</th>\n",
       "      <td>2805080</td>\n",
       "      <td>360</td>\n",
       "    </tr>\n",
       "    <tr>\n",
       "      <th>84038015</th>\n",
       "      <td>2805087</td>\n",
       "      <td>360</td>\n",
       "    </tr>\n",
       "    <tr>\n",
       "      <th>84038170</th>\n",
       "      <td>2805089</td>\n",
       "      <td>360</td>\n",
       "    </tr>\n",
       "    <tr>\n",
       "      <th>84038286</th>\n",
       "      <td>2805094</td>\n",
       "      <td>360</td>\n",
       "    </tr>\n",
       "    <tr>\n",
       "      <th>84038375</th>\n",
       "      <td>2805095</td>\n",
       "      <td>360</td>\n",
       "    </tr>\n",
       "    <tr>\n",
       "      <th>84038952</th>\n",
       "      <td>2805117</td>\n",
       "      <td>360</td>\n",
       "    </tr>\n",
       "  </tbody>\n",
       "</table>\n",
       "<p>282777 rows × 2 columns</p>\n",
       "</div>"
      ],
      "text/plain": [
       "           userID  appID\n",
       "1               1    360\n",
       "682            25    360\n",
       "858            27    360\n",
       "1041           32    360\n",
       "1375           40    360\n",
       "1509           42    360\n",
       "1751           50    360\n",
       "1853           55    360\n",
       "3123           85    360\n",
       "3329           90    360\n",
       "3568           95    360\n",
       "3668           98    360\n",
       "4022          107    360\n",
       "4117          109    360\n",
       "4175          110    360\n",
       "4253          115    360\n",
       "4953          153    360\n",
       "5170          157    360\n",
       "5734          171    360\n",
       "5912          173    360\n",
       "6038          181    360\n",
       "6299          188    360\n",
       "6677          197    360\n",
       "6723          198    360\n",
       "6807          201    360\n",
       "7484          232    360\n",
       "7637          237    360\n",
       "8084          261    360\n",
       "8457          279    360\n",
       "8633          284    360\n",
       "...           ...    ...\n",
       "84029276  2804806    360\n",
       "84030331  2804841    360\n",
       "84030654  2804849    360\n",
       "84031142  2804865    360\n",
       "84031778  2804887    360\n",
       "84031946  2804891    360\n",
       "84032078  2804895    360\n",
       "84032245  2804898    360\n",
       "84032743  2804909    360\n",
       "84033677  2804936    360\n",
       "84033871  2804941    360\n",
       "84033964  2804946    360\n",
       "84034121  2804950    360\n",
       "84034226  2804951    360\n",
       "84034307  2804952    360\n",
       "84034360  2804954    360\n",
       "84034447  2804957    360\n",
       "84034732  2804962    360\n",
       "84035073  2804971    360\n",
       "84035535  2804992    360\n",
       "84035877  2805002    360\n",
       "84036682  2805025    360\n",
       "84037152  2805042    360\n",
       "84037296  2805043    360\n",
       "84037860  2805080    360\n",
       "84038015  2805087    360\n",
       "84038170  2805089    360\n",
       "84038286  2805094    360\n",
       "84038375  2805095    360\n",
       "84038952  2805117    360\n",
       "\n",
       "[282777 rows x 2 columns]"
      ]
     },
     "execution_count": 118,
     "metadata": {},
     "output_type": "execute_result"
    }
   ],
   "source": [
    "data[data['appID']==360]"
   ]
  },
  {
   "cell_type": "code",
   "execution_count": null,
   "metadata": {
    "collapsed": false
   },
   "outputs": [],
   "source": [
    "temp.sort_values(by='userID', axis=0,ascending=False)\n",
    "temp.head()"
   ]
  },
  {
   "cell_type": "code",
   "execution_count": null,
   "metadata": {
    "collapsed": false
   },
   "outputs": [],
   "source": [
    "temp[temp['userID']>10].count()"
   ]
  },
  {
   "cell_type": "markdown",
   "metadata": {},
   "source": [
    "# APP重合的方案（目前数据不足以应用）\n",
    "# 1. 生成文件-每个app的用户规模"
   ]
  },
  {
   "cell_type": "code",
   "execution_count": null,
   "metadata": {
    "collapsed": true
   },
   "outputs": [],
   "source": [
    "out = data.groupby(['appID']).count()"
   ]
  },
  {
   "cell_type": "code",
   "execution_count": null,
   "metadata": {
    "collapsed": false
   },
   "outputs": [],
   "source": [
    "out.rename(columns=({'userID':'scale'}), inplace=True)\n",
    "path = 'C:\\\\Users\\\\work\\\\Desktop\\\\tencent\\\\feature\\\\app-user\\\\app_userScale.csv'\n",
    "out.to_csv(path)\n",
    "read = pd.read_csv(path)"
   ]
  },
  {
   "cell_type": "code",
   "execution_count": null,
   "metadata": {
    "collapsed": false
   },
   "outputs": [],
   "source": [
    "read.set_index('appID').head()"
   ]
  },
  {
   "cell_type": "markdown",
   "metadata": {},
   "source": [
    "# 2. 生成文件-每个用户的APP数量"
   ]
  },
  {
   "cell_type": "code",
   "execution_count": null,
   "metadata": {
    "collapsed": true
   },
   "outputs": [],
   "source": [
    "out = data.groupby(['userID']).count()"
   ]
  },
  {
   "cell_type": "code",
   "execution_count": null,
   "metadata": {
    "collapsed": true
   },
   "outputs": [],
   "source": [
    "out.rename(columns=({'appID':'scale'}), inplace=True)\n",
    "path = 'C:\\\\Users\\\\work\\\\Desktop\\\\tencent\\\\feature\\\\app-user\\\\user_appScale.csv'\n",
    "out.to_csv(path)\n",
    "read = pd.read_csv(path)"
   ]
  },
  {
   "cell_type": "code",
   "execution_count": null,
   "metadata": {
    "collapsed": false
   },
   "outputs": [],
   "source": [
    "read.set_index('userID').head()"
   ]
  },
  {
   "cell_type": "markdown",
   "metadata": {},
   "source": [
    "# 3.1 生成文件-每个app所应对的userID（以数组的形式存储）"
   ]
  },
  {
   "cell_type": "code",
   "execution_count": 4,
   "metadata": {
    "collapsed": false
   },
   "outputs": [],
   "source": [
    "def getUserList(df):\n",
    "    return list(df['userID'])\n",
    "out = data.groupby('appID').apply(getUserList)"
   ]
  },
  {
   "cell_type": "code",
   "execution_count": 34,
   "metadata": {
    "collapsed": false
   },
   "outputs": [],
   "source": [
    "out.to_csv('C:\\\\Users\\\\work\\\\Desktop\\\\tencent\\\\feature\\\\app-user\\\\app_users.csv')"
   ]
  },
  {
   "cell_type": "markdown",
   "metadata": {},
   "source": [
    "# 3.2 生成文件-每个userID所对应的app（以数组的形式存储）"
   ]
  },
  {
   "cell_type": "code",
   "execution_count": 120,
   "metadata": {
    "collapsed": true
   },
   "outputs": [],
   "source": [
    "def getAppList(df):\n",
    "    return list(df['appID'])\n",
    "out = data.groupby('userID').apply(getAppList)"
   ]
  },
  {
   "cell_type": "code",
   "execution_count": 121,
   "metadata": {
    "collapsed": false
   },
   "outputs": [
    {
     "data": {
      "text/plain": [
       "userID\n",
       "1          [357, 360, 362, 365, 375, 441, 480, 481, 482, ...\n",
       "9                                            [538, 602, 604]\n",
       "10         [357, 359, 365, 383, 480, 481, 482, 483, 484, ...\n",
       "12         [480, 481, 482, 483, 484, 485, 486, 487, 488, ...\n",
       "14         [362, 480, 481, 482, 483, 484, 485, 486, 487, ...\n",
       "16         [480, 481, 482, 483, 484, 485, 486, 487, 488, ...\n",
       "17         [375, 480, 481, 482, 483, 484, 485, 486, 487, ...\n",
       "20         [356, 357, 480, 481, 482, 483, 484, 485, 486, ...\n",
       "21         [480, 481, 482, 483, 484, 485, 486, 487, 488, ...\n",
       "22         [480, 481, 482, 483, 484, 485, 486, 487, 488, ...\n",
       "24         [391, 395, 480, 481, 482, 483, 484, 485, 486, ...\n",
       "25         [357, 360, 361, 375, 377, 395, 480, 481, 482, ...\n",
       "26         [480, 481, 482, 483, 484, 485, 486, 487, 488, ...\n",
       "27         [360, 365, 383, 480, 481, 482, 483, 484, 485, ...\n",
       "28                                   [589, 2583, 3347, 3348]\n",
       "31         [362, 382, 480, 481, 482, 483, 484, 485, 486, ...\n",
       "32         [360, 375, 480, 481, 482, 483, 484, 496, 497, ...\n",
       "33         [362, 382, 480, 481, 482, 483, 484, 485, 486, ...\n",
       "34         [480, 481, 482, 483, 484, 485, 486, 487, 488, ...\n",
       "35         [383, 480, 481, 482, 483, 484, 485, 486, 487, ...\n",
       "37         [357, 362, 382, 480, 481, 482, 483, 484, 496, ...\n",
       "39         [357, 361, 365, 403, 480, 481, 482, 483, 484, ...\n",
       "40         [360, 382, 480, 481, 482, 483, 484, 485, 486, ...\n",
       "41         [382, 480, 481, 482, 483, 484, 485, 486, 487, ...\n",
       "42         [357, 360, 480, 481, 482, 483, 484, 485, 486, ...\n",
       "44         [480, 481, 482, 483, 484, 485, 486, 487, 488, ...\n",
       "45         [480, 481, 482, 483, 484, 485, 486, 487, 488, ...\n",
       "47         [382, 480, 481, 482, 483, 484, 496, 497, 498, ...\n",
       "49         [361, 480, 481, 482, 483, 484, 485, 486, 487, ...\n",
       "50         [357, 360, 375, 408, 480, 481, 482, 483, 484, ...\n",
       "                                 ...                        \n",
       "2805048    [480, 481, 482, 483, 484, 485, 486, 487, 488, ...\n",
       "2805056    [362, 382, 480, 481, 482, 483, 484, 539, 596, ...\n",
       "2805057    [361, 375, 408, 480, 481, 482, 483, 484, 485, ...\n",
       "2805058    [362, 480, 481, 482, 483, 484, 485, 486, 487, ...\n",
       "2805060    [480, 481, 482, 483, 484, 485, 486, 487, 488, ...\n",
       "2805061    [362, 480, 481, 482, 483, 484, 485, 486, 487, ...\n",
       "2805064    [480, 481, 482, 483, 484, 485, 486, 487, 488, ...\n",
       "2805065    [364, 403, 480, 481, 482, 483, 484, 485, 486, ...\n",
       "2805067    [365, 375, 480, 481, 482, 483, 484, 498, 538, ...\n",
       "2805070    [404, 480, 481, 482, 483, 484, 499, 533, 550, ...\n",
       "2805071    [480, 481, 482, 483, 484, 485, 486, 487, 488, ...\n",
       "2805080    [357, 360, 362, 480, 481, 482, 483, 484, 485, ...\n",
       "2805081    [361, 362, 480, 481, 482, 483, 484, 485, 486, ...\n",
       "2805082    [480, 481, 482, 483, 484, 485, 486, 487, 488, ...\n",
       "2805086    [480, 481, 482, 483, 484, 496, 497, 501, 502, ...\n",
       "2805087    [360, 365, 485, 486, 487, 488, 489, 490, 491, ...\n",
       "2805088    [357, 374, 382, 480, 481, 482, 483, 484, 485, ...\n",
       "2805089    [354, 357, 360, 361, 362, 375, 403, 480, 481, ...\n",
       "2805090    [480, 481, 482, 483, 484, 485, 486, 487, 488, ...\n",
       "2805094    [357, 360, 361, 362, 368, 375, 403, 480, 481, ...\n",
       "2805095    [357, 360, 361, 362, 375, 382, 480, 481, 482, ...\n",
       "2805099    [362, 365, 375, 382, 480, 481, 482, 483, 484, ...\n",
       "2805100    [375, 382, 403, 480, 481, 482, 483, 484, 485, ...\n",
       "2805101    [377, 480, 481, 482, 483, 484, 485, 486, 487, ...\n",
       "2805103    [357, 362, 363, 375, 480, 481, 482, 483, 484, ...\n",
       "2805104    [362, 480, 481, 482, 483, 484, 485, 486, 487, ...\n",
       "2805105    [480, 481, 482, 483, 484, 485, 486, 487, 488, ...\n",
       "2805107    [480, 481, 482, 483, 484, 485, 486, 487, 488, ...\n",
       "2805111    [359, 480, 481, 482, 483, 484, 485, 486, 487, ...\n",
       "2805117    [357, 360, 480, 481, 482, 483, 484, 485, 486, ...\n",
       "dtype: object"
      ]
     },
     "execution_count": 121,
     "metadata": {},
     "output_type": "execute_result"
    }
   ],
   "source": [
    "out.to_csv('C:\\\\Users\\\\work\\\\Desktop\\\\tencent\\\\feature\\\\app-user\\\\user_apps.csv')"
   ]
  },
  {
   "cell_type": "markdown",
   "metadata": {},
   "source": [
    "# 4. 生成文件-（所有）APP的用户APP数量分布"
   ]
  },
  {
   "cell_type": "code",
   "execution_count": 35,
   "metadata": {
    "collapsed": false
   },
   "outputs": [],
   "source": [
    "readAPP = pd.read_csv('C:\\\\Users\\\\work\\\\Desktop\\\\tencent\\\\feature\\\\app-user\\\\app_userScale.csv')\n",
    "readUser = pd.read_csv('C:\\\\Users\\\\work\\\\Desktop\\\\tencent\\\\feature\\\\app-user\\\\user_appScale.csv').set_index('userID')\n",
    "readAppUser = pd.read_csv('C:\\\\Users\\\\work\\\\Desktop\\\\tencent\\\\feature\\\\app-user\\\\app_users.csv', names=['users'])"
   ]
  },
  {
   "cell_type": "code",
   "execution_count": 36,
   "metadata": {
    "collapsed": false
   },
   "outputs": [
    {
     "data": {
      "text/html": [
       "<div>\n",
       "<table border=\"1\" class=\"dataframe\">\n",
       "  <thead>\n",
       "    <tr style=\"text-align: right;\">\n",
       "      <th></th>\n",
       "      <th>appID</th>\n",
       "      <th>scale</th>\n",
       "    </tr>\n",
       "  </thead>\n",
       "  <tbody>\n",
       "    <tr>\n",
       "      <th>0</th>\n",
       "      <td>354</td>\n",
       "      <td>14298</td>\n",
       "    </tr>\n",
       "    <tr>\n",
       "      <th>1</th>\n",
       "      <td>355</td>\n",
       "      <td>7278</td>\n",
       "    </tr>\n",
       "    <tr>\n",
       "      <th>2</th>\n",
       "      <td>356</td>\n",
       "      <td>8180</td>\n",
       "    </tr>\n",
       "    <tr>\n",
       "      <th>3</th>\n",
       "      <td>357</td>\n",
       "      <td>311677</td>\n",
       "    </tr>\n",
       "    <tr>\n",
       "      <th>4</th>\n",
       "      <td>358</td>\n",
       "      <td>4189</td>\n",
       "    </tr>\n",
       "  </tbody>\n",
       "</table>\n",
       "</div>"
      ],
      "text/plain": [
       "   appID   scale\n",
       "0    354   14298\n",
       "1    355    7278\n",
       "2    356    8180\n",
       "3    357  311677\n",
       "4    358    4189"
      ]
     },
     "execution_count": 36,
     "metadata": {},
     "output_type": "execute_result"
    }
   ],
   "source": [
    "readAPP.head()"
   ]
  },
  {
   "cell_type": "code",
   "execution_count": 37,
   "metadata": {
    "collapsed": false
   },
   "outputs": [
    {
     "data": {
      "text/html": [
       "<div>\n",
       "<table border=\"1\" class=\"dataframe\">\n",
       "  <thead>\n",
       "    <tr style=\"text-align: right;\">\n",
       "      <th></th>\n",
       "      <th>scale</th>\n",
       "    </tr>\n",
       "    <tr>\n",
       "      <th>userID</th>\n",
       "      <th></th>\n",
       "    </tr>\n",
       "  </thead>\n",
       "  <tbody>\n",
       "    <tr>\n",
       "      <th>1</th>\n",
       "      <td>79</td>\n",
       "    </tr>\n",
       "    <tr>\n",
       "      <th>9</th>\n",
       "      <td>3</td>\n",
       "    </tr>\n",
       "    <tr>\n",
       "      <th>10</th>\n",
       "      <td>97</td>\n",
       "    </tr>\n",
       "    <tr>\n",
       "      <th>12</th>\n",
       "      <td>38</td>\n",
       "    </tr>\n",
       "    <tr>\n",
       "      <th>14</th>\n",
       "      <td>62</td>\n",
       "    </tr>\n",
       "  </tbody>\n",
       "</table>\n",
       "</div>"
      ],
      "text/plain": [
       "        scale\n",
       "userID       \n",
       "1          79\n",
       "9           3\n",
       "10         97\n",
       "12         38\n",
       "14         62"
      ]
     },
     "execution_count": 37,
     "metadata": {},
     "output_type": "execute_result"
    }
   ],
   "source": [
    "readUser.head()"
   ]
  },
  {
   "cell_type": "code",
   "execution_count": 38,
   "metadata": {
    "collapsed": false
   },
   "outputs": [
    {
     "data": {
      "text/html": [
       "<div>\n",
       "<table border=\"1\" class=\"dataframe\">\n",
       "  <thead>\n",
       "    <tr style=\"text-align: right;\">\n",
       "      <th></th>\n",
       "      <th>users</th>\n",
       "    </tr>\n",
       "  </thead>\n",
       "  <tbody>\n",
       "    <tr>\n",
       "      <th>354</th>\n",
       "      <td>[96, 161, 473, 629, 884, 1322, 1508, 1723, 176...</td>\n",
       "    </tr>\n",
       "    <tr>\n",
       "      <th>355</th>\n",
       "      <td>[338, 560, 629, 1617, 1756, 2347, 2370, 3275, ...</td>\n",
       "    </tr>\n",
       "    <tr>\n",
       "      <th>356</th>\n",
       "      <td>[20, 401, 430, 439, 1248, 1396, 1853, 2049, 25...</td>\n",
       "    </tr>\n",
       "    <tr>\n",
       "      <th>357</th>\n",
       "      <td>[1, 10, 20, 25, 37, 39, 42, 50, 60, 64, 67, 74...</td>\n",
       "    </tr>\n",
       "    <tr>\n",
       "      <th>358</th>\n",
       "      <td>[349, 411, 425, 2033, 3425, 4235, 5066, 6218, ...</td>\n",
       "    </tr>\n",
       "  </tbody>\n",
       "</table>\n",
       "</div>"
      ],
      "text/plain": [
       "                                                 users\n",
       "354  [96, 161, 473, 629, 884, 1322, 1508, 1723, 176...\n",
       "355  [338, 560, 629, 1617, 1756, 2347, 2370, 3275, ...\n",
       "356  [20, 401, 430, 439, 1248, 1396, 1853, 2049, 25...\n",
       "357  [1, 10, 20, 25, 37, 39, 42, 50, 60, 64, 67, 74...\n",
       "358  [349, 411, 425, 2033, 3425, 4235, 5066, 6218, ..."
      ]
     },
     "execution_count": 38,
     "metadata": {},
     "output_type": "execute_result"
    }
   ],
   "source": [
    "readAppUser.head()"
   ]
  },
  {
   "cell_type": "code",
   "execution_count": 42,
   "metadata": {
    "collapsed": false
   },
   "outputs": [],
   "source": [
    "# 统计分布，并返回string格式\n",
    "## 计算分布的dict\n",
    "dict = {}\n",
    "def setDict(users):\n",
    "    for i in users:\n",
    "        scale = readUser.at[int(i), 'scale']\n",
    "        if dict.has_key(scale):\n",
    "            dict[scale] = dict[scale] + 1\n",
    "        else:\n",
    "            dict[scale] = 1\n",
    "## 统计分布\n",
    "def getDist(appID):\n",
    "    global dict\n",
    "    dict = {} #先把dict置为空\n",
    "    users = readAppUser.at[int(appID),'users'][1:-1].split(',')\n",
    "    setDict(users)\n",
    "    return dict"
   ]
  },
  {
   "cell_type": "code",
   "execution_count": 46,
   "metadata": {
    "collapsed": false
   },
   "outputs": [],
   "source": [
    "readAPP['distribution'] = readAPP['appID'].apply(getDist)"
   ]
  },
  {
   "cell_type": "code",
   "execution_count": 53,
   "metadata": {
    "collapsed": false
   },
   "outputs": [
    {
     "data": {
      "text/html": [
       "<div>\n",
       "<table border=\"1\" class=\"dataframe\">\n",
       "  <thead>\n",
       "    <tr style=\"text-align: right;\">\n",
       "      <th></th>\n",
       "      <th>appID</th>\n",
       "      <th>scale</th>\n",
       "      <th>distribution</th>\n",
       "    </tr>\n",
       "  </thead>\n",
       "  <tbody>\n",
       "    <tr>\n",
       "      <th>0</th>\n",
       "      <td>354</td>\n",
       "      <td>14298</td>\n",
       "      <td>{2: 2, 3: 2, 4: 3, 5: 3, 6: 2, 7: 4, 8: 2, 9: ...</td>\n",
       "    </tr>\n",
       "    <tr>\n",
       "      <th>1</th>\n",
       "      <td>355</td>\n",
       "      <td>7278</td>\n",
       "      <td>{1: 2, 2: 1, 3: 2, 4: 1, 5: 1, 6: 1, 7: 4, 8: ...</td>\n",
       "    </tr>\n",
       "    <tr>\n",
       "      <th>2</th>\n",
       "      <td>356</td>\n",
       "      <td>8180</td>\n",
       "      <td>{3: 5, 4: 1, 5: 2, 8: 2, 10: 2, 12: 2, 13: 1, ...</td>\n",
       "    </tr>\n",
       "    <tr>\n",
       "      <th>3</th>\n",
       "      <td>357</td>\n",
       "      <td>311677</td>\n",
       "      <td>{6: 25, 7: 12, 8: 24, 9: 26, 10: 31, 11: 34, 1...</td>\n",
       "    </tr>\n",
       "    <tr>\n",
       "      <th>4</th>\n",
       "      <td>358</td>\n",
       "      <td>4189</td>\n",
       "      <td>{2: 7, 3: 2, 4: 1, 5: 1, 6: 2, 7: 1, 8: 3, 9: ...</td>\n",
       "    </tr>\n",
       "  </tbody>\n",
       "</table>\n",
       "</div>"
      ],
      "text/plain": [
       "   appID   scale                                       distribution\n",
       "0    354   14298  {2: 2, 3: 2, 4: 3, 5: 3, 6: 2, 7: 4, 8: 2, 9: ...\n",
       "1    355    7278  {1: 2, 2: 1, 3: 2, 4: 1, 5: 1, 6: 1, 7: 4, 8: ...\n",
       "2    356    8180  {3: 5, 4: 1, 5: 2, 8: 2, 10: 2, 12: 2, 13: 1, ...\n",
       "3    357  311677  {6: 25, 7: 12, 8: 24, 9: 26, 10: 31, 11: 34, 1...\n",
       "4    358    4189  {2: 7, 3: 2, 4: 1, 5: 1, 6: 2, 7: 1, 8: 3, 9: ..."
      ]
     },
     "execution_count": 53,
     "metadata": {},
     "output_type": "execute_result"
    }
   ],
   "source": [
    "readAPP.head()"
   ]
  },
  {
   "cell_type": "code",
   "execution_count": 56,
   "metadata": {
    "collapsed": false
   },
   "outputs": [],
   "source": [
    "readAPP[['appID', 'distribution']].to_csv('C:\\\\Users\\\\work\\\\Desktop\\\\tencent\\\\feature\\\\app-user\\\\app_userDistribution.csv',index=False)"
   ]
  },
  {
   "cell_type": "markdown",
   "metadata": {},
   "source": [
    "# 5. 生成文件-（所有app→50）APP期望共现"
   ]
  },
  {
   "cell_type": "code",
   "execution_count": 71,
   "metadata": {
    "collapsed": false
   },
   "outputs": [],
   "source": [
    "# 获得训练样本中APP及其Scale\n",
    "dataTrain = pd.read_csv('C:\\\\Users\\\\work\\\\Desktop\\\\tencent\\\\pre\\\\train.csv')\n",
    "dataTrain = pd.merge(dataTrain, pd.read_csv('C:\\\\Users\\\\work\\\\Desktop\\\\tencent\\\\pre\\\\ad.csv'), on='creativeID')\n",
    "readAppScale = pd.read_csv('C:\\\\Users\\\\work\\\\Desktop\\\\tencent\\\\feature\\\\app-user\\\\app_userScale.csv').set_index('appID')\n",
    "dataTrain = dataTrain[['appID','label']].groupby(['appID']).count()\n",
    "dataTrain.reset_index(inplace = True)"
   ]
  },
  {
   "cell_type": "code",
   "execution_count": 112,
   "metadata": {
    "collapsed": false
   },
   "outputs": [],
   "source": [
    "dataTrain = pd.read_csv('C:\\\\Users\\\\work\\\\Desktop\\\\tencent\\\\pre\\\\train.csv')"
   ]
  },
  {
   "cell_type": "code",
   "execution_count": 93,
   "metadata": {
    "collapsed": false
   },
   "outputs": [
    {
     "ename": "KeyError",
     "evalue": "14L",
     "output_type": "error",
     "traceback": [
      "\u001b[0;31m---------------------------------------------------------------------------\u001b[0m",
      "\u001b[0;31mKeyError\u001b[0m                                  Traceback (most recent call last)",
      "\u001b[0;32m<ipython-input-93-c66658b908c6>\u001b[0m in \u001b[0;36m<module>\u001b[0;34m()\u001b[0m\n\u001b[0;32m----> 1\u001b[0;31m \u001b[0mdataTrain\u001b[0m\u001b[1;33m[\u001b[0m\u001b[1;34m'scale'\u001b[0m\u001b[1;33m]\u001b[0m \u001b[1;33m=\u001b[0m \u001b[0mdataTrain\u001b[0m\u001b[1;33m[\u001b[0m\u001b[1;34m'appID'\u001b[0m\u001b[1;33m]\u001b[0m\u001b[1;33m.\u001b[0m\u001b[0mapply\u001b[0m\u001b[1;33m(\u001b[0m\u001b[1;32mlambda\u001b[0m \u001b[0mx\u001b[0m\u001b[1;33m:\u001b[0m \u001b[0mreadAppScale\u001b[0m\u001b[1;33m.\u001b[0m\u001b[0mat\u001b[0m\u001b[1;33m[\u001b[0m\u001b[0mx\u001b[0m\u001b[1;33m,\u001b[0m\u001b[1;34m'scale'\u001b[0m\u001b[1;33m]\u001b[0m\u001b[1;33m)\u001b[0m\u001b[1;33m\u001b[0m\u001b[0m\n\u001b[0m",
      "\u001b[0;32mC:\\Users\\work\\Anaconda2\\lib\\site-packages\\pandas\\core\\series.pyc\u001b[0m in \u001b[0;36mapply\u001b[0;34m(self, func, convert_dtype, args, **kwds)\u001b[0m\n\u001b[1;32m   2218\u001b[0m         \u001b[1;32melse\u001b[0m\u001b[1;33m:\u001b[0m\u001b[1;33m\u001b[0m\u001b[0m\n\u001b[1;32m   2219\u001b[0m             \u001b[0mvalues\u001b[0m \u001b[1;33m=\u001b[0m \u001b[0mself\u001b[0m\u001b[1;33m.\u001b[0m\u001b[0masobject\u001b[0m\u001b[1;33m\u001b[0m\u001b[0m\n\u001b[0;32m-> 2220\u001b[0;31m             \u001b[0mmapped\u001b[0m \u001b[1;33m=\u001b[0m \u001b[0mlib\u001b[0m\u001b[1;33m.\u001b[0m\u001b[0mmap_infer\u001b[0m\u001b[1;33m(\u001b[0m\u001b[0mvalues\u001b[0m\u001b[1;33m,\u001b[0m \u001b[0mf\u001b[0m\u001b[1;33m,\u001b[0m \u001b[0mconvert\u001b[0m\u001b[1;33m=\u001b[0m\u001b[0mconvert_dtype\u001b[0m\u001b[1;33m)\u001b[0m\u001b[1;33m\u001b[0m\u001b[0m\n\u001b[0m\u001b[1;32m   2221\u001b[0m \u001b[1;33m\u001b[0m\u001b[0m\n\u001b[1;32m   2222\u001b[0m         \u001b[1;32mif\u001b[0m \u001b[0mlen\u001b[0m\u001b[1;33m(\u001b[0m\u001b[0mmapped\u001b[0m\u001b[1;33m)\u001b[0m \u001b[1;32mand\u001b[0m \u001b[0misinstance\u001b[0m\u001b[1;33m(\u001b[0m\u001b[0mmapped\u001b[0m\u001b[1;33m[\u001b[0m\u001b[1;36m0\u001b[0m\u001b[1;33m]\u001b[0m\u001b[1;33m,\u001b[0m \u001b[0mSeries\u001b[0m\u001b[1;33m)\u001b[0m\u001b[1;33m:\u001b[0m\u001b[1;33m\u001b[0m\u001b[0m\n",
      "\u001b[0;32mpandas\\src\\inference.pyx\u001b[0m in \u001b[0;36mpandas.lib.map_infer (pandas\\lib.c:62658)\u001b[0;34m()\u001b[0m\n",
      "\u001b[0;32m<ipython-input-93-c66658b908c6>\u001b[0m in \u001b[0;36m<lambda>\u001b[0;34m(x)\u001b[0m\n\u001b[0;32m----> 1\u001b[0;31m \u001b[0mdataTrain\u001b[0m\u001b[1;33m[\u001b[0m\u001b[1;34m'scale'\u001b[0m\u001b[1;33m]\u001b[0m \u001b[1;33m=\u001b[0m \u001b[0mdataTrain\u001b[0m\u001b[1;33m[\u001b[0m\u001b[1;34m'appID'\u001b[0m\u001b[1;33m]\u001b[0m\u001b[1;33m.\u001b[0m\u001b[0mapply\u001b[0m\u001b[1;33m(\u001b[0m\u001b[1;32mlambda\u001b[0m \u001b[0mx\u001b[0m\u001b[1;33m:\u001b[0m \u001b[0mreadAppScale\u001b[0m\u001b[1;33m.\u001b[0m\u001b[0mat\u001b[0m\u001b[1;33m[\u001b[0m\u001b[0mx\u001b[0m\u001b[1;33m,\u001b[0m\u001b[1;34m'scale'\u001b[0m\u001b[1;33m]\u001b[0m\u001b[1;33m)\u001b[0m\u001b[1;33m\u001b[0m\u001b[0m\n\u001b[0m",
      "\u001b[0;32mC:\\Users\\work\\Anaconda2\\lib\\site-packages\\pandas\\core\\indexing.pyc\u001b[0m in \u001b[0;36m__getitem__\u001b[0;34m(self, key)\u001b[0m\n\u001b[1;32m   1647\u001b[0m \u001b[1;33m\u001b[0m\u001b[0m\n\u001b[1;32m   1648\u001b[0m         \u001b[0mkey\u001b[0m \u001b[1;33m=\u001b[0m \u001b[0mself\u001b[0m\u001b[1;33m.\u001b[0m\u001b[0m_convert_key\u001b[0m\u001b[1;33m(\u001b[0m\u001b[0mkey\u001b[0m\u001b[1;33m)\u001b[0m\u001b[1;33m\u001b[0m\u001b[0m\n\u001b[0;32m-> 1649\u001b[0;31m         \u001b[1;32mreturn\u001b[0m \u001b[0mself\u001b[0m\u001b[1;33m.\u001b[0m\u001b[0mobj\u001b[0m\u001b[1;33m.\u001b[0m\u001b[0mget_value\u001b[0m\u001b[1;33m(\u001b[0m\u001b[1;33m*\u001b[0m\u001b[0mkey\u001b[0m\u001b[1;33m,\u001b[0m \u001b[0mtakeable\u001b[0m\u001b[1;33m=\u001b[0m\u001b[0mself\u001b[0m\u001b[1;33m.\u001b[0m\u001b[0m_takeable\u001b[0m\u001b[1;33m)\u001b[0m\u001b[1;33m\u001b[0m\u001b[0m\n\u001b[0m\u001b[1;32m   1650\u001b[0m \u001b[1;33m\u001b[0m\u001b[0m\n\u001b[1;32m   1651\u001b[0m     \u001b[1;32mdef\u001b[0m \u001b[0m__setitem__\u001b[0m\u001b[1;33m(\u001b[0m\u001b[0mself\u001b[0m\u001b[1;33m,\u001b[0m \u001b[0mkey\u001b[0m\u001b[1;33m,\u001b[0m \u001b[0mvalue\u001b[0m\u001b[1;33m)\u001b[0m\u001b[1;33m:\u001b[0m\u001b[1;33m\u001b[0m\u001b[0m\n",
      "\u001b[0;32mC:\\Users\\work\\Anaconda2\\lib\\site-packages\\pandas\\core\\frame.pyc\u001b[0m in \u001b[0;36mget_value\u001b[0;34m(self, index, col, takeable)\u001b[0m\n\u001b[1;32m   1836\u001b[0m         \u001b[0mseries\u001b[0m \u001b[1;33m=\u001b[0m \u001b[0mself\u001b[0m\u001b[1;33m.\u001b[0m\u001b[0m_get_item_cache\u001b[0m\u001b[1;33m(\u001b[0m\u001b[0mcol\u001b[0m\u001b[1;33m)\u001b[0m\u001b[1;33m\u001b[0m\u001b[0m\n\u001b[1;32m   1837\u001b[0m         \u001b[0mengine\u001b[0m \u001b[1;33m=\u001b[0m \u001b[0mself\u001b[0m\u001b[1;33m.\u001b[0m\u001b[0mindex\u001b[0m\u001b[1;33m.\u001b[0m\u001b[0m_engine\u001b[0m\u001b[1;33m\u001b[0m\u001b[0m\n\u001b[0;32m-> 1838\u001b[0;31m         \u001b[1;32mreturn\u001b[0m \u001b[0mengine\u001b[0m\u001b[1;33m.\u001b[0m\u001b[0mget_value\u001b[0m\u001b[1;33m(\u001b[0m\u001b[0mseries\u001b[0m\u001b[1;33m.\u001b[0m\u001b[0mget_values\u001b[0m\u001b[1;33m(\u001b[0m\u001b[1;33m)\u001b[0m\u001b[1;33m,\u001b[0m \u001b[0mindex\u001b[0m\u001b[1;33m)\u001b[0m\u001b[1;33m\u001b[0m\u001b[0m\n\u001b[0m\u001b[1;32m   1839\u001b[0m \u001b[1;33m\u001b[0m\u001b[0m\n\u001b[1;32m   1840\u001b[0m     \u001b[1;32mdef\u001b[0m \u001b[0mset_value\u001b[0m\u001b[1;33m(\u001b[0m\u001b[0mself\u001b[0m\u001b[1;33m,\u001b[0m \u001b[0mindex\u001b[0m\u001b[1;33m,\u001b[0m \u001b[0mcol\u001b[0m\u001b[1;33m,\u001b[0m \u001b[0mvalue\u001b[0m\u001b[1;33m,\u001b[0m \u001b[0mtakeable\u001b[0m\u001b[1;33m=\u001b[0m\u001b[0mFalse\u001b[0m\u001b[1;33m)\u001b[0m\u001b[1;33m:\u001b[0m\u001b[1;33m\u001b[0m\u001b[0m\n",
      "\u001b[0;32mpandas\\index.pyx\u001b[0m in \u001b[0;36mpandas.index.IndexEngine.get_value (pandas\\index.c:3332)\u001b[0;34m()\u001b[0m\n",
      "\u001b[0;32mpandas\\index.pyx\u001b[0m in \u001b[0;36mpandas.index.IndexEngine.get_value (pandas\\index.c:3035)\u001b[0;34m()\u001b[0m\n",
      "\u001b[0;32mpandas\\index.pyx\u001b[0m in \u001b[0;36mpandas.index.IndexEngine.get_loc (pandas\\index.c:4018)\u001b[0;34m()\u001b[0m\n",
      "\u001b[0;32mpandas\\hashtable.pyx\u001b[0m in \u001b[0;36mpandas.hashtable.Int64HashTable.get_item (pandas\\hashtable.c:6610)\u001b[0;34m()\u001b[0m\n",
      "\u001b[0;32mpandas\\hashtable.pyx\u001b[0m in \u001b[0;36mpandas.hashtable.Int64HashTable.get_item (pandas\\hashtable.c:6554)\u001b[0;34m()\u001b[0m\n",
      "\u001b[0;31mKeyError\u001b[0m: 14L"
     ]
    }
   ],
   "source": [
    "dataTrain['scale'] = dataTrain['appID'].apply(lambda x: readAppScale.at[x,'scale'])"
   ]
  },
  {
   "cell_type": "code",
   "execution_count": 104,
   "metadata": {
    "collapsed": false,
    "scrolled": true
   },
   "outputs": [
    {
     "data": {
      "text/plain": [
       "array([ 14,  25,  68,  75,  83,  84,  88, 100, 105, 109, 113, 116, 123,\n",
       "       127, 137, 146, 150, 160, 195, 198, 205, 206, 218, 229, 262, 271,\n",
       "       278, 283, 284, 286, 293, 304, 319, 327, 328, 336, 350, 356, 360,\n",
       "       383, 389, 391, 419, 420, 421, 428, 434, 442, 465, 472], dtype=int64)"
      ]
     },
     "execution_count": 104,
     "metadata": {},
     "output_type": "execute_result"
    }
   ],
   "source": [
    "dataTrain['appID'].values"
   ]
  },
  {
   "cell_type": "code",
   "execution_count": 108,
   "metadata": {
    "collapsed": false
   },
   "outputs": [
    {
     "data": {
      "text/plain": [
       "array([   354,    355,    356, ..., 433259, 433268, 433269], dtype=int64)"
      ]
     },
     "execution_count": 108,
     "metadata": {},
     "output_type": "execute_result"
    }
   ],
   "source": [
    "readAPP['appID'].values"
   ]
  },
  {
   "cell_type": "code",
   "execution_count": 110,
   "metadata": {
    "collapsed": false
   },
   "outputs": [
    {
     "data": {
      "text/plain": [
       "array([356, 360, 383, 389, 391, 419, 420, 421, 428, 434, 442, 465], dtype=int64)"
      ]
     },
     "execution_count": 110,
     "metadata": {},
     "output_type": "execute_result"
    }
   ],
   "source": [
    "np.intersect1d(dataTrain['appID'].values, readAPP['appID'].values)"
   ]
  },
  {
   "cell_type": "code",
   "execution_count": 59,
   "metadata": {
    "collapsed": true
   },
   "outputs": [],
   "source": [
    "readApp_userDistribution = pd.read_csv('C:\\\\Users\\\\work\\\\Desktop\\\\tencent\\\\feature\\\\app-user\\\\app_userDistribution.csv').set_index('appID')"
   ]
  },
  {
   "cell_type": "code",
   "execution_count": 65,
   "metadata": {
    "collapsed": false
   },
   "outputs": [],
   "source": [
    "dict = eval(readApp_userDistribution.at[354,'distribution'])"
   ]
  },
  {
   "cell_type": "code",
   "execution_count": 68,
   "metadata": {
    "collapsed": false
   },
   "outputs": [
    {
     "data": {
      "text/plain": [
       "{2: 2,\n",
       " 3: 2,\n",
       " 4: 3,\n",
       " 5: 3,\n",
       " 6: 2,\n",
       " 7: 4,\n",
       " 8: 2,\n",
       " 9: 4,\n",
       " 10: 4,\n",
       " 11: 5,\n",
       " 12: 3,\n",
       " 13: 6,\n",
       " 14: 7,\n",
       " 15: 12,\n",
       " 16: 1,\n",
       " 17: 5,\n",
       " 18: 6,\n",
       " 19: 9,\n",
       " 20: 9,\n",
       " 21: 9,\n",
       " 22: 5,\n",
       " 23: 2,\n",
       " 24: 12,\n",
       " 25: 15,\n",
       " 26: 15,\n",
       " 27: 14,\n",
       " 28: 18,\n",
       " 29: 20,\n",
       " 30: 15,\n",
       " 31: 20,\n",
       " 32: 33,\n",
       " 33: 26,\n",
       " 34: 23,\n",
       " 35: 16,\n",
       " 36: 35,\n",
       " 37: 37,\n",
       " 38: 43,\n",
       " 39: 40,\n",
       " 40: 60,\n",
       " 41: 61,\n",
       " 42: 47,\n",
       " 43: 83,\n",
       " 44: 70,\n",
       " 45: 73,\n",
       " 46: 96,\n",
       " 47: 80,\n",
       " 48: 113,\n",
       " 49: 87,\n",
       " 50: 112,\n",
       " 51: 100,\n",
       " 52: 124,\n",
       " 53: 142,\n",
       " 54: 122,\n",
       " 55: 144,\n",
       " 56: 134,\n",
       " 57: 154,\n",
       " 58: 155,\n",
       " 59: 137,\n",
       " 60: 180,\n",
       " 61: 174,\n",
       " 62: 169,\n",
       " 63: 168,\n",
       " 64: 153,\n",
       " 65: 183,\n",
       " 66: 167,\n",
       " 67: 177,\n",
       " 68: 207,\n",
       " 69: 195,\n",
       " 70: 212,\n",
       " 71: 190,\n",
       " 72: 216,\n",
       " 73: 191,\n",
       " 74: 206,\n",
       " 75: 221,\n",
       " 76: 163,\n",
       " 77: 181,\n",
       " 78: 211,\n",
       " 79: 201,\n",
       " 80: 212,\n",
       " 81: 197,\n",
       " 82: 202,\n",
       " 83: 178,\n",
       " 84: 213,\n",
       " 85: 186,\n",
       " 86: 198,\n",
       " 87: 180,\n",
       " 88: 158,\n",
       " 89: 164,\n",
       " 90: 154,\n",
       " 91: 174,\n",
       " 92: 172,\n",
       " 93: 146,\n",
       " 94: 142,\n",
       " 95: 174,\n",
       " 96: 140,\n",
       " 97: 139,\n",
       " 98: 151,\n",
       " 99: 146,\n",
       " 100: 155,\n",
       " 101: 156,\n",
       " 102: 123,\n",
       " 103: 126,\n",
       " 104: 125,\n",
       " 105: 108,\n",
       " 106: 129,\n",
       " 107: 124,\n",
       " 108: 122,\n",
       " 109: 106,\n",
       " 110: 98,\n",
       " 111: 99,\n",
       " 112: 112,\n",
       " 113: 98,\n",
       " 114: 100,\n",
       " 115: 96,\n",
       " 116: 93,\n",
       " 117: 101,\n",
       " 118: 82,\n",
       " 119: 90,\n",
       " 120: 81,\n",
       " 121: 90,\n",
       " 122: 80,\n",
       " 123: 78,\n",
       " 124: 65,\n",
       " 125: 81,\n",
       " 126: 70,\n",
       " 127: 70,\n",
       " 128: 52,\n",
       " 129: 46,\n",
       " 130: 63,\n",
       " 131: 56,\n",
       " 132: 45,\n",
       " 133: 55,\n",
       " 134: 43,\n",
       " 135: 43,\n",
       " 136: 44,\n",
       " 137: 35,\n",
       " 138: 32,\n",
       " 139: 44,\n",
       " 140: 41,\n",
       " 141: 34,\n",
       " 142: 34,\n",
       " 143: 35,\n",
       " 144: 36,\n",
       " 145: 32,\n",
       " 146: 24,\n",
       " 147: 24,\n",
       " 148: 33,\n",
       " 149: 32,\n",
       " 150: 30,\n",
       " 151: 30,\n",
       " 152: 22,\n",
       " 153: 21,\n",
       " 154: 19,\n",
       " 155: 19,\n",
       " 156: 18,\n",
       " 157: 16,\n",
       " 158: 24,\n",
       " 159: 28,\n",
       " 160: 13,\n",
       " 161: 18,\n",
       " 162: 12,\n",
       " 163: 16,\n",
       " 164: 13,\n",
       " 165: 13,\n",
       " 166: 18,\n",
       " 167: 16,\n",
       " 168: 14,\n",
       " 169: 15,\n",
       " 170: 13,\n",
       " 171: 6,\n",
       " 172: 12,\n",
       " 173: 8,\n",
       " 174: 10,\n",
       " 175: 8,\n",
       " 176: 5,\n",
       " 177: 13,\n",
       " 178: 11,\n",
       " 179: 12,\n",
       " 180: 9,\n",
       " 181: 11,\n",
       " 182: 11,\n",
       " 183: 12,\n",
       " 184: 7,\n",
       " 185: 9,\n",
       " 186: 8,\n",
       " 187: 4,\n",
       " 188: 6,\n",
       " 189: 2,\n",
       " 190: 4,\n",
       " 191: 6,\n",
       " 192: 9,\n",
       " 193: 9,\n",
       " 194: 4,\n",
       " 195: 6,\n",
       " 196: 1,\n",
       " 197: 5,\n",
       " 198: 3,\n",
       " 199: 5,\n",
       " 200: 3,\n",
       " 201: 4,\n",
       " 202: 7,\n",
       " 203: 6,\n",
       " 204: 7,\n",
       " 205: 3,\n",
       " 206: 4,\n",
       " 207: 3,\n",
       " 208: 5,\n",
       " 209: 7,\n",
       " 210: 1,\n",
       " 211: 1,\n",
       " 212: 2,\n",
       " 213: 3,\n",
       " 214: 4,\n",
       " 215: 4,\n",
       " 216: 4,\n",
       " 217: 2,\n",
       " 218: 2,\n",
       " 219: 5,\n",
       " 220: 1,\n",
       " 221: 2,\n",
       " 222: 3,\n",
       " 223: 3,\n",
       " 224: 3,\n",
       " 225: 3,\n",
       " 226: 3,\n",
       " 227: 3,\n",
       " 228: 3,\n",
       " 229: 2,\n",
       " 230: 1,\n",
       " 231: 3,\n",
       " 232: 4,\n",
       " 236: 3,\n",
       " 239: 4,\n",
       " 240: 2,\n",
       " 241: 2,\n",
       " 242: 2,\n",
       " 243: 3,\n",
       " 244: 1,\n",
       " 245: 1,\n",
       " 248: 2,\n",
       " 250: 1,\n",
       " 252: 3,\n",
       " 253: 2,\n",
       " 254: 1,\n",
       " 256: 1,\n",
       " 260: 1,\n",
       " 261: 1,\n",
       " 262: 1,\n",
       " 264: 3,\n",
       " 272: 1,\n",
       " 276: 2,\n",
       " 277: 1,\n",
       " 278: 1,\n",
       " 284: 1,\n",
       " 287: 1,\n",
       " 288: 2,\n",
       " 289: 1,\n",
       " 293: 1,\n",
       " 300: 1,\n",
       " 304: 1,\n",
       " 307: 1,\n",
       " 309: 1,\n",
       " 316: 1,\n",
       " 319: 2,\n",
       " 323: 1,\n",
       " 326: 2,\n",
       " 331: 2,\n",
       " 332: 1,\n",
       " 335: 2,\n",
       " 336: 1,\n",
       " 343: 1,\n",
       " 344: 1,\n",
       " 385: 1,\n",
       " 400: 1,\n",
       " 411: 1,\n",
       " 426: 1,\n",
       " 445: 2,\n",
       " 480: 1}"
      ]
     },
     "execution_count": 68,
     "metadata": {},
     "output_type": "execute_result"
    }
   ],
   "source": [
    "dict"
   ]
  },
  {
   "cell_type": "markdown",
   "metadata": {},
   "source": [
    "# 4. 生成文件-（所有app→50）APP实际共现"
   ]
  },
  {
   "cell_type": "markdown",
   "metadata": {},
   "source": [
    "# 5. 生成文件-（用户→50）正票数"
   ]
  },
  {
   "cell_type": "markdown",
   "metadata": {},
   "source": [
    "# 6. 生成文件-（用户→50）负票数"
   ]
  },
  {
   "cell_type": "code",
   "execution_count": null,
   "metadata": {
    "collapsed": true
   },
   "outputs": [],
   "source": []
  }
 ],
 "metadata": {
  "anaconda-cloud": {},
  "kernelspec": {
   "display_name": "Python [default]",
   "language": "python",
   "name": "python2"
  },
  "language_info": {
   "codemirror_mode": {
    "name": "ipython",
    "version": 2
   },
   "file_extension": ".py",
   "mimetype": "text/x-python",
   "name": "python",
   "nbconvert_exporter": "python",
   "pygments_lexer": "ipython2",
   "version": "2.7.12"
  }
 },
 "nbformat": 4,
 "nbformat_minor": 0
}
