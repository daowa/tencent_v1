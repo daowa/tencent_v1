{
 "cells": [
  {
   "cell_type": "code",
   "execution_count": 2,
   "metadata": {
    "collapsed": false
   },
   "outputs": [],
   "source": [
    "import numpy as np\n",
    "import pandas as pd\n",
    "from scipy.stats import pearsonr"
   ]
  },
  {
   "cell_type": "code",
   "execution_count": 3,
   "metadata": {
    "collapsed": true
   },
   "outputs": [],
   "source": [
    "dataTrain = pd.read_csv('E:\\\\work\\\\kaggle\\\\data\\\\tecent\\\\pre\\\\train.csv')\n",
    "dataTest = pd.read_csv('E:\\\\work\\\\kaggle\\\\data\\\\tecent\\\\pre\\\\test.csv')\n",
    "dataCreative = pd.read_csv('E:\\\\work\\\\kaggle\\\\data\\\\tecent\\\\pre\\\\ad.csv')\n",
    "dataTrain = pd.merge(dataTrain, dataCreative, on='creativeID')\n",
    "dataTest = pd.merge(dataTest, dataCreative, on='creativeID')"
   ]
  },
  {
   "cell_type": "code",
   "execution_count": 4,
   "metadata": {
    "collapsed": false
   },
   "outputs": [],
   "source": [
    "# 观察训练集和测试的重合程度\n",
    "def overlap(field):\n",
    "    trainCount = dataTrain[field].drop_duplicates().count();\n",
    "    testCount = dataTest[field].drop_duplicates().count();\n",
    "    allCount = dataTrain[field].drop_duplicates().append(dataTest[field].drop_duplicates()).drop_duplicates().count()\n",
    "    overlapCount = trainCount + testCount - allCount\n",
    "    monopolizeTrain = trainCount - overlapCount\n",
    "    monopolizeTest = testCount - overlapCount\n",
    "    print \"overlap:\" + field\n",
    "    print \"trainCount:\" + str(trainCount) + \"|testCount:\" + str(testCount) + \"|allCount:\" + str(allCount)\n",
    "    print \"overlap:\" + str(overlapCount) + \"|monopolizeTrain:\" + str(monopolizeTrain) + \"|monopolizeTest:\" + str(monopolizeTest)"
   ]
  },
  {
   "cell_type": "code",
   "execution_count": 5,
   "metadata": {
    "collapsed": false
   },
   "outputs": [
    {
     "name": "stdout",
     "output_type": "stream",
     "text": [
      "overlap:userID\n",
      "trainCount:2595627|testCount:297466|allCount:2805118\n",
      "overlap:87975|monopolizeTrain:2507652|monopolizeTest:209491\n"
     ]
    }
   ],
   "source": [
    "overlap('userID')"
   ]
  },
  {
   "cell_type": "code",
   "execution_count": 55,
   "metadata": {
    "collapsed": false
   },
   "outputs": [],
   "source": [
    "# 观察今日CVR与前N日CVR的相关性，即CVR的稳定性为几天\n",
    "def cvr_by_time(field):\n",
    "    return dataTrain[['label','date',field]].groupby([field,'date']).sum()/dataTrain[['label','date',field]].groupby([field,'date']).count()\n",
    "# 计算不同N下当日CVR与前N日平均CVR的相关系数\n",
    "def nAvg(x, N):\n",
    "    avg = 0.02487299735\n",
    "    # 第一种情况，之前无投放，直接用平均CVR代替\n",
    "    if ((x[0], x[1]-1) in se.index) is False:\n",
    "        return avg\n",
    "    #第二种情况，之前有不到M天的投放，则用这些天数的平均值\n",
    "    count = 0;\n",
    "    amount = 0;\n",
    "    for i in range(N):\n",
    "        if ((x[0], x[1]-1-i) in se.index) is False:\n",
    "            break\n",
    "        count = count+1\n",
    "        amount += se['label'][x[0], x[1]-1-i]\n",
    "    return amount/count\n",
    "def getPearsonr(N):\n",
    "    # 计算不同N下的皮尔森相关系数\n",
    "    for i in range(N):\n",
    "        se['avgLastN'] = pd.Series(se.reset_index().apply(nAvg, args=(i+1,), axis=1).values, index=se.index)\n",
    "        print i+1\n",
    "        print pearsonr(se['label'], se['avgLastN'])\n",
    "        print \"##########\""
   ]
  },
  {
   "cell_type": "code",
   "execution_count": 56,
   "metadata": {
    "collapsed": false
   },
   "outputs": [
    {
     "name": "stdout",
     "output_type": "stream",
     "text": [
      "1\n",
      "(0.74168643491139674, 2.0340330838880036e-88)\n",
      "##########\n",
      "2\n",
      "(0.64805943520373521, 6.8771428427641027e-61)\n",
      "##########\n",
      "3\n",
      "(0.58318144937390537, 6.8484056559325451e-47)\n",
      "##########\n",
      "4\n",
      "(0.58567573338813284, 2.264304853928902e-47)\n",
      "##########\n",
      "5\n",
      "(0.61456626433850081, 2.9546972599292097e-53)\n",
      "##########\n",
      "6\n",
      "(0.61970783280368691, 2.2829680965776192e-54)\n",
      "##########\n",
      "7\n",
      "(0.61161242083289458, 1.2593551687478645e-52)\n",
      "##########\n",
      "8\n",
      "(0.59943872087058203, 4.2299337076432025e-50)\n",
      "##########\n",
      "9\n",
      "(0.59805923102281378, 8.0499816668861587e-50)\n",
      "##########\n",
      "10\n",
      "(0.60204922361773794, 1.2409622846319068e-50)\n",
      "##########\n"
     ]
    }
   ],
   "source": [
    "# 先根据日期统计数据\n",
    "dataTrain['date'] = dataTrain['clickTime'].apply(lambda x: int(x/10000))\n",
    "se = cvr_by_time('appID')\n",
    "getPearsonr(10)"
   ]
  }
 ],
 "metadata": {
  "kernelspec": {
   "display_name": "Python 2",
   "language": "python",
   "name": "python2"
  },
  "language_info": {
   "codemirror_mode": {
    "name": "ipython",
    "version": 2
   },
   "file_extension": ".py",
   "mimetype": "text/x-python",
   "name": "python",
   "nbconvert_exporter": "python",
   "pygments_lexer": "ipython2",
   "version": "2.7.11"
  }
 },
 "nbformat": 4,
 "nbformat_minor": 0
}
