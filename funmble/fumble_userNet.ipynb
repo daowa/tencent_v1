{
 "cells": [
  {
   "cell_type": "markdown",
   "metadata": {},
   "source": [
    "# 用户的重合度方案"
   ]
  },
  {
   "cell_type": "code",
   "execution_count": null,
   "metadata": {
    "collapsed": false
   },
   "outputs": [],
   "source": [
    "import pandas as pd\n",
    "import numpy as np\n",
    "data = pd.read_csv(\"C:\\\\Users\\\\work\\\\Desktop\\\\tencent\\\\pre\\\\user_installedapps.csv\")\n",
    "data.head()"
   ]
  },
  {
   "cell_type": "markdown",
   "metadata": {},
   "source": [
    "# 1.生成app_coScore和app_coScore_log、app_coScore_logReci"
   ]
  },
  {
   "cell_type": "code",
   "execution_count": null,
   "metadata": {
    "collapsed": true
   },
   "outputs": [],
   "source": [
    "# 读取appScale\n",
    "readAppScale = pd.read_csv('C:\\\\Users\\\\work\\\\Desktop\\\\tencent\\\\feature\\\\app-user\\\\app_userScale.csv')"
   ]
  },
  {
   "cell_type": "code",
   "execution_count": null,
   "metadata": {
    "collapsed": false
   },
   "outputs": [],
   "source": [
    "import math\n",
    "readAppScale['coScale'] = readAppScale['scale'].apply(lambda x: pow(x, 2))\n",
    "readAppScale['coScale_log'] = readAppScale['scale'].apply(lambda x: math.log(pow(x, 2)))\n",
    "readAppScale['coScale_logReci'] = readAppScale['coScale_log'].apply(lambda x: 1/(x+0.0001))"
   ]
  },
  {
   "cell_type": "code",
   "execution_count": null,
   "metadata": {
    "collapsed": false
   },
   "outputs": [],
   "source": [
    "readAppScale.to_csv('C:\\\\Users\\\\work\\\\Desktop\\\\tencent\\\\feature\\\\app-user\\\\app_coScale.csv', index=False)"
   ]
  },
  {
   "cell_type": "markdown",
   "metadata": {},
   "source": [
    "# 2. 对于某个targetAPP，生成网络"
   ]
  },
  {
   "cell_type": "code",
   "execution_count": null,
   "metadata": {
    "collapsed": false
   },
   "outputs": [],
   "source": [
    "readAppCoScale = pd.read_csv('C:\\\\Users\\\\work\\\\Desktop\\\\tencent\\\\feature\\\\app-user\\\\app_coScale.csv')[['appID', 'coScale_logReci']].set_index('appID')\n",
    "dictAppScore = readAppCoScale.to_dict() #索引，为了加快速度"
   ]
  },
  {
   "cell_type": "code",
   "execution_count": null,
   "metadata": {
    "collapsed": false
   },
   "outputs": [],
   "source": [
    "# 取某个appID的用户，分为1和0两个部分\n",
    "# 83大概有1w条记录，拿它进行试验\n",
    "dataNet  = pd.merge(pd.read_csv(\"C:\\\\Users\\\\work\\\\Desktop\\\\tencent\\\\pre\\\\train.csv\"), pd.read_csv(\"C:\\\\Users\\\\work\\\\Desktop\\\\tencent\\\\pre\\\\ad.csv\"), on='creativeID')\n",
    "dataNet = dataNet[dataNet['appID']==83][['label','userID']]\n",
    "dataNet_1 = dataNet[dataNet['label']==1]\n",
    "dataNet_0 = dataNet[dataNet['label']==0]"
   ]
  },
  {
   "cell_type": "code",
   "execution_count": null,
   "metadata": {
    "collapsed": false
   },
   "outputs": [],
   "source": [
    "# 读取user_apps\n",
    "readUserApps = pd.read_csv('C:\\\\Users\\\\work\\\\Desktop\\\\tencent\\\\feature\\\\app-user\\\\user_apps.csv', names=['userID', 'appList'])\n",
    "dict_userApps = {}\n",
    "def getDictUserApps(x):\n",
    "     dict_userApps[x[0]] = x[1][1:-1].split(', ')\n",
    "readUserApps.apply(getDictUserApps, axis=1)\n",
    "readUserApps.head()"
   ]
  },
  {
   "cell_type": "code",
   "execution_count": null,
   "metadata": {
    "collapsed": false
   },
   "outputs": [],
   "source": [
    "# 生成网络\n",
    "## 前期准备\n",
    "listUsers1 = list(dataNet_1['userID'])\n",
    "sampler = np.random.permutation(len(listUsers1))\n",
    "index = dataNet_0['userID'].index[sampler] #重排序后的索引\n",
    "listUsers0 = list(dataNet_0['userID'].ix[index])\n",
    "## 生成id\n",
    "dict_user_nodeID = {}\n",
    "nodeID = 0\n",
    "for i in range(len(listUsers1)):\n",
    "    nodeID += 1\n",
    "    dict_user_nodeID[listUsers1[i]] = nodeID\n",
    "for i in range(len(listUsers0)):\n",
    "    nodeID += 1\n",
    "    dict_user_nodeID[listUsers0[i]] = nodeID\n",
    "## 计算用函数\n",
    "def getScore(list):\n",
    "    score = 0\n",
    "    for l in list:\n",
    "        score += dictAppScore['coScale_logReci'][int(l)]\n",
    "    return score\n",
    "def cal_coScale(user0, user1):\n",
    "    list0 = dict_userApps[user0]\n",
    "    list1 = dict_userApps[user1]\n",
    "    interset = np.intersect1d(list0, list1)\n",
    "    length = len(interset)\n",
    "    if(length == 0): \n",
    "        return 0\n",
    "    else: \n",
    "#         return getScore(interset)\n",
    "#         return getScore(interset)/length\n",
    "        return getScore(np.intersect1d(list0, list1))/getScore(np.union1d(list0, list1))"
   ]
  },
  {
   "cell_type": "code",
   "execution_count": null,
   "metadata": {
    "collapsed": false
   },
   "outputs": [],
   "source": [
    "# node\n",
    "## node1\n",
    "f_node = open('C:\\\\Users\\\\work\\\\Desktop\\\\tencent\\\\feature\\\\net\\\\83_node.csv', 'w')\n",
    "f_node.write('Id,Label,partition\\r\\n')\n",
    "for i in range(len(listUsers1)):\n",
    "    f_node.write(str(listUsers1[i]) + ',' + str(listUsers1[i]) + ',' + '1' + '\\r\\n')\n",
    "## node0\n",
    "for i in range(len(listUsers0)):\n",
    "    f_node.write(str(listUsers0[i]) + ',' + str(listUsers0[i]) + ',' + '0' + '\\r\\n')\n",
    "f_node.close()"
   ]
  },
  {
   "cell_type": "code",
   "execution_count": null,
   "metadata": {
    "collapsed": false
   },
   "outputs": [],
   "source": [
    "# line\n",
    "def getLine():\n",
    "    f_line = open('C:\\\\Users\\\\work\\\\Desktop\\\\tencent\\\\feature\\\\net\\\\83_line.csv', 'w')\n",
    "    f_line.write('Source,Target,weight,partition\\r\\n')\n",
    "    threshold_score = 0.3\n",
    "    # 1网络\n",
    "    for i in range(len(listUsers1)):\n",
    "        if dict_userApps.has_key(listUsers1[i]) == False: continue\n",
    "        for j in range(i, len(listUsers1)):\n",
    "            if dict_userApps.has_key(listUsers1[j]) == False: continue\n",
    "            score = cal_coScale(listUsers1[i], listUsers1[j])\n",
    "            if score > threshold_score:\n",
    "                f_line.write(str(listUsers1[i]) + \",\" + str(listUsers1[j]) + \",\"\n",
    "                             + str(score) + ',' + \"1\\r\\n\")\n",
    "    # 0网络\n",
    "    for i in range(len(listUsers0)):\n",
    "        if dict_userApps.has_key(listUsers0[i]) == False: continue\n",
    "        for j in range(i, len(listUsers0)):\n",
    "            if dict_userApps.has_key(listUsers0[j]) == False: continue\n",
    "            score = cal_coScale(listUsers0[i], listUsers0[j])\n",
    "            if score > threshold_score:\n",
    "                f_line.write(str(listUsers0[i]) + \",\" + str(listUsers0[j]) + \",\"\n",
    "                             + str(score) + ',' + \"0\\r\\n\")\n",
    "    # 1-0网络\n",
    "    for i in range(len(listUsers1)):\n",
    "        if dict_userApps.has_key(listUsers1[i]) == False: continue\n",
    "        for j in range(i, len(listUsers0)):\n",
    "            if dict_userApps.has_key(listUsers0[j]) == False: continue\n",
    "            score = cal_coScale(listUsers1[i], listUsers0[j])\n",
    "            if score > threshold_score:\n",
    "                f_line.write(str(listUsers1[i]) + \",\" + str(listUsers0[j]) + \",\"\n",
    "                             + str(score) + ',' + \"10\\r\\n\")\n",
    "    f_line.close()"
   ]
  },
  {
   "cell_type": "code",
   "execution_count": null,
   "metadata": {
    "collapsed": false
   },
   "outputs": [],
   "source": [
    "import timeit\n",
    "timeit.timeit(getLine,number=1)"
   ]
  },
  {
   "cell_type": "code",
   "execution_count": null,
   "metadata": {
    "collapsed": false
   },
   "outputs": [],
   "source": [
    "temp = pd.read_csv('C:\\\\Users\\\\work\\\\Desktop\\\\tencent\\\\feature\\\\net\\\\83_line.csv')"
   ]
  },
  {
   "cell_type": "code",
   "execution_count": null,
   "metadata": {
    "collapsed": false
   },
   "outputs": [],
   "source": [
    "import matplotlib.pyplot as plt\n",
    "temp.sort_values(by=['weight'], ascending=False, inplace=True)\n",
    "temp2 = temp['weight']\n",
    "plt.plot(range(len(temp2)),temp2)\n",
    "plt.show()\n",
    "# temp['weight']"
   ]
  },
  {
   "cell_type": "markdown",
   "metadata": {},
   "source": [
    "# 2.1 求出具有代表性的正负点"
   ]
  },
  {
   "cell_type": "code",
   "execution_count": null,
   "metadata": {
    "collapsed": false
   },
   "outputs": [],
   "source": [
    "# 点-加权度计算\n",
    "## 参数\n",
    "threshold_score = 0.3\n",
    "## 点-加权度计算函数\n",
    "def getNodeWeight(listU):\n",
    "    dict = {}\n",
    "    for i in range(len(listU)):\n",
    "        if dict_userApps.has_key(listU[i]) == False: continue\n",
    "        sum = 0.0\n",
    "        for j in range(i, len(listU)):\n",
    "            if dict_userApps.has_key(listU[j]) == False: continue\n",
    "            score = cal_coScale(listU[i], listU[j])\n",
    "            if score > threshold_score:\n",
    "                sum += score\n",
    "        dict[listU[i]] = sum\n",
    "    result = pd.DataFrame.from_dict(dict, orient='index')\n",
    "    result = result.reset_index().sort_values(by=[0],ascending=False)\n",
    "    return result\n",
    "## 加权网络\n",
    "nodeWeight1 = getNodeWeight(listUsers1)\n",
    "nodeWeight0 = getNodeWeight(listUsers0)"
   ]
  },
  {
   "cell_type": "code",
   "execution_count": null,
   "metadata": {
    "collapsed": false
   },
   "outputs": [],
   "source": [
    "# 取具有代表性的topN个点\n",
    "percent = 0.50\n",
    "repre1 = nodeWeight1[int(nodeWeight1.count()['index']*0.15): int(nodeWeight1.count()['index']*percent):3]\n",
    "repre0 = nodeWeight0[int(nodeWeight1.count()['index']*0.15): int(nodeWeight0.count()['index']*percent):3]"
   ]
  },
  {
   "cell_type": "code",
   "execution_count": null,
   "metadata": {
    "collapsed": false
   },
   "outputs": [],
   "source": [
    "# 存入csv\n",
    "outRepresent1 = pd.DataFrame({'appID':83,'represent':repre1['index'].values})\n",
    "outRepresent0 = pd.DataFrame({'appID':83,'represent':repre0['index'].values})\n",
    "outRepresent1.to_csv('C:\\\\Users\\\\work\\\\Desktop\\\\tencent\\\\feature\\\\app-user\\\\app_representUser_1.csv', index=False)\n",
    "outRepresent0.to_csv('C:\\\\Users\\\\work\\\\Desktop\\\\tencent\\\\feature\\\\app-user\\\\app_representUser_0.csv', index=False)"
   ]
  },
  {
   "cell_type": "markdown",
   "metadata": {},
   "source": [
    "# 2.2 计算用户与1、0代表用户的相似度"
   ]
  },
  {
   "cell_type": "code",
   "execution_count": null,
   "metadata": {
    "collapsed": true
   },
   "outputs": [],
   "source": [
    "# 读取app的代表用户\n",
    "readRepresent1 = pd.read_csv('C:\\\\Users\\\\work\\\\Desktop\\\\tencent\\\\feature\\\\app-user\\\\app_representUser_1.csv')\n",
    "readRepresent0 = pd.read_csv('C:\\\\Users\\\\work\\\\Desktop\\\\tencent\\\\feature\\\\app-user\\\\app_representUser_0.csv')"
   ]
  },
  {
   "cell_type": "code",
   "execution_count": null,
   "metadata": {
    "collapsed": true
   },
   "outputs": [],
   "source": [
    "# 读取app的代表用户（用gephi生成的）\n",
    "raw = pd.read_csv(\"C:\\\\Users\\\\work\\\\Desktop\\\\tencent\\\\feature\\\\net\\\\nodes.csv\")\n",
    "raw = raw[raw['degree']>51]\n",
    "raw = raw[raw['degree']<295]\n",
    "readRepresent1 = raw[raw['partition']==1]['id']\n",
    "readRepresent0 = raw[raw['partition']==0]['id']"
   ]
  },
  {
   "cell_type": "code",
   "execution_count": null,
   "metadata": {
    "collapsed": true
   },
   "outputs": [],
   "source": [
    "# 读取app的代表用户（全网络）\n",
    "raw = pd.read_csv('C:\\\\Users\\\\work\\\\Desktop\\\\tencent\\\\feature\\\\net\\\\node4.csv')[['id', 'partition']]\n",
    "readRepresent1 = raw[raw['partition']==1]['id']\n",
    "readRepresent0 = raw[raw['partition']==0]['id']"
   ]
  },
  {
   "cell_type": "code",
   "execution_count": null,
   "metadata": {
    "collapsed": false
   },
   "outputs": [],
   "source": [
    "seRepresent1[83] = list(readRepresent1)\n",
    "seRepresent0[83] = list(readRepresent0)"
   ]
  },
  {
   "cell_type": "code",
   "execution_count": null,
   "metadata": {
    "collapsed": false
   },
   "outputs": [],
   "source": [
    "# 将app-代表用户写入series，便于查询\n",
    "def getSeries(df):\n",
    "    return list(df['represent'])\n",
    "seRepresent1 = readRepresent1.groupby('appID').apply(getSeries)\n",
    "seRepresent0 = readRepresent0.groupby('appID').apply(getSeries)"
   ]
  },
  {
   "cell_type": "code",
   "execution_count": null,
   "metadata": {
    "collapsed": false
   },
   "outputs": [],
   "source": [
    "# # 读入训练数据\n",
    "data = pd.read_csv(\"C:\\\\Users\\\\work\\\\Desktop\\\\tencent\\\\pre\\\\train.csv\")\n",
    "data = pd.merge(data, pd.read_csv(\"C:\\\\Users\\\\work\\\\Desktop\\\\tencent\\\\pre\\\\ad.csv\"), on='creativeID')\n",
    "data = data[data['appID']==83][['userID','appID']]\n",
    "\n",
    "# data = pd.read_csv('C:\\\\Users\\\\work\\\\Desktop\\\\tencent\\\\feature\\\\net\\\\node4.csv')\n",
    "# data = data[['id']]\n",
    "# data.rename(columns={'id':'userID'},inplace=True)\n",
    "# data['appID'] = 83"
   ]
  },
  {
   "cell_type": "code",
   "execution_count": null,
   "metadata": {
    "collapsed": false
   },
   "outputs": [],
   "source": [
    "threshold_score = 0.3\n",
    "def getVoteP(x):\n",
    "    sum = 0.0\n",
    "    count = 0\n",
    "    for id in seRepresent1[x[1]]:\n",
    "        if dict_userApps.has_key(id) == False: #无数据的情况\n",
    "            continue\n",
    "        if dict_userApps.has_key(x[0]) == False: #无数据的情况\n",
    "            continue\n",
    "        score = cal_coScale(x[0], id)\n",
    "        if score > threshold_score:\n",
    "            count += 1\n",
    "            sum += score\n",
    "    if count == 0:\n",
    "        return 0\n",
    "    else:\n",
    "        return sum/count\n",
    "def getVoteN(x):\n",
    "    sum = 0.0\n",
    "    count = 0\n",
    "    for id in seRepresent0[x[1]]:\n",
    "        if dict_userApps.has_key(id) == False: #无数据的情况\n",
    "            continue\n",
    "        if dict_userApps.has_key(x[0]) == False: #无数据的情况\n",
    "            continue\n",
    "        score = cal_coScale(x[0], id)\n",
    "        if score > threshold_score:\n",
    "            count += 1\n",
    "            sum += score\n",
    "    if count == 0:\n",
    "        return 0\n",
    "    else:\n",
    "        return sum/count\n",
    "def getMinus(x):\n",
    "    minus = x[0] - x[1]\n",
    "    sum = x[0] + x[1]\n",
    "    if minus == 0:\n",
    "        return 0\n",
    "    else:\n",
    "        return float(minus)/sum\n",
    "def getV(x):\n",
    "    if x[0] > 0:\n",
    "        return 1\n",
    "    elif x[0] < 0: \n",
    "        return -1\n",
    "    else:\n",
    "        return 0\n",
    "def getVote():\n",
    "    data['voteP'] = data[['userID','appID']].apply(getVoteP, axis=1)\n",
    "    data['voteN'] = data[['userID','appID']].apply(getVoteN, axis=1)\n",
    "    data['voteMinus'] = data[['voteP', 'voteN']].apply(getVoteMinus, axis=1)\n",
    "    data['v'] = data[['voteMinus']].apply(getV, axis=1)"
   ]
  },
  {
   "cell_type": "code",
   "execution_count": null,
   "metadata": {
    "collapsed": false
   },
   "outputs": [],
   "source": [
    "import timeit\n",
    "timeit.timeit(getVote, number=1)"
   ]
  },
  {
   "cell_type": "code",
   "execution_count": null,
   "metadata": {
    "collapsed": false
   },
   "outputs": [],
   "source": [
    "data[data['v']!=0]"
   ]
  },
  {
   "cell_type": "code",
   "execution_count": null,
   "metadata": {
    "collapsed": true
   },
   "outputs": [],
   "source": [
    "# 输出\n",
    "data.to_csv('C:\\\\Users\\\\work\\\\Desktop\\\\tencent\\\\feature\\\\user_vote.csv',index=False)"
   ]
  },
  {
   "cell_type": "code",
   "execution_count": null,
   "metadata": {
    "collapsed": false
   },
   "outputs": [],
   "source": [
    "temp = pd.read_csv('C:\\\\Users\\\\work\\\\Desktop\\\\tencent\\\\feature\\\\user_vote.csv')"
   ]
  },
  {
   "cell_type": "code",
   "execution_count": null,
   "metadata": {
    "collapsed": false
   },
   "outputs": [],
   "source": [
    "temp[temp['userID']==2642481]"
   ]
  },
  {
   "cell_type": "code",
   "execution_count": null,
   "metadata": {
    "collapsed": true
   },
   "outputs": [],
   "source": []
  }
 ],
 "metadata": {
  "anaconda-cloud": {},
  "kernelspec": {
   "display_name": "Python [default]",
   "language": "python",
   "name": "python2"
  },
  "language_info": {
   "codemirror_mode": {
    "name": "ipython",
    "version": 2
   },
   "file_extension": ".py",
   "mimetype": "text/x-python",
   "name": "python",
   "nbconvert_exporter": "python",
   "pygments_lexer": "ipython2",
   "version": "2.7.12"
  }
 },
 "nbformat": 4,
 "nbformat_minor": 1
}
