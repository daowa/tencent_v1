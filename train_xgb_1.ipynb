{
 "cells": [
  {
   "cell_type": "code",
   "execution_count": 1,
   "metadata": {
    "collapsed": false
   },
   "outputs": [],
   "source": [
    "import numpy as np\n",
    "import pandas as pd\n",
    "import xgboost as xgb"
   ]
  },
  {
   "cell_type": "code",
   "execution_count": 2,
   "metadata": {
    "collapsed": false,
    "scrolled": true
   },
   "outputs": [],
   "source": [
    "# 读入基础数据\n",
    "## 确定是读入训练集进行训练，还是读入测试集生成提交结果\n",
    "### 仅训练集\n",
    "rawData = pd.read_csv('D:\\\\tx\\\\pre\\\\train.csv')\n",
    "### 训练集和测试集。注意这里把训练集也读入了，为了dummy的时候划分一致。后续需要删除训练集数据\n",
    "# rawData = pd.read_csv('D:\\\\tx\\\\pre\\\\train.csv')\n",
    "# rawData.drop(['conversionTime'],axis=1,inplace=True) #先去除conversionTime\n",
    "# rawData.insert(0, 'instanceID', pd.Series(np.zeros(rawData['label'].count())))#插入instanceID使append不会乱序\n",
    "# rawData = pd.concat([rawData,pd.read_csv('D:\\\\tx\\\\pre\\\\test.csv')])\n",
    "## 将部分数据读入\n",
    "rawData['date'] = rawData['clickTime'].apply(lambda x: int(x/10000))\n",
    "rawData = pd.merge(rawData, pd.read_csv('D:\\\\tx\\\\pre\\\\user.csv'), on='userID')\n",
    "rawData['hometowncity'] = rawData['hometown'].apply(lambda x: int(x/100))\n",
    "rawData['residencecity'] = rawData['residence'].apply(lambda x: int(x/10000))\n",
    "rawData = pd.merge(rawData, pd.read_csv('D:\\\\tx\\\\pre\\\\ad.csv'), on='creativeID')\n",
    "rawData = pd.merge(rawData, pd.read_csv('D:\\\\tx\\\\pre\\\\position.csv'), on='positionID')"
   ]
  },
  {
   "cell_type": "code",
   "execution_count": 3,
   "metadata": {
    "collapsed": false
   },
   "outputs": [
    {
     "data": {
      "text/plain": [
       "Index([u'label', u'clickTime', u'conversionTime', u'creativeID', u'userID',\n",
       "       u'positionID', u'connectionType', u'telecomsOperator', u'date', u'age',\n",
       "       u'gender', u'education', u'marriageStatus', u'haveBaby', u'hometown',\n",
       "       u'residence', u'hometowncity', u'residencecity', u'adID', u'camgaignID',\n",
       "       u'advertiserID', u'appID', u'appPlatform', u'sitesetID',\n",
       "       u'positionType'],\n",
       "      dtype='object')"
      ]
     },
     "execution_count": 3,
     "metadata": {},
     "output_type": "execute_result"
    }
   ],
   "source": [
    "rawData.columns"
   ]
  },
  {
   "cell_type": "code",
   "execution_count": 4,
   "metadata": {
    "collapsed": true
   },
   "outputs": [],
   "source": [
    "# 对点击时间进行处理\n",
    "def dealTime(clicktime):\n",
    "    hour = int(str(clicktime)[2:4])\n",
    "    minute = int(str(clicktime)[4:6])\n",
    "    x = int(60*hour+minute)/30\n",
    "    if x in [18,19,20]:\n",
    "        return 1\n",
    "    elif x in [21,22,23]:\n",
    "        return 2\n",
    "    elif x in [4,24]:\n",
    "        return 3\n",
    "    elif x in [25,26]:\n",
    "        return 4\n",
    "    elif x in [2,3,6,10,27,31,47]:\n",
    "        return 5\n",
    "    elif x in [0,1,5,7,8,9,11,28,30,44,45]:\n",
    "        return 6\n",
    "    elif x in [13,14]:\n",
    "        return 8\n",
    "    elif x in [15]:\n",
    "        return 9\n",
    "    else: #中下的最多，所以else来处理\n",
    "        return 7"
   ]
  },
  {
   "cell_type": "code",
   "execution_count": 5,
   "metadata": {
    "collapsed": false
   },
   "outputs": [],
   "source": [
    "# 读入更多特征\n",
    "## 读入age\n",
    "rawData.drop(['age'], axis=1, inplace=True) #有些原有字段中有的但经过处理的，先删除，再读入\n",
    "rawData = pd.merge(rawData, pd.read_csv('D:\\\\tx\\\\feature\\\\age.csv'), on='userID')\n",
    "## 读入appCategory\n",
    "rawData = pd.merge(rawData, pd.read_csv('D:\\\\tx\\\\feature\\\\appCategory.csv'), on='creativeID')\n",
    "## 读入clickTime_hour\n",
    "rawData['clickTime_hour'] = rawData['clickTime'].apply(dealTime)\n",
    "## 读入lastNCVR_advertiserID\n",
    "rawData = pd.merge(rawData, pd.read_csv('D:\\\\tx\\\\feature\\\\lastNCVR_advertiserID.csv'), on=['date', 'creativeID'])\n",
    "## 读入lastNCVR_appID\n",
    "rawData = pd.merge(rawData, pd.read_csv('D:\\\\tx\\\\feature\\\\lastNCVR_appID.csv'), on=['date', 'creativeID'])\n",
    "## 读入lastNCVR_positionType\n",
    "rawData = pd.merge(rawData, pd.read_csv('D:\\\\tx\\\\feature\\\\lastNCVR_positionType.csv'), on=['date', 'positionID'])\n",
    "## 读入lastNCVR_sitesetID\n",
    "rawData = pd.merge(rawData, pd.read_csv('D:\\\\tx\\\\feature\\\\lastNCVR_sitesetID.csv'), on=['date', 'positionID'])\n",
    "\n",
    "\n",
    "# old\n",
    "# def readFeature(features):\n",
    "#     for feature in features:\n",
    "#         global rawData #声明data是global而不是局部变量\n",
    "#         dataFeature = pd.read_csv('C:\\\\Users\\\\work\\\\Desktop\\\\tencent\\\\feature\\\\train\\\\' + feature + '.csv', names=[feature])\n",
    "#         rawData = pd.concat([rawData, dataFeature], axis=1)\n",
    "# # 有些原有字段中有的但经过处理的，先删除，再读入\n",
    "# rawData.drop(['age'], axis=1, inplace=True)\n",
    "# # 读入特征\n",
    "# readFeature(['lastNCVR_appID','lastNCVR_advertiserID','lastNCVR_positionType','lastNCVR_sitesetID','appCategory', 'age', 'clickTime_hour'])"
   ]
  },
  {
   "cell_type": "code",
   "execution_count": 6,
   "metadata": {
    "collapsed": false
   },
   "outputs": [
    {
     "name": "stdout",
     "output_type": "stream",
     "text": [
      "Index([u'label', u'clickTime', u'conversionTime', u'creativeID', u'userID',\n",
      "       u'positionID', u'connectionType', u'telecomsOperator', u'date',\n",
      "       u'gender', u'education', u'marriageStatus', u'haveBaby', u'hometown',\n",
      "       u'residence', u'hometowncity', u'residencecity', u'adID', u'camgaignID',\n",
      "       u'advertiserID', u'appID', u'appPlatform', u'sitesetID',\n",
      "       u'positionType', u'age', u'appCategory', u'clickTime_hour',\n",
      "       u'lastNCVR_advertiserID', u'lastNCVR_appID', u'lastNCVR_positionType',\n",
      "       u'lastNCVR_sitesetID'],\n",
      "      dtype='object')\n"
     ]
    }
   ],
   "source": [
    "print rawData.columns"
   ]
  },
  {
   "cell_type": "code",
   "execution_count": 7,
   "metadata": {
    "collapsed": false
   },
   "outputs": [
    {
     "name": "stderr",
     "output_type": "stream",
     "text": [
      "C:\\Users\\work\\Anaconda2\\lib\\site-packages\\sklearn\\preprocessing\\data.py:583: DeprecationWarning: Passing 1d arrays as data is deprecated in 0.17 and will raise ValueError in 0.19. Reshape your data either using X.reshape(-1, 1) if your data has a single feature or X.reshape(1, -1) if it contains a single sample.\n",
      "  warnings.warn(DEPRECATION_MSG_1D, DeprecationWarning)\n",
      "C:\\Users\\work\\Anaconda2\\lib\\site-packages\\sklearn\\preprocessing\\data.py:583: DeprecationWarning: Passing 1d arrays as data is deprecated in 0.17 and will raise ValueError in 0.19. Reshape your data either using X.reshape(-1, 1) if your data has a single feature or X.reshape(1, -1) if it contains a single sample.\n",
      "  warnings.warn(DEPRECATION_MSG_1D, DeprecationWarning)\n",
      "C:\\Users\\work\\Anaconda2\\lib\\site-packages\\sklearn\\preprocessing\\data.py:646: DeprecationWarning: Passing 1d arrays as data is deprecated in 0.17 and will raise ValueError in 0.19. Reshape your data either using X.reshape(-1, 1) if your data has a single feature or X.reshape(1, -1) if it contains a single sample.\n",
      "  warnings.warn(DEPRECATION_MSG_1D, DeprecationWarning)\n",
      "C:\\Users\\work\\Anaconda2\\lib\\site-packages\\sklearn\\preprocessing\\data.py:583: DeprecationWarning: Passing 1d arrays as data is deprecated in 0.17 and will raise ValueError in 0.19. Reshape your data either using X.reshape(-1, 1) if your data has a single feature or X.reshape(1, -1) if it contains a single sample.\n",
      "  warnings.warn(DEPRECATION_MSG_1D, DeprecationWarning)\n",
      "C:\\Users\\work\\Anaconda2\\lib\\site-packages\\sklearn\\preprocessing\\data.py:583: DeprecationWarning: Passing 1d arrays as data is deprecated in 0.17 and will raise ValueError in 0.19. Reshape your data either using X.reshape(-1, 1) if your data has a single feature or X.reshape(1, -1) if it contains a single sample.\n",
      "  warnings.warn(DEPRECATION_MSG_1D, DeprecationWarning)\n",
      "C:\\Users\\work\\Anaconda2\\lib\\site-packages\\sklearn\\preprocessing\\data.py:646: DeprecationWarning: Passing 1d arrays as data is deprecated in 0.17 and will raise ValueError in 0.19. Reshape your data either using X.reshape(-1, 1) if your data has a single feature or X.reshape(1, -1) if it contains a single sample.\n",
      "  warnings.warn(DEPRECATION_MSG_1D, DeprecationWarning)\n",
      "C:\\Users\\work\\Anaconda2\\lib\\site-packages\\sklearn\\preprocessing\\data.py:583: DeprecationWarning: Passing 1d arrays as data is deprecated in 0.17 and will raise ValueError in 0.19. Reshape your data either using X.reshape(-1, 1) if your data has a single feature or X.reshape(1, -1) if it contains a single sample.\n",
      "  warnings.warn(DEPRECATION_MSG_1D, DeprecationWarning)\n",
      "C:\\Users\\work\\Anaconda2\\lib\\site-packages\\sklearn\\preprocessing\\data.py:583: DeprecationWarning: Passing 1d arrays as data is deprecated in 0.17 and will raise ValueError in 0.19. Reshape your data either using X.reshape(-1, 1) if your data has a single feature or X.reshape(1, -1) if it contains a single sample.\n",
      "  warnings.warn(DEPRECATION_MSG_1D, DeprecationWarning)\n",
      "C:\\Users\\work\\Anaconda2\\lib\\site-packages\\sklearn\\preprocessing\\data.py:646: DeprecationWarning: Passing 1d arrays as data is deprecated in 0.17 and will raise ValueError in 0.19. Reshape your data either using X.reshape(-1, 1) if your data has a single feature or X.reshape(1, -1) if it contains a single sample.\n",
      "  warnings.warn(DEPRECATION_MSG_1D, DeprecationWarning)\n",
      "C:\\Users\\work\\Anaconda2\\lib\\site-packages\\sklearn\\preprocessing\\data.py:583: DeprecationWarning: Passing 1d arrays as data is deprecated in 0.17 and will raise ValueError in 0.19. Reshape your data either using X.reshape(-1, 1) if your data has a single feature or X.reshape(1, -1) if it contains a single sample.\n",
      "  warnings.warn(DEPRECATION_MSG_1D, DeprecationWarning)\n",
      "C:\\Users\\work\\Anaconda2\\lib\\site-packages\\sklearn\\preprocessing\\data.py:583: DeprecationWarning: Passing 1d arrays as data is deprecated in 0.17 and will raise ValueError in 0.19. Reshape your data either using X.reshape(-1, 1) if your data has a single feature or X.reshape(1, -1) if it contains a single sample.\n",
      "  warnings.warn(DEPRECATION_MSG_1D, DeprecationWarning)\n",
      "C:\\Users\\work\\Anaconda2\\lib\\site-packages\\sklearn\\preprocessing\\data.py:646: DeprecationWarning: Passing 1d arrays as data is deprecated in 0.17 and will raise ValueError in 0.19. Reshape your data either using X.reshape(-1, 1) if your data has a single feature or X.reshape(1, -1) if it contains a single sample.\n",
      "  warnings.warn(DEPRECATION_MSG_1D, DeprecationWarning)\n"
     ]
    }
   ],
   "source": [
    "# 特征哑变量化与离散化\n",
    "import sklearn.preprocessing as preprocessing\n",
    "## 离散变量哑变量化\n",
    "def featureDummy(features):\n",
    "    for feature in features:\n",
    "        global rawData #声明data是global而不是局部变量\n",
    "        dummies = pd.get_dummies(rawData[feature], prefix=feature)\n",
    "        rawData = pd.concat([rawData, dummies], axis=1)\n",
    "        rawData.drop([feature], axis=1, inplace=True)\n",
    "## 连续变量标准化\n",
    "def featureScale(features):\n",
    "    for feature in features:\n",
    "        global rawData #声明data是global而不是局部变量\n",
    "        scaler = preprocessing.StandardScaler()\n",
    "        scaleParam = scaler.fit(rawData[feature])\n",
    "        rawData[feature] = scaler.fit_transform(rawData[feature], scaleParam)\n",
    "\n",
    "# 哑变量化与离散化\n",
    "# featureDummy(['connectionType', 'telecomsOperator', 'gender'])\n",
    "featureDummy(['connectionType', 'telecomsOperator', 'gender','marriageStatus','haveBaby', 'appPlatform', \n",
    "              'education', 'sitesetID','positionType','appCategory', 'age', 'clickTime_hour'])\n",
    "featureScale(['lastNCVR_appID', 'lastNCVR_advertiserID','lastNCVR_positionType', 'lastNCVR_sitesetID'])"
   ]
  },
  {
   "cell_type": "code",
   "execution_count": null,
   "metadata": {
    "collapsed": false
   },
   "outputs": [],
   "source": [
    "data['age_education'] = data.apply(lambda x:data['age']*data['education'], axis=1)"
   ]
  },
  {
   "cell_type": "code",
   "execution_count": null,
   "metadata": {
    "collapsed": false
   },
   "outputs": [],
   "source": [
    "rawData.head()"
   ]
  },
  {
   "cell_type": "code",
   "execution_count": 7,
   "metadata": {
    "collapsed": false
   },
   "outputs": [
    {
     "name": "stdout",
     "output_type": "stream",
     "text": [
      "Index([u'label', u'connectionType', u'telecomsOperator', u'gender',\n",
      "       u'education', u'marriageStatus', u'haveBaby', u'appPlatform',\n",
      "       u'sitesetID', u'positionType', u'age', u'appCategory',\n",
      "       u'clickTime_hour', u'lastNCVR_advertiserID', u'lastNCVR_appID',\n",
      "       u'lastNCVR_positionType', u'lastNCVR_sitesetID'],\n",
      "      dtype='object')\n"
     ]
    }
   ],
   "source": [
    "# 提取特征\n",
    "## 筛掉一些字段\n",
    "# data = rawData.drop(['clickTime', 'conversionTime', 'creativeID', 'userID', 'positionID', 'date', 'hometown', 'residence','advertiserID', 'adID', 'camgaignID'], axis=1)\n",
    "data = rawData.drop(['appID', 'clickTime','conversionTime', 'creativeID', 'userID', 'positionID', 'date', 'hometowncity', 'residencecity', 'hometown', 'residence','advertiserID', 'adID', 'camgaignID'], axis=1)\n",
    "# data = data.filter(regex='label|connectionType_*|telecomsOperato_*|appPlatform_*|lastNCVR_appID_+|lastNCVR_advertiserID_+')\n",
    "print data.columns"
   ]
  },
  {
   "cell_type": "code",
   "execution_count": 88,
   "metadata": {
    "collapsed": false
   },
   "outputs": [
    {
     "name": "stdout",
     "output_type": "stream",
     "text": [
      "     label  connectionType  telecomsOperator  gender  education  \\\n",
      "age                                                               \n",
      "0     8956            8956              8956    8956       8956   \n",
      "1      941             941               941     941        941   \n",
      "8      176             176               176     176        176   \n",
      "9      400             400               400     400        400   \n",
      "10    1220            1220              1220    1220       1220   \n",
      "11    2726            2726              2726    2726       2726   \n",
      "12    3232            3232              3232    3232       3232   \n",
      "13    4078            4078              4078    4078       4078   \n",
      "14    3644            3644              3644    3644       3644   \n",
      "15    4952            4952              4952    4952       4952   \n",
      "16    4110            4110              4110    4110       4110   \n",
      "17    3728            3728              3728    3728       3728   \n",
      "18    3764            3764              3764    3764       3764   \n",
      "19    4044            4044              4044    4044       4044   \n",
      "20    3820            3820              3820    3820       3820   \n",
      "21    3339            3339              3339    3339       3339   \n",
      "22    6428            6428              6428    6428       6428   \n",
      "24    6170            6170              6170    6170       6170   \n",
      "26    5881            5881              5881    5881       5881   \n",
      "28    4640            4640              4640    4640       4640   \n",
      "30    3155            3155              3155    3155       3155   \n",
      "32    2557            2557              2557    2557       2557   \n",
      "34    2071            2071              2071    2071       2071   \n",
      "36    1749            1749              1749    1749       1749   \n",
      "38    1389            1389              1389    1389       1389   \n",
      "40     679             679               679     679        679   \n",
      "41    3521            3521              3521    3521       3521   \n",
      "48    1287            1287              1287    1287       1287   \n",
      "54     605             605               605     605        605   \n",
      "\n",
      "     marriageStatus  haveBaby  appPlatform  sitesetID  positionType  \\\n",
      "age                                                                   \n",
      "0              8956      8956         8956       8956          8956   \n",
      "1               941       941          941        941           941   \n",
      "8               176       176          176        176           176   \n",
      "9               400       400          400        400           400   \n",
      "10             1220      1220         1220       1220          1220   \n",
      "11             2726      2726         2726       2726          2726   \n",
      "12             3232      3232         3232       3232          3232   \n",
      "13             4078      4078         4078       4078          4078   \n",
      "14             3644      3644         3644       3644          3644   \n",
      "15             4952      4952         4952       4952          4952   \n",
      "16             4110      4110         4110       4110          4110   \n",
      "17             3728      3728         3728       3728          3728   \n",
      "18             3764      3764         3764       3764          3764   \n",
      "19             4044      4044         4044       4044          4044   \n",
      "20             3820      3820         3820       3820          3820   \n",
      "21             3339      3339         3339       3339          3339   \n",
      "22             6428      6428         6428       6428          6428   \n",
      "24             6170      6170         6170       6170          6170   \n",
      "26             5881      5881         5881       5881          5881   \n",
      "28             4640      4640         4640       4640          4640   \n",
      "30             3155      3155         3155       3155          3155   \n",
      "32             2557      2557         2557       2557          2557   \n",
      "34             2071      2071         2071       2071          2071   \n",
      "36             1749      1749         1749       1749          1749   \n",
      "38             1389      1389         1389       1389          1389   \n",
      "40              679       679          679        679           679   \n",
      "41             3521      3521         3521       3521          3521   \n",
      "48             1287      1287         1287       1287          1287   \n",
      "54              605       605          605        605           605   \n",
      "\n",
      "     appCategory  clickTime_hour  lastNCVR_advertiserID  lastNCVR_appID  \\\n",
      "age                                                                       \n",
      "0           8956            8956                   8956            8956   \n",
      "1            941             941                    941             941   \n",
      "8            176             176                    176             176   \n",
      "9            400             400                    400             400   \n",
      "10          1220            1220                   1220            1220   \n",
      "11          2726            2726                   2726            2726   \n",
      "12          3232            3232                   3232            3232   \n",
      "13          4078            4078                   4078            4078   \n",
      "14          3644            3644                   3644            3644   \n",
      "15          4952            4952                   4952            4952   \n",
      "16          4110            4110                   4110            4110   \n",
      "17          3728            3728                   3728            3728   \n",
      "18          3764            3764                   3764            3764   \n",
      "19          4044            4044                   4044            4044   \n",
      "20          3820            3820                   3820            3820   \n",
      "21          3339            3339                   3339            3339   \n",
      "22          6428            6428                   6428            6428   \n",
      "24          6170            6170                   6170            6170   \n",
      "26          5881            5881                   5881            5881   \n",
      "28          4640            4640                   4640            4640   \n",
      "30          3155            3155                   3155            3155   \n",
      "32          2557            2557                   2557            2557   \n",
      "34          2071            2071                   2071            2071   \n",
      "36          1749            1749                   1749            1749   \n",
      "38          1389            1389                   1389            1389   \n",
      "40           679             679                    679             679   \n",
      "41          3521            3521                   3521            3521   \n",
      "48          1287            1287                   1287            1287   \n",
      "54           605             605                    605             605   \n",
      "\n",
      "     lastNCVR_positionType  lastNCVR_sitesetID  \n",
      "age                                             \n",
      "0                     8956                8956  \n",
      "1                      941                 941  \n",
      "8                      176                 176  \n",
      "9                      400                 400  \n",
      "10                    1220                1220  \n",
      "11                    2726                2726  \n",
      "12                    3232                3232  \n",
      "13                    4078                4078  \n",
      "14                    3644                3644  \n",
      "15                    4952                4952  \n",
      "16                    4110                4110  \n",
      "17                    3728                3728  \n",
      "18                    3764                3764  \n",
      "19                    4044                4044  \n",
      "20                    3820                3820  \n",
      "21                    3339                3339  \n",
      "22                    6428                6428  \n",
      "24                    6170                6170  \n",
      "26                    5881                5881  \n",
      "28                    4640                4640  \n",
      "30                    3155                3155  \n",
      "32                    2557                2557  \n",
      "34                    2071                2071  \n",
      "36                    1749                1749  \n",
      "38                    1389                1389  \n",
      "40                     679                 679  \n",
      "41                    3521                3521  \n",
      "48                    1287                1287  \n",
      "54                     605                 605  \n",
      "29 [445656, 46290, 11161, 22970, 53877, 106428, 119651, 153770, 142515, 198469, 158922, 152810, 141921, 146127, 142457, 122891, 230423, 230576, 230417, 192592, 134053, 110487, 88137, 74102, 57068, 27181, 135950, 48786, 23841]\n"
     ]
    },
    {
     "data": {
      "image/png": "[encoded data removed]",
      "text/plain": [
       "<matplotlib.figure.Figure at 0x15e42d30>"
      ]
     },
     "metadata": {},
     "output_type": "display_data"
    }
   ],
   "source": [
    "print data[data['label']==1].groupby('age').count()\n",
    "agelist1 = data[data['label']==1].groupby('age').count()\n",
    "agelist0 = data[data['label']==0].groupby('age').count()\n",
    "print len(list(agelist.index)),list(agelist[\"label\"])\n",
    "n_groups = len(list(agelist.index)) \n",
    "fig, ax = plt.subplots()  \n",
    "index = np.arange(n_groups)  \n",
    "bar_width = 0.35     \n",
    "opacity = 0.4  \n",
    "rects1 = plt.bar(index, list(agelist1[\"label\"]), bar_width,alpha=opacity, color='b',label='1')\n",
    "rects0 = plt.bar(index+bar_width, list(agelist0[\"label\"]), bar_width,alpha=opacity, color='r',label='0')\n",
    "plt.xlabel('Group')  \n",
    "plt.ylabel('Scores')  \n",
    "plt.title('Scores by group and gender')  \n",
    "plt.xticks(index + bar_width, list(agelist.index))  \n",
    "plt.ylim(0,450000)  \n",
    "plt.legend()    \n",
    "plt.tight_layout()  \n",
    "plt.show()  \n"
   ]
  },
  {
   "cell_type": "markdown",
   "metadata": {},
   "source": [
    "# 训练分类器"
   ]
  },
  {
   "cell_type": "code",
   "execution_count": 8,
   "metadata": {
    "collapsed": false
   },
   "outputs": [],
   "source": [
    "# 平衡正反例\n",
    "def balance(train_pro):\n",
    "    ## 从正例中随机取出比例为a的数据，划分\n",
    "    train_size_p = int(data[data['label']==1]['label'].count()*train_pro)\n",
    "    train_size_n = int(train_size_p * 39.02) #原始样本中负例是正例的这个倍数\n",
    "    sampler1 = np.random.permutation(data[data['label']==1]['label'].count())\n",
    "    index1 = data[data['label']==1].index[sampler1] #重排序后的索引\n",
    "    train1 = data[data['label']==1].ix[index1[:train_size_p]]\n",
    "    test1 = data[data['label']==1].ix[index1[train_size_p:]]\n",
    "    ## 从负例中随机取出相同数量的数据，划分\n",
    "    sampler0 = np.random.permutation(data[data['label']==0]['label'].count())\n",
    "    index0 = data[data['label']==0].index[sampler0] #重排序后的索引\n",
    "    train0 = data[data['label']==0].ix[index0[:train_size_n]]\n",
    "    test0 = data[data['label']==0].ix[index0[train_size_n:]]\n",
    "    ## 构建训练集和测试集\n",
    "    data_train = pd.concat([train1, train0])\n",
    "    data_test = pd.concat([test1, test0])\n",
    "    return data_train.as_matrix()[:,1:], data_test.as_matrix()[:,1:], data_train.as_matrix()[:,0],  data_test.as_matrix()[:,0]\n",
    "# 获取正反例\n",
    "x_train, x_test, y_train, y_test = balance(0.8)"
   ]
  },
  {
   "cell_type": "code",
   "execution_count": null,
   "metadata": {
    "collapsed": false
   },
   "outputs": [],
   "source": [
    "# 划分训练集和测试集\n",
    "from sklearn import cross_validation\n",
    "from sklearn import linear_model\n",
    "from sklearn.tree import DecisionTreeClassifier\n",
    "from sklearn.ensemble import RandomForestClassifier\n",
    "from sklearn.cluster import KMeans\n",
    "# X = all_data.as_matrix()[:,1:]\n",
    "# y = all_data.as_matrix()[:,0]\n",
    "# trainX, testX, trainY, testY = cross_validation.train_test_split(X, y, test_size=0.2, random_state=174)\n",
    "# y\n",
    "# 训练\n",
    "clf = linear_model.LogisticRegressionCV(Cs=10, penalty='l2', tol=1e-4, n_jobs=-1, cv=5)\n",
    "# clf = RandomForestClassifier()\n",
    "clf.fit(trainX, trainY)\n",
    "print clf"
   ]
  },
  {
   "cell_type": "code",
   "execution_count": 9,
   "metadata": {
    "collapsed": false,
    "scrolled": true
   },
   "outputs": [
    {
     "name": "stderr",
     "output_type": "stream",
     "text": [
      "[0]\teval-error:0.024419\ttrain-error:0.024966\n",
      "[1]\teval-error:0.024441\ttrain-error:0.024969\n",
      "[2]\teval-error:0.024415\ttrain-error:0.024967\n",
      "[3]\teval-error:0.024416\ttrain-error:0.024969\n",
      "[4]\teval-error:0.024413\ttrain-error:0.024968\n",
      "[5]\teval-error:0.024431\ttrain-error:0.024964\n",
      "[6]\teval-error:0.024432\ttrain-error:0.024962\n",
      "[7]\teval-error:0.024441\ttrain-error:0.024959\n",
      "[8]\teval-error:0.024445\ttrain-error:0.024962\n",
      "[9]\teval-error:0.024441\ttrain-error:0.024964\n",
      "[10]\teval-error:0.024449\ttrain-error:0.024963\n",
      "[11]\teval-error:0.024450\ttrain-error:0.024961\n",
      "[12]\teval-error:0.024454\ttrain-error:0.024956\n",
      "[13]\teval-error:0.024455\ttrain-error:0.024954\n",
      "[14]\teval-error:0.024449\ttrain-error:0.024950\n",
      "[15]\teval-error:0.024451\ttrain-error:0.024948\n",
      "[16]\teval-error:0.024450\ttrain-error:0.024949\n",
      "[17]\teval-error:0.024462\ttrain-error:0.024947\n",
      "[18]\teval-error:0.024462\ttrain-error:0.024947\n",
      "[19]\teval-error:0.024461\ttrain-error:0.024944\n",
      "[20]\teval-error:0.024459\ttrain-error:0.024938\n",
      "[21]\teval-error:0.024463\ttrain-error:0.024934\n",
      "[22]\teval-error:0.024462\ttrain-error:0.024934\n",
      "[23]\teval-error:0.024465\ttrain-error:0.024933\n",
      "[24]\teval-error:0.024467\ttrain-error:0.024929\n",
      "[25]\teval-error:0.024472\ttrain-error:0.024927\n",
      "[26]\teval-error:0.024476\ttrain-error:0.024923\n",
      "[27]\teval-error:0.024484\ttrain-error:0.024911\n",
      "[28]\teval-error:0.024483\ttrain-error:0.024906\n",
      "[29]\teval-error:0.024486\ttrain-error:0.024906\n",
      "[30]\teval-error:0.024491\ttrain-error:0.024903\n",
      "[31]\teval-error:0.024496\ttrain-error:0.024902\n",
      "[32]\teval-error:0.024497\ttrain-error:0.024899\n",
      "[33]\teval-error:0.024499\ttrain-error:0.024894\n",
      "[34]\teval-error:0.024495\ttrain-error:0.024890\n",
      "[35]\teval-error:0.024495\ttrain-error:0.024880\n",
      "[36]\teval-error:0.024491\ttrain-error:0.024882\n",
      "[37]\teval-error:0.024493\ttrain-error:0.024880\n",
      "[38]\teval-error:0.024501\ttrain-error:0.024878\n",
      "[39]\teval-error:0.024504\ttrain-error:0.024873\n",
      "[40]\teval-error:0.024505\ttrain-error:0.024866\n",
      "[41]\teval-error:0.024510\ttrain-error:0.024860\n",
      "[42]\teval-error:0.024514\ttrain-error:0.024857\n",
      "[43]\teval-error:0.024504\ttrain-error:0.024855\n",
      "[44]\teval-error:0.024508\ttrain-error:0.024853\n",
      "[45]\teval-error:0.024509\ttrain-error:0.024847\n",
      "[46]\teval-error:0.024520\ttrain-error:0.024844\n",
      "[47]\teval-error:0.024523\ttrain-error:0.024839\n",
      "[48]\teval-error:0.024523\ttrain-error:0.024835\n",
      "[49]\teval-error:0.024521\ttrain-error:0.024826\n"
     ]
    },
    {
     "name": "stdout",
     "output_type": "stream",
     "text": [
      "0.10498402788\n"
     ]
    }
   ],
   "source": [
    "# 评估模型结果\n",
    "import scipy as sp\n",
    "from sklearn.cross_validation import train_test_split\n",
    "# import LightGBM\n",
    "def logloss(act, pred):\n",
    "    epsilon = 1e-15\n",
    "    pred = sp.maximum(epsilon, pred)\n",
    "    pred = sp.minimum(1-epsilon, pred)\n",
    "    ll = sum(act*sp.log(pred) + sp.subtract(1,act)*sp.log(sp.subtract(1,pred)))\n",
    "    ll = ll * -1.0/len(act)\n",
    "    return ll\n",
    "x = data.as_matrix()[:,1:]\n",
    "y = data.as_matrix()[:,0]\n",
    "# x_train, x_test, y_train, y_test = train_test_split(x, y, test_size=0.3, random_state=1)\n",
    "# XGBoost  \n",
    "data_train = xgb.DMatrix(x_train, label=y_train)  \n",
    "data_test = xgb.DMatrix(x_test, label=y_test)  \n",
    "watch_list = [(data_test, 'eval'), (data_train, 'train')]  \n",
    "param = {'max_depth': 8, 'eta': 0.8, 'silent': 1, 'objective': 'binary:logistic', }  \n",
    "bst = xgb.train(param, data_train, num_boost_round=50, evals=watch_list)  \n",
    "y_hat = bst.predict(data_test)  \n",
    "print logloss(y_test, y_hat) "
   ]
  },
  {
   "cell_type": "code",
   "execution_count": null,
   "metadata": {
    "collapsed": false
   },
   "outputs": [],
   "source": [
    "print x_train[:10]"
   ]
  },
  {
   "cell_type": "code",
   "execution_count": 10,
   "metadata": {
    "collapsed": false
   },
   "outputs": [
    {
     "data": {
      "text/plain": [
       "['D:\\\\tx\\\\clf\\\\xgb_1.pkl']"
      ]
     },
     "execution_count": 10,
     "metadata": {},
     "output_type": "execute_result"
    }
   ],
   "source": [
    "# 保存分类器\n",
    "from sklearn.externals import joblib\n",
    "joblib.dump(bst, 'D:\\\\tx\\\\clf\\\\xgb_1.pkl', compress=3)"
   ]
  },
  {
   "cell_type": "markdown",
   "metadata": {},
   "source": [
    "# 特征赛选"
   ]
  },
  {
   "cell_type": "code",
   "execution_count": 16,
   "metadata": {
    "collapsed": false
   },
   "outputs": [
    {
     "ename": "AttributeError",
     "evalue": "'Booster' object has no attribute 'booster'",
     "output_type": "error",
     "traceback": [
      "\u001b[0;31m---------------------------------------------------------------------------\u001b[0m",
      "\u001b[0;31mAttributeError\u001b[0m                            Traceback (most recent call last)",
      "\u001b[0;32m<ipython-input-16-76b779464f45>\u001b[0m in \u001b[0;36m<module>\u001b[0;34m()\u001b[0m\n\u001b[1;32m      1\u001b[0m \u001b[1;32mimport\u001b[0m \u001b[0mpandas\u001b[0m \u001b[1;32mas\u001b[0m \u001b[0mpd\u001b[0m\u001b[1;33m\u001b[0m\u001b[0m\n\u001b[1;32m      2\u001b[0m \u001b[1;32mimport\u001b[0m \u001b[0mmatplotlib\u001b[0m\u001b[1;33m.\u001b[0m\u001b[0mpylab\u001b[0m \u001b[1;32mas\u001b[0m \u001b[0mplt\u001b[0m\u001b[1;33m\u001b[0m\u001b[0m\n\u001b[0;32m----> 3\u001b[0;31m \u001b[0mfeat_imp\u001b[0m \u001b[1;33m=\u001b[0m \u001b[0mpd\u001b[0m\u001b[1;33m.\u001b[0m\u001b[0mSeries\u001b[0m\u001b[1;33m(\u001b[0m\u001b[0mbst\u001b[0m\u001b[1;33m.\u001b[0m\u001b[0mbooster\u001b[0m\u001b[1;33m(\u001b[0m\u001b[1;33m)\u001b[0m\u001b[1;33m.\u001b[0m\u001b[0mget_fscore\u001b[0m\u001b[1;33m(\u001b[0m\u001b[1;33m)\u001b[0m\u001b[1;33m)\u001b[0m\u001b[1;33m.\u001b[0m\u001b[0msort_values\u001b[0m\u001b[1;33m(\u001b[0m\u001b[0mascending\u001b[0m\u001b[1;33m=\u001b[0m\u001b[0mFalse\u001b[0m\u001b[1;33m)\u001b[0m\u001b[1;33m\u001b[0m\u001b[0m\n\u001b[0m\u001b[1;32m      4\u001b[0m \u001b[0mfeat_imp\u001b[0m\u001b[1;33m.\u001b[0m\u001b[0mplot\u001b[0m\u001b[1;33m(\u001b[0m\u001b[0mkind\u001b[0m\u001b[1;33m=\u001b[0m\u001b[1;34m'bar'\u001b[0m\u001b[1;33m,\u001b[0m \u001b[0mtitle\u001b[0m\u001b[1;33m=\u001b[0m\u001b[1;34m'Feature Importances'\u001b[0m\u001b[1;33m)\u001b[0m\u001b[1;33m\u001b[0m\u001b[0m\n\u001b[1;32m      5\u001b[0m \u001b[0mplt\u001b[0m\u001b[1;33m.\u001b[0m\u001b[0mylabel\u001b[0m\u001b[1;33m(\u001b[0m\u001b[1;34m'Feature Importance Score'\u001b[0m\u001b[1;33m)\u001b[0m\u001b[1;33m\u001b[0m\u001b[0m\n",
      "\u001b[0;31mAttributeError\u001b[0m: 'Booster' object has no attribute 'booster'"
     ]
    }
   ],
   "source": [
    "import pandas as pd\n",
    "import matplotlib.pylab as plt\n",
    "feat_imp = pd.Series(bst.booster().get_fscore()).sort_values(ascending=False)\n",
    "feat_imp.plot(kind='bar', title='Feature Importances')\n",
    "plt.ylabel('Feature Importance Score')\n",
    "plt.show()"
   ]
  },
  {
   "cell_type": "code",
   "execution_count": 28,
   "metadata": {
    "collapsed": false
   },
   "outputs": [
    {
     "data": {
      "image/png": "[encoded data removed]",
      "text/plain": [
       "<matplotlib.figure.Figure at 0x192c3518>"
      ]
     },
     "metadata": {},
     "output_type": "display_data"
    },
    {
     "data": {
      "image/png": "[encoded data removed]",
      "text/plain": [
       "<matplotlib.figure.Figure at 0x192c3f28>"
      ]
     },
     "metadata": {},
     "output_type": "display_data"
    }
   ],
   "source": [
    "import operator\n",
    "import matplotlib.pylab as plt\n",
    "\n",
    "def ceate_feature_map(features):\n",
    "    outfile = open('xgb.fmap', 'w')\n",
    "    i = 0\n",
    "    for feat in features:\n",
    "        outfile.write('{0}\\t{1}\\tq\\n'.format(i, feat))\n",
    "        i = i + 1\n",
    "\n",
    "    outfile.close()\n",
    "\n",
    "features = [x for x in data.columns if x not in ['label']]  \n",
    "ceate_feature_map(features)      \n",
    "importance = bst.get_fscore(fmap='xgb.fmap')\n",
    "importance = sorted(importance.items(), key=operator.itemgetter(1))\n",
    "\n",
    "df = pd.DataFrame(importance, columns=['feature', 'fscore'])\n",
    "df['fscore'] = df['fscore'] / df['fscore'].sum()\n",
    "\n",
    "# plt.figure()\n",
    "df.plot()\n",
    "df.plot(kind='barh', x='feature', y='fscore', legend=False, figsize=(16, 10))\n",
    "plt.title('XGBoost Feature Importance')\n",
    "plt.xlabel('relative importance')\n",
    "plt.gcf().savefig('feature_importance_xgb.png')\n",
    "plt.show()"
   ]
  },
  {
   "cell_type": "markdown",
   "metadata": {},
   "source": [
    "# 预测"
   ]
  },
  {
   "cell_type": "code",
   "execution_count": null,
   "metadata": {
    "collapsed": true
   },
   "outputs": [],
   "source": []
  }
 ],
 "metadata": {
  "anaconda-cloud": {},
  "kernelspec": {
   "display_name": "Python [default]",
   "language": "python",
   "name": "python2"
  },
  "language_info": {
   "codemirror_mode": {
    "name": "ipython",
    "version": 2
   },
   "file_extension": ".py",
   "mimetype": "text/x-python",
   "name": "python",
   "nbconvert_exporter": "python",
   "pygments_lexer": "ipython2",
   "version": "2.7.12"
  }
 },
 "nbformat": 4,
 "nbformat_minor": 0
}
