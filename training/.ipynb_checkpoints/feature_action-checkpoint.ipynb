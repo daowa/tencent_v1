{
 "cells": [
  {
   "cell_type": "markdown",
   "metadata": {},
   "source": [
    "# 通过标的APP与actionAPP的分布情况，投票得分"
   ]
  },
  {
   "cell_type": "code",
   "execution_count": 1,
   "metadata": {
    "collapsed": true
   },
   "outputs": [],
   "source": [
    "import numpy as np\n",
    "import pandas as pd"
   ]
  },
  {
   "cell_type": "markdown",
   "metadata": {},
   "source": [
    "## 1.数据基本了解"
   ]
  },
  {
   "cell_type": "code",
   "execution_count": null,
   "metadata": {
    "collapsed": true
   },
   "outputs": [],
   "source": [
    "dataAction = pd.read_csv('E:\\\\work\\\\kaggle\\\\data\\\\tecent\\\\pre\\\\user_app_actions.csv')"
   ]
  },
  {
   "cell_type": "code",
   "execution_count": null,
   "metadata": {
    "collapsed": false
   },
   "outputs": [],
   "source": [
    "dataAction.head()"
   ]
  },
  {
   "cell_type": "markdown",
   "metadata": {},
   "source": [
    "## 2.将用户转化记录也考虑在内"
   ]
  },
  {
   "cell_type": "code",
   "execution_count": null,
   "metadata": {
    "collapsed": false
   },
   "outputs": [],
   "source": [
    "dataTrain = pd.read_csv('E:\\\\work\\\\kaggle\\\\data\\\\tecent\\\\pre\\\\train.csv')\n",
    "dataTrain = pd.merge(dataTrain, pd.read_csv('E:\\\\work\\\\kaggle\\\\data\\\\tecent\\\\pre\\\\ad.csv'), on='creativeID')\n",
    "dataTrain = dataTrain[['userID','label','appID']]\n",
    "dataTrain = dataTrain[dataTrain['label']==1][['userID','appID']]\n",
    "dataAction = pd.concat([dataAction[['userID','appID']],dataTrain])\n",
    "dataAction.drop_duplicates(inplace=True)"
   ]
  },
  {
   "cell_type": "code",
   "execution_count": null,
   "metadata": {
    "collapsed": false
   },
   "outputs": [],
   "source": [
    "dataAction.head()"
   ]
  },
  {
   "cell_type": "markdown",
   "metadata": {},
   "source": [
    "# 3.用户APP列表"
   ]
  },
  {
   "cell_type": "code",
   "execution_count": null,
   "metadata": {
    "collapsed": true
   },
   "outputs": [],
   "source": [
    "def getAppList(df):\n",
    "    return list(df['appID'])\n",
    "out = dataAction.groupby('userID').apply(getAppList)\n",
    "out = out.reset_index()\n",
    "out.rename(columns={0:'appList'},inplace=True)\n",
    "out.to_csv('E:\\\\work\\\\kaggle\\\\data\\\\tecent\\\\feature\\\\app_action\\\\action_user_applist.csv',index=False)"
   ]
  },
  {
   "cell_type": "code",
   "execution_count": null,
   "metadata": {
    "collapsed": false
   },
   "outputs": [],
   "source": [
    "read = pd.read_csv('E:\\\\work\\\\kaggle\\\\data\\\\tecent\\\\feature\\\\app_action\\\\action_user_applist.csv')\n",
    "read.head()"
   ]
  },
  {
   "cell_type": "markdown",
   "metadata": {},
   "source": [
    "# 4.APP-用户列表"
   ]
  },
  {
   "cell_type": "code",
   "execution_count": null,
   "metadata": {
    "collapsed": false
   },
   "outputs": [],
   "source": [
    "def getUserList(df):\n",
    "    return list(df['userID'])\n",
    "out = dataAction.groupby('appID').apply(getUserList)\n",
    "out = out.reset_index()\n",
    "out.rename(columns={0:'userList'},inplace=True)\n",
    "out.to_csv('E:\\\\work\\\\kaggle\\\\data\\\\tecent\\\\feature\\\\app_action\\\\action_app_userlist.csv',index=False)"
   ]
  },
  {
   "cell_type": "code",
   "execution_count": null,
   "metadata": {
    "collapsed": false
   },
   "outputs": [],
   "source": [
    "read = pd.read_csv('E:\\\\work\\\\kaggle\\\\data\\\\tecent\\\\feature\\\\app_action\\\\action_app_userlist.csv')\n",
    "read.head()"
   ]
  },
  {
   "cell_type": "markdown",
   "metadata": {},
   "source": [
    "# 5.targetAPP与其它APP的实际共现数量"
   ]
  },
  {
   "cell_type": "code",
   "execution_count": 3,
   "metadata": {
    "collapsed": false
   },
   "outputs": [
    {
     "ename": "NameError",
     "evalue": "name 'getDictUserAppLists' is not defined",
     "output_type": "error",
     "traceback": [
      "\u001b[0;31m---------------------------------------------------------------------------\u001b[0m",
      "\u001b[0;31mNameError\u001b[0m                                 Traceback (most recent call last)",
      "\u001b[0;32m<ipython-input-3-c6c54298a8b3>\u001b[0m in \u001b[0;36m<module>\u001b[0;34m()\u001b[0m\n\u001b[1;32m      4\u001b[0m \u001b[1;32mdef\u001b[0m \u001b[0mgetDictUserAppList\u001b[0m\u001b[1;33m(\u001b[0m\u001b[0mx\u001b[0m\u001b[1;33m)\u001b[0m\u001b[1;33m:\u001b[0m\u001b[1;33m\u001b[0m\u001b[0m\n\u001b[1;32m      5\u001b[0m      \u001b[0mdict_user_applist\u001b[0m\u001b[1;33m[\u001b[0m\u001b[0mx\u001b[0m\u001b[1;33m[\u001b[0m\u001b[1;36m0\u001b[0m\u001b[1;33m]\u001b[0m\u001b[1;33m]\u001b[0m \u001b[1;33m=\u001b[0m \u001b[0mx\u001b[0m\u001b[1;33m[\u001b[0m\u001b[1;36m1\u001b[0m\u001b[1;33m]\u001b[0m\u001b[1;33m[\u001b[0m\u001b[1;36m1\u001b[0m\u001b[1;33m:\u001b[0m\u001b[1;33m-\u001b[0m\u001b[1;36m1\u001b[0m\u001b[1;33m]\u001b[0m\u001b[1;33m.\u001b[0m\u001b[0msplit\u001b[0m\u001b[1;33m(\u001b[0m\u001b[1;34m', '\u001b[0m\u001b[1;33m)\u001b[0m\u001b[1;33m\u001b[0m\u001b[0m\n\u001b[0;32m----> 6\u001b[0;31m \u001b[0mread\u001b[0m\u001b[1;33m.\u001b[0m\u001b[0mapply\u001b[0m\u001b[1;33m(\u001b[0m\u001b[0mgetDictUserAppLists\u001b[0m\u001b[1;33m,\u001b[0m \u001b[0maxis\u001b[0m\u001b[1;33m=\u001b[0m\u001b[1;36m1\u001b[0m\u001b[1;33m)\u001b[0m\u001b[1;33m\u001b[0m\u001b[0m\n\u001b[0m\u001b[1;32m      7\u001b[0m \u001b[0mread\u001b[0m\u001b[1;33m.\u001b[0m\u001b[0mhead\u001b[0m\u001b[1;33m(\u001b[0m\u001b[1;33m)\u001b[0m\u001b[1;33m\u001b[0m\u001b[0m\n",
      "\u001b[0;31mNameError\u001b[0m: name 'getDictUserAppLists' is not defined"
     ]
    }
   ],
   "source": [
    "# 读取user_applist\n",
    "read = pd.read_csv('C:\\\\Users\\\\work\\\\Desktop\\\\tencent\\\\feature\\\\app_action\\\\action_user_applist.csv')\n",
    "dict_user_applist = {}\n",
    "def getDictUserAppList(x):\n",
    "     dict_user_applist[x[0]] = x[1][1:-1].split(', ')\n",
    "read.apply(getDictUserAppList, axis=1)\n",
    "read.head()"
   ]
  },
  {
   "cell_type": "code",
   "execution_count": null,
   "metadata": {
    "collapsed": true
   },
   "outputs": [],
   "source": [
    "# 获得targetID名单\n",
    "dataAppID = pd.read_csv('E:\\\\work\\\\kaggle\\\\data\\\\tecent\\\\pre\\\\ad.csv')\n",
    "appIDs = set(dataAppID['appID'])"
   ]
  },
  {
   "cell_type": "code",
   "execution_count": null,
   "metadata": {
    "collapsed": true
   },
   "outputs": [],
   "source": []
  }
 ],
 "metadata": {
  "anaconda-cloud": {},
  "kernelspec": {
   "display_name": "Python [default]",
   "language": "python",
   "name": "python2"
  },
  "language_info": {
   "codemirror_mode": {
    "name": "ipython",
    "version": 2
   },
   "file_extension": ".py",
   "mimetype": "text/x-python",
   "name": "python",
   "nbconvert_exporter": "python",
   "pygments_lexer": "ipython2",
   "version": "2.7.12"
  }
 },
 "nbformat": 4,
 "nbformat_minor": 0
}
