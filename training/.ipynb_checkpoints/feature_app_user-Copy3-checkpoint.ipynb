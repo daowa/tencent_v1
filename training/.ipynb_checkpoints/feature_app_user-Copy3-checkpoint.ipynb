{
 "cells": [
  {
   "cell_type": "markdown",
   "metadata": {},
   "source": [
    "# 计算用户和app的匹配程度（只计算与正例的接近程度）"
   ]
  },
  {
   "cell_type": "code",
   "execution_count": 1,
   "metadata": {
    "collapsed": true
   },
   "outputs": [],
   "source": [
    "import numpy as np\n",
    "import pandas as pd\n",
    "import math"
   ]
  },
  {
   "cell_type": "code",
   "execution_count": 2,
   "metadata": {
    "collapsed": false
   },
   "outputs": [],
   "source": [
    "# 读入用户和app\n",
    "dataTrain = pd.concat([pd.read_csv(\"C:\\\\Users\\\\work\\\\Desktop\\\\tencent\\\\pre\\\\train.csv\"),pd.read_csv(\"C:\\\\Users\\\\work\\\\Desktop\\\\tencent\\\\pre\\\\test.csv\")])\n",
    "dataTrain  = pd.merge(dataTrain, pd.read_csv(\"C:\\\\Users\\\\work\\\\Desktop\\\\tencent\\\\pre\\\\ad.csv\"), on='creativeID')\n",
    "dataTrain = dataTrain[['userID','appID']]\n",
    "## 去掉重复值\n",
    "dataTrain.drop_duplicates(inplace=True)"
   ]
  },
  {
   "cell_type": "code",
   "execution_count": 3,
   "metadata": {
    "collapsed": false
   },
   "outputs": [
    {
     "name": "stdout",
     "output_type": "stream",
     "text": [
      "0.0113160574856\n"
     ]
    }
   ],
   "source": [
    "# 读入userSingle\n",
    "## 注意这里使用了single2，即app出现数量log化了，更鼓励小众app\n",
    "dataUserSingle = pd.read_csv('C:\\\\Users\\\\work\\\\Desktop\\\\tencent\\\\feature\\\\app-user\\\\user_single_simple4.csv')\n",
    "dictUserSingle = {}\n",
    "def getDictUserSingle(x):\n",
    "    key = str(int(x[0])) + '-' + str(int(x[1])) + '-' + str(int(x[2]))\n",
    "    value = eval(x[3])\n",
    "    dictUserSingle[key] = value\n",
    "dataUserSingle.apply(getDictUserSingle, axis=1)\n",
    "print dictUserSingle['83-1-0']['723'] #第一位是appid，第二位是single，第三位是partition"
   ]
  },
  {
   "cell_type": "code",
   "execution_count": 4,
   "metadata": {
    "collapsed": false
   },
   "outputs": [],
   "source": [
    "dataAppCoScale = pd.read_csv('C:\\\\Users\\\\work\\\\Desktop\\\\tencent\\\\feature\\\\app-user\\\\app_coScale.csv')\n",
    "dataAppCoScale['scale_reci'] = 1000000/dataAppCoScale['scale'] #扩大系数使得不用省略太多尾数\n",
    "dataAppCoScale =  dataAppCoScale[['appID', 'scale_reci']].set_index('appID')\n",
    "dictAppScore = dataAppCoScale.to_dict() #索引，为了加快速度"
   ]
  },
  {
   "cell_type": "code",
   "execution_count": 5,
   "metadata": {
    "collapsed": false
   },
   "outputs": [
    {
     "data": {
      "text/html": [
       "<div>\n",
       "<table border=\"1\" class=\"dataframe\">\n",
       "  <thead>\n",
       "    <tr style=\"text-align: right;\">\n",
       "      <th></th>\n",
       "      <th>userID</th>\n",
       "      <th>appList</th>\n",
       "    </tr>\n",
       "  </thead>\n",
       "  <tbody>\n",
       "    <tr>\n",
       "      <th>0</th>\n",
       "      <td>1</td>\n",
       "      <td>[357, 360, 362, 365, 375, 441, 480, 481, 482, ...</td>\n",
       "    </tr>\n",
       "    <tr>\n",
       "      <th>1</th>\n",
       "      <td>9</td>\n",
       "      <td>[538, 602, 604]</td>\n",
       "    </tr>\n",
       "    <tr>\n",
       "      <th>2</th>\n",
       "      <td>10</td>\n",
       "      <td>[357, 359, 365, 383, 480, 481, 482, 483, 484, ...</td>\n",
       "    </tr>\n",
       "    <tr>\n",
       "      <th>3</th>\n",
       "      <td>12</td>\n",
       "      <td>[480, 481, 482, 483, 484, 485, 486, 487, 488, ...</td>\n",
       "    </tr>\n",
       "    <tr>\n",
       "      <th>4</th>\n",
       "      <td>14</td>\n",
       "      <td>[362, 480, 481, 482, 483, 484, 485, 486, 487, ...</td>\n",
       "    </tr>\n",
       "  </tbody>\n",
       "</table>\n",
       "</div>"
      ],
      "text/plain": [
       "   userID                                            appList\n",
       "0       1  [357, 360, 362, 365, 375, 441, 480, 481, 482, ...\n",
       "1       9                                    [538, 602, 604]\n",
       "2      10  [357, 359, 365, 383, 480, 481, 482, 483, 484, ...\n",
       "3      12  [480, 481, 482, 483, 484, 485, 486, 487, 488, ...\n",
       "4      14  [362, 480, 481, 482, 483, 484, 485, 486, 487, ..."
      ]
     },
     "execution_count": 5,
     "metadata": {},
     "output_type": "execute_result"
    }
   ],
   "source": [
    "# 读取user_apps\n",
    "dataUserApps = pd.read_csv('C:\\\\Users\\\\work\\\\Desktop\\\\tencent\\\\feature\\\\app-user\\\\user_apps.csv', names=['userID', 'appList'])\n",
    "dict_userApps = {}\n",
    "def getDictUserApps(x):\n",
    "     dict_userApps[x[0]] = x[1][1:-1].split(', ')\n",
    "dataUserApps.apply(getDictUserApps, axis=1)\n",
    "dataUserApps.head()"
   ]
  },
  {
   "cell_type": "code",
   "execution_count": 6,
   "metadata": {
    "collapsed": false
   },
   "outputs": [],
   "source": [
    "# 直接计算好single-appid的score，加快运算速度\n",
    "dict_SingleAppid_score = {}\n",
    "# 获得targetID名单\n",
    "dataAppID = pd.read_csv('C:\\\\Users\\\\work\\\\Desktop\\\\tencent\\\\pre\\\\ad.csv')\n",
    "appIDs = set(dataAppID['appID'])\n",
    "for id in appIDs:\n",
    "    voteType = [0, 1]\n",
    "    for v in voteType:\n",
    "        single = str(id) + '-' + '1' + '-' + str(v)\n",
    "        mDict = dictUserSingle[single]\n",
    "        for appid in mDict.keys():\n",
    "            dict_SingleAppid_score[single + '|'  + str(appid)] = dictAppScore['scale_reci'][int(appid)] * mDict[appid]"
   ]
  },
  {
   "cell_type": "code",
   "execution_count": 7,
   "metadata": {
    "collapsed": true
   },
   "outputs": [],
   "source": [
    "# 每个single的keys\n",
    "dict_single_keys = {}\n",
    "appIDs = set(dataAppID['appID'])\n",
    "for id in appIDs:\n",
    "    voteType = [0, 1]\n",
    "    for v in voteType:\n",
    "        single = str(id) + '-' + '1' + '-' + str(v)\n",
    "        dict_single_keys[single] = dictUserSingle[single].keys()"
   ]
  },
  {
   "cell_type": "code",
   "execution_count": 8,
   "metadata": {
    "collapsed": false
   },
   "outputs": [],
   "source": [
    "# 用户与single的相似度计算函数\n",
    "def getScore(list, single):\n",
    "    score = 0.0\n",
    "    for l in list:\n",
    "#         无并集模式\n",
    "#         score += dict_SingleAppid_score[single + '|' + l]\n",
    "#         ## 有并集模式\n",
    "        if dictUserSingle[single].has_key(l): #交集及single这边的app\n",
    "            score += dict_SingleAppid_score[single + '|' + l]\n",
    "        else: #仅user这边的app\n",
    "            score += dictAppScore['scale_reci'][int(l)]\n",
    "    return score\n",
    "def cal_coScale(user, single):\n",
    "    if dict_userApps.has_key(user) == False: #对于缺乏数据的用户，目前返回0\n",
    "        return 0\n",
    "    list0 = dict_userApps[user]\n",
    "    list1 = dict_single_keys[single]\n",
    "#     intersect = np.intersect1d(list0, list1)\n",
    "    union = np.union1d(list0, list1)\n",
    "#     length = len(intersect)\n",
    "#     if(length == 0): \n",
    "#         return 0\n",
    "#     else: \n",
    "#         return getScore(intersect, single)\n",
    "#         return getScore(intersect, single)/length\n",
    "#         return getScore(intersect, single)/getScore(union, single)\n",
    "    return getScore(union, single)"
   ]
  },
  {
   "cell_type": "code",
   "execution_count": 9,
   "metadata": {
    "collapsed": false
   },
   "outputs": [],
   "source": [
    "def getVote(x, voteType):\n",
    "    single = str(int(x[1])) + '-' + '1' + '-' + str(voteType)\n",
    "    return cal_coScale(int(x[0]), single)\n",
    "dataTrain['vote1_union'] = dataTrain[['userID','appID']].apply(getVote, args=(1,), axis=1)\n",
    "# dataTrain['vote0'] = dataTrain[['userID','appID']].apply(getVote, args=(0,), axis=1) #不计算0了"
   ]
  },
  {
   "cell_type": "code",
   "execution_count": null,
   "metadata": {
    "collapsed": false
   },
   "outputs": [],
   "source": [
    "import timeit\n",
    "def ft():\n",
    "    cal_coScale(16,'465-1-1')\n",
    "timeit.timeit(ft,number=1)"
   ]
  },
  {
   "cell_type": "code",
   "execution_count": null,
   "metadata": {
    "collapsed": false
   },
   "outputs": [],
   "source": [
    "dataTrain.head()"
   ]
  },
  {
   "cell_type": "code",
   "execution_count": null,
   "metadata": {
    "collapsed": false
   },
   "outputs": [],
   "source": [
    "dataTrain['voteMinus1'] = dataTrain['vote1'] - dataTrain['vote0']\n",
    "dataTrain['voteMinus2'] = (dataTrain['vote1']-dataTrain['vote0'])/(dataTrain['vote1']+dataTrain['vote0']+1)"
   ]
  },
  {
   "cell_type": "code",
   "execution_count": null,
   "metadata": {
    "collapsed": false
   },
   "outputs": [],
   "source": [
    "dataTrain[dataTrain['voteMinus1']==0].groupby(['label']).count()"
   ]
  },
  {
   "cell_type": "code",
   "execution_count": 10,
   "metadata": {
    "collapsed": false
   },
   "outputs": [],
   "source": [
    "# 4是采用simple的方法获取single，并采用 getScore(intersect, single)/length 获取vote1和vote0\n",
    "# 5是采用有threshold的simple方法(阈值千分一)\n",
    "# simple3是采用有threshold的simple方法(阈值万分一)\n",
    "# simple4是无log化，阈值为万分五的方法,用getscore/length的方法求vote1\n",
    "# simple4_是求simple的getScore(union,single)\n",
    "dataTrain.to_csv('C:\\\\Users\\\\work\\\\Desktop\\\\tencent\\\\feature\\\\user_single_vote_simple4_.csv',index=False)"
   ]
  },
  {
   "cell_type": "markdown",
   "metadata": {},
   "source": [
    "# 进一步处理"
   ]
  },
  {
   "cell_type": "code",
   "execution_count": 15,
   "metadata": {
    "collapsed": false
   },
   "outputs": [],
   "source": [
    "temp = pd.read_csv('C:\\\\Users\\\\work\\\\Desktop\\\\tencent\\\\feature\\\\user_single_vote_simple4.csv')\n",
    "temp = temp.drop_duplicates()\n",
    "temp2 = pd.read_csv('C:\\\\Users\\\\work\\\\Desktop\\\\tencent\\\\feature\\\\user_single_vote_simple4_.csv')\n",
    "temp2 = temp2.drop_duplicates()\n",
    "temp = pd.merge(temp, temp2, on=['userID','appID'])\n",
    "temp['vote1++'] = temp['vote1'] / temp['vote1_union']"
   ]
  },
  {
   "cell_type": "code",
   "execution_count": 22,
   "metadata": {
    "collapsed": true
   },
   "outputs": [],
   "source": [
    "dataTrain = pd.read_csv(\"C:\\\\Users\\\\work\\\\Desktop\\\\tencent\\\\pre\\\\train.csv\")[['userID','label']]\n",
    "temp = pd.merge(dataTrain, temp, on='userID', how='left')"
   ]
  },
  {
   "cell_type": "code",
   "execution_count": 23,
   "metadata": {
    "collapsed": false
   },
   "outputs": [
    {
     "data": {
      "text/html": [
       "<div>\n",
       "<table border=\"1\" class=\"dataframe\">\n",
       "  <thead>\n",
       "    <tr style=\"text-align: right;\">\n",
       "      <th></th>\n",
       "      <th>userID</th>\n",
       "      <th>label</th>\n",
       "      <th>appID</th>\n",
       "      <th>vote1</th>\n",
       "      <th>vote1_union</th>\n",
       "      <th>vote1++</th>\n",
       "    </tr>\n",
       "  </thead>\n",
       "  <tbody>\n",
       "    <tr>\n",
       "      <th>144689</th>\n",
       "      <td>1516447</td>\n",
       "      <td>1</td>\n",
       "      <td>83</td>\n",
       "      <td>1.388120</td>\n",
       "      <td>838.056259</td>\n",
       "      <td>0.001656</td>\n",
       "    </tr>\n",
       "    <tr>\n",
       "      <th>1403129</th>\n",
       "      <td>914826</td>\n",
       "      <td>0</td>\n",
       "      <td>83</td>\n",
       "      <td>0.871102</td>\n",
       "      <td>838.056259</td>\n",
       "      <td>0.001039</td>\n",
       "    </tr>\n",
       "    <tr>\n",
       "      <th>2349247</th>\n",
       "      <td>1540114</td>\n",
       "      <td>1</td>\n",
       "      <td>83</td>\n",
       "      <td>1.167720</td>\n",
       "      <td>1127.240759</td>\n",
       "      <td>0.001036</td>\n",
       "    </tr>\n",
       "    <tr>\n",
       "      <th>189658</th>\n",
       "      <td>2373699</td>\n",
       "      <td>1</td>\n",
       "      <td>83</td>\n",
       "      <td>0.784954</td>\n",
       "      <td>838.056259</td>\n",
       "      <td>0.000937</td>\n",
       "    </tr>\n",
       "    <tr>\n",
       "      <th>2142667</th>\n",
       "      <td>718408</td>\n",
       "      <td>1</td>\n",
       "      <td>83</td>\n",
       "      <td>0.757995</td>\n",
       "      <td>838.056259</td>\n",
       "      <td>0.000904</td>\n",
       "    </tr>\n",
       "    <tr>\n",
       "      <th>472767</th>\n",
       "      <td>1547202</td>\n",
       "      <td>0</td>\n",
       "      <td>83</td>\n",
       "      <td>0.737159</td>\n",
       "      <td>838.056259</td>\n",
       "      <td>0.000880</td>\n",
       "    </tr>\n",
       "    <tr>\n",
       "      <th>427186</th>\n",
       "      <td>485742</td>\n",
       "      <td>0</td>\n",
       "      <td>83</td>\n",
       "      <td>0.656211</td>\n",
       "      <td>838.056259</td>\n",
       "      <td>0.000783</td>\n",
       "    </tr>\n",
       "    <tr>\n",
       "      <th>2687597</th>\n",
       "      <td>1595936</td>\n",
       "      <td>0</td>\n",
       "      <td>83</td>\n",
       "      <td>0.656211</td>\n",
       "      <td>838.056259</td>\n",
       "      <td>0.000783</td>\n",
       "    </tr>\n",
       "    <tr>\n",
       "      <th>687663</th>\n",
       "      <td>2680803</td>\n",
       "      <td>0</td>\n",
       "      <td>83</td>\n",
       "      <td>0.601041</td>\n",
       "      <td>838.056259</td>\n",
       "      <td>0.000717</td>\n",
       "    </tr>\n",
       "    <tr>\n",
       "      <th>1030766</th>\n",
       "      <td>1103879</td>\n",
       "      <td>0</td>\n",
       "      <td>83</td>\n",
       "      <td>0.592959</td>\n",
       "      <td>838.056259</td>\n",
       "      <td>0.000708</td>\n",
       "    </tr>\n",
       "    <tr>\n",
       "      <th>507146</th>\n",
       "      <td>2455928</td>\n",
       "      <td>0</td>\n",
       "      <td>83</td>\n",
       "      <td>0.578561</td>\n",
       "      <td>838.056259</td>\n",
       "      <td>0.000690</td>\n",
       "    </tr>\n",
       "    <tr>\n",
       "      <th>2491493</th>\n",
       "      <td>2455928</td>\n",
       "      <td>0</td>\n",
       "      <td>83</td>\n",
       "      <td>0.578561</td>\n",
       "      <td>838.056259</td>\n",
       "      <td>0.000690</td>\n",
       "    </tr>\n",
       "    <tr>\n",
       "      <th>569447</th>\n",
       "      <td>2455928</td>\n",
       "      <td>0</td>\n",
       "      <td>83</td>\n",
       "      <td>0.578561</td>\n",
       "      <td>838.056259</td>\n",
       "      <td>0.000690</td>\n",
       "    </tr>\n",
       "    <tr>\n",
       "      <th>516362</th>\n",
       "      <td>2455928</td>\n",
       "      <td>0</td>\n",
       "      <td>83</td>\n",
       "      <td>0.578561</td>\n",
       "      <td>838.056259</td>\n",
       "      <td>0.000690</td>\n",
       "    </tr>\n",
       "    <tr>\n",
       "      <th>2322202</th>\n",
       "      <td>2455928</td>\n",
       "      <td>0</td>\n",
       "      <td>83</td>\n",
       "      <td>0.578561</td>\n",
       "      <td>838.056259</td>\n",
       "      <td>0.000690</td>\n",
       "    </tr>\n",
       "    <tr>\n",
       "      <th>3017336</th>\n",
       "      <td>2455928</td>\n",
       "      <td>0</td>\n",
       "      <td>83</td>\n",
       "      <td>0.578561</td>\n",
       "      <td>838.056259</td>\n",
       "      <td>0.000690</td>\n",
       "    </tr>\n",
       "    <tr>\n",
       "      <th>159197</th>\n",
       "      <td>2455928</td>\n",
       "      <td>0</td>\n",
       "      <td>83</td>\n",
       "      <td>0.578561</td>\n",
       "      <td>838.056259</td>\n",
       "      <td>0.000690</td>\n",
       "    </tr>\n",
       "    <tr>\n",
       "      <th>4017115</th>\n",
       "      <td>2455928</td>\n",
       "      <td>0</td>\n",
       "      <td>83</td>\n",
       "      <td>0.578561</td>\n",
       "      <td>838.056259</td>\n",
       "      <td>0.000690</td>\n",
       "    </tr>\n",
       "    <tr>\n",
       "      <th>700352</th>\n",
       "      <td>469491</td>\n",
       "      <td>0</td>\n",
       "      <td>83</td>\n",
       "      <td>0.575720</td>\n",
       "      <td>838.056259</td>\n",
       "      <td>0.000687</td>\n",
       "    </tr>\n",
       "    <tr>\n",
       "      <th>694800</th>\n",
       "      <td>2298366</td>\n",
       "      <td>1</td>\n",
       "      <td>83</td>\n",
       "      <td>0.569181</td>\n",
       "      <td>838.056259</td>\n",
       "      <td>0.000679</td>\n",
       "    </tr>\n",
       "    <tr>\n",
       "      <th>60413</th>\n",
       "      <td>1442572</td>\n",
       "      <td>0</td>\n",
       "      <td>83</td>\n",
       "      <td>0.563802</td>\n",
       "      <td>838.056259</td>\n",
       "      <td>0.000673</td>\n",
       "    </tr>\n",
       "    <tr>\n",
       "      <th>518217</th>\n",
       "      <td>853087</td>\n",
       "      <td>0</td>\n",
       "      <td>83</td>\n",
       "      <td>0.562671</td>\n",
       "      <td>838.056259</td>\n",
       "      <td>0.000671</td>\n",
       "    </tr>\n",
       "    <tr>\n",
       "      <th>1380149</th>\n",
       "      <td>1402132</td>\n",
       "      <td>0</td>\n",
       "      <td>83</td>\n",
       "      <td>0.549157</td>\n",
       "      <td>838.056259</td>\n",
       "      <td>0.000655</td>\n",
       "    </tr>\n",
       "    <tr>\n",
       "      <th>1695427</th>\n",
       "      <td>2088575</td>\n",
       "      <td>1</td>\n",
       "      <td>83</td>\n",
       "      <td>0.547021</td>\n",
       "      <td>838.056259</td>\n",
       "      <td>0.000653</td>\n",
       "    </tr>\n",
       "    <tr>\n",
       "      <th>1735107</th>\n",
       "      <td>904055</td>\n",
       "      <td>0</td>\n",
       "      <td>83</td>\n",
       "      <td>0.535725</td>\n",
       "      <td>838.056259</td>\n",
       "      <td>0.000639</td>\n",
       "    </tr>\n",
       "    <tr>\n",
       "      <th>1406909</th>\n",
       "      <td>658564</td>\n",
       "      <td>0</td>\n",
       "      <td>83</td>\n",
       "      <td>0.527376</td>\n",
       "      <td>838.056259</td>\n",
       "      <td>0.000629</td>\n",
       "    </tr>\n",
       "    <tr>\n",
       "      <th>169921</th>\n",
       "      <td>658564</td>\n",
       "      <td>0</td>\n",
       "      <td>83</td>\n",
       "      <td>0.527376</td>\n",
       "      <td>838.056259</td>\n",
       "      <td>0.000629</td>\n",
       "    </tr>\n",
       "    <tr>\n",
       "      <th>564139</th>\n",
       "      <td>2561752</td>\n",
       "      <td>0</td>\n",
       "      <td>83</td>\n",
       "      <td>0.526814</td>\n",
       "      <td>838.056259</td>\n",
       "      <td>0.000629</td>\n",
       "    </tr>\n",
       "    <tr>\n",
       "      <th>553826</th>\n",
       "      <td>2561752</td>\n",
       "      <td>0</td>\n",
       "      <td>83</td>\n",
       "      <td>0.526814</td>\n",
       "      <td>838.056259</td>\n",
       "      <td>0.000629</td>\n",
       "    </tr>\n",
       "    <tr>\n",
       "      <th>554293</th>\n",
       "      <td>2561752</td>\n",
       "      <td>0</td>\n",
       "      <td>83</td>\n",
       "      <td>0.526814</td>\n",
       "      <td>838.056259</td>\n",
       "      <td>0.000629</td>\n",
       "    </tr>\n",
       "    <tr>\n",
       "      <th>...</th>\n",
       "      <td>...</td>\n",
       "      <td>...</td>\n",
       "      <td>...</td>\n",
       "      <td>...</td>\n",
       "      <td>...</td>\n",
       "      <td>...</td>\n",
       "    </tr>\n",
       "    <tr>\n",
       "      <th>4097972</th>\n",
       "      <td>2057139</td>\n",
       "      <td>0</td>\n",
       "      <td>83</td>\n",
       "      <td>0.000000</td>\n",
       "      <td>0.000000</td>\n",
       "      <td>NaN</td>\n",
       "    </tr>\n",
       "    <tr>\n",
       "      <th>4098047</th>\n",
       "      <td>2057139</td>\n",
       "      <td>0</td>\n",
       "      <td>83</td>\n",
       "      <td>0.000000</td>\n",
       "      <td>0.000000</td>\n",
       "      <td>NaN</td>\n",
       "    </tr>\n",
       "    <tr>\n",
       "      <th>4098168</th>\n",
       "      <td>2057139</td>\n",
       "      <td>0</td>\n",
       "      <td>83</td>\n",
       "      <td>0.000000</td>\n",
       "      <td>0.000000</td>\n",
       "      <td>NaN</td>\n",
       "    </tr>\n",
       "    <tr>\n",
       "      <th>4100290</th>\n",
       "      <td>217508</td>\n",
       "      <td>0</td>\n",
       "      <td>83</td>\n",
       "      <td>0.000000</td>\n",
       "      <td>0.000000</td>\n",
       "      <td>NaN</td>\n",
       "    </tr>\n",
       "    <tr>\n",
       "      <th>4103136</th>\n",
       "      <td>657537</td>\n",
       "      <td>0</td>\n",
       "      <td>83</td>\n",
       "      <td>0.000000</td>\n",
       "      <td>0.000000</td>\n",
       "      <td>NaN</td>\n",
       "    </tr>\n",
       "    <tr>\n",
       "      <th>4106243</th>\n",
       "      <td>657537</td>\n",
       "      <td>0</td>\n",
       "      <td>83</td>\n",
       "      <td>0.000000</td>\n",
       "      <td>0.000000</td>\n",
       "      <td>NaN</td>\n",
       "    </tr>\n",
       "    <tr>\n",
       "      <th>4108498</th>\n",
       "      <td>1946442</td>\n",
       "      <td>0</td>\n",
       "      <td>83</td>\n",
       "      <td>0.000000</td>\n",
       "      <td>0.000000</td>\n",
       "      <td>NaN</td>\n",
       "    </tr>\n",
       "    <tr>\n",
       "      <th>4123196</th>\n",
       "      <td>1146499</td>\n",
       "      <td>0</td>\n",
       "      <td>83</td>\n",
       "      <td>0.000000</td>\n",
       "      <td>0.000000</td>\n",
       "      <td>NaN</td>\n",
       "    </tr>\n",
       "    <tr>\n",
       "      <th>4123633</th>\n",
       "      <td>1904840</td>\n",
       "      <td>0</td>\n",
       "      <td>83</td>\n",
       "      <td>0.000000</td>\n",
       "      <td>0.000000</td>\n",
       "      <td>NaN</td>\n",
       "    </tr>\n",
       "    <tr>\n",
       "      <th>4128438</th>\n",
       "      <td>2097642</td>\n",
       "      <td>0</td>\n",
       "      <td>83</td>\n",
       "      <td>0.000000</td>\n",
       "      <td>0.000000</td>\n",
       "      <td>NaN</td>\n",
       "    </tr>\n",
       "    <tr>\n",
       "      <th>4131022</th>\n",
       "      <td>430626</td>\n",
       "      <td>0</td>\n",
       "      <td>83</td>\n",
       "      <td>0.000000</td>\n",
       "      <td>0.000000</td>\n",
       "      <td>NaN</td>\n",
       "    </tr>\n",
       "    <tr>\n",
       "      <th>4138189</th>\n",
       "      <td>450237</td>\n",
       "      <td>0</td>\n",
       "      <td>83</td>\n",
       "      <td>0.000000</td>\n",
       "      <td>0.000000</td>\n",
       "      <td>NaN</td>\n",
       "    </tr>\n",
       "    <tr>\n",
       "      <th>4139600</th>\n",
       "      <td>1498137</td>\n",
       "      <td>0</td>\n",
       "      <td>83</td>\n",
       "      <td>0.000000</td>\n",
       "      <td>0.000000</td>\n",
       "      <td>NaN</td>\n",
       "    </tr>\n",
       "    <tr>\n",
       "      <th>4140687</th>\n",
       "      <td>328798</td>\n",
       "      <td>0</td>\n",
       "      <td>83</td>\n",
       "      <td>0.000000</td>\n",
       "      <td>0.000000</td>\n",
       "      <td>NaN</td>\n",
       "    </tr>\n",
       "    <tr>\n",
       "      <th>4158621</th>\n",
       "      <td>2523089</td>\n",
       "      <td>0</td>\n",
       "      <td>83</td>\n",
       "      <td>0.000000</td>\n",
       "      <td>0.000000</td>\n",
       "      <td>NaN</td>\n",
       "    </tr>\n",
       "    <tr>\n",
       "      <th>4170162</th>\n",
       "      <td>562829</td>\n",
       "      <td>0</td>\n",
       "      <td>83</td>\n",
       "      <td>0.000000</td>\n",
       "      <td>0.000000</td>\n",
       "      <td>NaN</td>\n",
       "    </tr>\n",
       "    <tr>\n",
       "      <th>4179611</th>\n",
       "      <td>217508</td>\n",
       "      <td>0</td>\n",
       "      <td>83</td>\n",
       "      <td>0.000000</td>\n",
       "      <td>0.000000</td>\n",
       "      <td>NaN</td>\n",
       "    </tr>\n",
       "    <tr>\n",
       "      <th>4181982</th>\n",
       "      <td>1154707</td>\n",
       "      <td>0</td>\n",
       "      <td>83</td>\n",
       "      <td>0.000000</td>\n",
       "      <td>0.000000</td>\n",
       "      <td>NaN</td>\n",
       "    </tr>\n",
       "    <tr>\n",
       "      <th>4196812</th>\n",
       "      <td>372037</td>\n",
       "      <td>0</td>\n",
       "      <td>83</td>\n",
       "      <td>0.000000</td>\n",
       "      <td>0.000000</td>\n",
       "      <td>NaN</td>\n",
       "    </tr>\n",
       "    <tr>\n",
       "      <th>4199248</th>\n",
       "      <td>865690</td>\n",
       "      <td>0</td>\n",
       "      <td>83</td>\n",
       "      <td>0.000000</td>\n",
       "      <td>0.000000</td>\n",
       "      <td>NaN</td>\n",
       "    </tr>\n",
       "    <tr>\n",
       "      <th>4206224</th>\n",
       "      <td>217508</td>\n",
       "      <td>0</td>\n",
       "      <td>83</td>\n",
       "      <td>0.000000</td>\n",
       "      <td>0.000000</td>\n",
       "      <td>NaN</td>\n",
       "    </tr>\n",
       "    <tr>\n",
       "      <th>4213148</th>\n",
       "      <td>467487</td>\n",
       "      <td>0</td>\n",
       "      <td>83</td>\n",
       "      <td>0.000000</td>\n",
       "      <td>0.000000</td>\n",
       "      <td>NaN</td>\n",
       "    </tr>\n",
       "    <tr>\n",
       "      <th>4216017</th>\n",
       "      <td>1513753</td>\n",
       "      <td>0</td>\n",
       "      <td>83</td>\n",
       "      <td>0.000000</td>\n",
       "      <td>0.000000</td>\n",
       "      <td>NaN</td>\n",
       "    </tr>\n",
       "    <tr>\n",
       "      <th>4233434</th>\n",
       "      <td>1508856</td>\n",
       "      <td>0</td>\n",
       "      <td>83</td>\n",
       "      <td>0.000000</td>\n",
       "      <td>0.000000</td>\n",
       "      <td>NaN</td>\n",
       "    </tr>\n",
       "    <tr>\n",
       "      <th>4238755</th>\n",
       "      <td>1238041</td>\n",
       "      <td>0</td>\n",
       "      <td>83</td>\n",
       "      <td>0.000000</td>\n",
       "      <td>0.000000</td>\n",
       "      <td>NaN</td>\n",
       "    </tr>\n",
       "    <tr>\n",
       "      <th>4240764</th>\n",
       "      <td>2483806</td>\n",
       "      <td>0</td>\n",
       "      <td>83</td>\n",
       "      <td>0.000000</td>\n",
       "      <td>0.000000</td>\n",
       "      <td>NaN</td>\n",
       "    </tr>\n",
       "    <tr>\n",
       "      <th>4245893</th>\n",
       "      <td>1827543</td>\n",
       "      <td>0</td>\n",
       "      <td>83</td>\n",
       "      <td>0.000000</td>\n",
       "      <td>0.000000</td>\n",
       "      <td>NaN</td>\n",
       "    </tr>\n",
       "    <tr>\n",
       "      <th>4283143</th>\n",
       "      <td>2742691</td>\n",
       "      <td>0</td>\n",
       "      <td>83</td>\n",
       "      <td>0.000000</td>\n",
       "      <td>0.000000</td>\n",
       "      <td>NaN</td>\n",
       "    </tr>\n",
       "    <tr>\n",
       "      <th>4309753</th>\n",
       "      <td>412342</td>\n",
       "      <td>0</td>\n",
       "      <td>83</td>\n",
       "      <td>0.000000</td>\n",
       "      <td>0.000000</td>\n",
       "      <td>NaN</td>\n",
       "    </tr>\n",
       "    <tr>\n",
       "      <th>4349199</th>\n",
       "      <td>856623</td>\n",
       "      <td>0</td>\n",
       "      <td>83</td>\n",
       "      <td>0.000000</td>\n",
       "      <td>0.000000</td>\n",
       "      <td>NaN</td>\n",
       "    </tr>\n",
       "  </tbody>\n",
       "</table>\n",
       "<p>11731 rows × 6 columns</p>\n",
       "</div>"
      ],
      "text/plain": [
       "          userID  label  appID     vote1  vote1_union   vote1++\n",
       "144689   1516447      1     83  1.388120   838.056259  0.001656\n",
       "1403129   914826      0     83  0.871102   838.056259  0.001039\n",
       "2349247  1540114      1     83  1.167720  1127.240759  0.001036\n",
       "189658   2373699      1     83  0.784954   838.056259  0.000937\n",
       "2142667   718408      1     83  0.757995   838.056259  0.000904\n",
       "472767   1547202      0     83  0.737159   838.056259  0.000880\n",
       "427186    485742      0     83  0.656211   838.056259  0.000783\n",
       "2687597  1595936      0     83  0.656211   838.056259  0.000783\n",
       "687663   2680803      0     83  0.601041   838.056259  0.000717\n",
       "1030766  1103879      0     83  0.592959   838.056259  0.000708\n",
       "507146   2455928      0     83  0.578561   838.056259  0.000690\n",
       "2491493  2455928      0     83  0.578561   838.056259  0.000690\n",
       "569447   2455928      0     83  0.578561   838.056259  0.000690\n",
       "516362   2455928      0     83  0.578561   838.056259  0.000690\n",
       "2322202  2455928      0     83  0.578561   838.056259  0.000690\n",
       "3017336  2455928      0     83  0.578561   838.056259  0.000690\n",
       "159197   2455928      0     83  0.578561   838.056259  0.000690\n",
       "4017115  2455928      0     83  0.578561   838.056259  0.000690\n",
       "700352    469491      0     83  0.575720   838.056259  0.000687\n",
       "694800   2298366      1     83  0.569181   838.056259  0.000679\n",
       "60413    1442572      0     83  0.563802   838.056259  0.000673\n",
       "518217    853087      0     83  0.562671   838.056259  0.000671\n",
       "1380149  1402132      0     83  0.549157   838.056259  0.000655\n",
       "1695427  2088575      1     83  0.547021   838.056259  0.000653\n",
       "1735107   904055      0     83  0.535725   838.056259  0.000639\n",
       "1406909   658564      0     83  0.527376   838.056259  0.000629\n",
       "169921    658564      0     83  0.527376   838.056259  0.000629\n",
       "564139   2561752      0     83  0.526814   838.056259  0.000629\n",
       "553826   2561752      0     83  0.526814   838.056259  0.000629\n",
       "554293   2561752      0     83  0.526814   838.056259  0.000629\n",
       "...          ...    ...    ...       ...          ...       ...\n",
       "4097972  2057139      0     83  0.000000     0.000000       NaN\n",
       "4098047  2057139      0     83  0.000000     0.000000       NaN\n",
       "4098168  2057139      0     83  0.000000     0.000000       NaN\n",
       "4100290   217508      0     83  0.000000     0.000000       NaN\n",
       "4103136   657537      0     83  0.000000     0.000000       NaN\n",
       "4106243   657537      0     83  0.000000     0.000000       NaN\n",
       "4108498  1946442      0     83  0.000000     0.000000       NaN\n",
       "4123196  1146499      0     83  0.000000     0.000000       NaN\n",
       "4123633  1904840      0     83  0.000000     0.000000       NaN\n",
       "4128438  2097642      0     83  0.000000     0.000000       NaN\n",
       "4131022   430626      0     83  0.000000     0.000000       NaN\n",
       "4138189   450237      0     83  0.000000     0.000000       NaN\n",
       "4139600  1498137      0     83  0.000000     0.000000       NaN\n",
       "4140687   328798      0     83  0.000000     0.000000       NaN\n",
       "4158621  2523089      0     83  0.000000     0.000000       NaN\n",
       "4170162   562829      0     83  0.000000     0.000000       NaN\n",
       "4179611   217508      0     83  0.000000     0.000000       NaN\n",
       "4181982  1154707      0     83  0.000000     0.000000       NaN\n",
       "4196812   372037      0     83  0.000000     0.000000       NaN\n",
       "4199248   865690      0     83  0.000000     0.000000       NaN\n",
       "4206224   217508      0     83  0.000000     0.000000       NaN\n",
       "4213148   467487      0     83  0.000000     0.000000       NaN\n",
       "4216017  1513753      0     83  0.000000     0.000000       NaN\n",
       "4233434  1508856      0     83  0.000000     0.000000       NaN\n",
       "4238755  1238041      0     83  0.000000     0.000000       NaN\n",
       "4240764  2483806      0     83  0.000000     0.000000       NaN\n",
       "4245893  1827543      0     83  0.000000     0.000000       NaN\n",
       "4283143  2742691      0     83  0.000000     0.000000       NaN\n",
       "4309753   412342      0     83  0.000000     0.000000       NaN\n",
       "4349199   856623      0     83  0.000000     0.000000       NaN\n",
       "\n",
       "[11731 rows x 6 columns]"
      ]
     },
     "execution_count": 23,
     "metadata": {},
     "output_type": "execute_result"
    }
   ],
   "source": [
    "temp[(temp['appID']==83)].sort_values(['vote1'],ascending=False)"
   ]
  },
  {
   "cell_type": "code",
   "execution_count": null,
   "metadata": {
    "collapsed": false
   },
   "outputs": [],
   "source": [
    "temp['voteMinus'] = temp['vote1'] - temp['vote0']\n",
    "# temp['voteMinus'] = (temp['vote1']-temp['vote0'])/(temp['vote1'] + temp['vote0']+1)"
   ]
  },
  {
   "cell_type": "code",
   "execution_count": null,
   "metadata": {
    "collapsed": true
   },
   "outputs": [],
   "source": [
    "dfAppidVotemax = temp[['appID','voteMinus']].groupby('appID').max()\n",
    "dfAppidVotemean = temp[['appID','voteMinus']].groupby('appID').mean()\n",
    "dfAppidVotemin = temp[['appID','voteMinus']].groupby('appID').min()"
   ]
  },
  {
   "cell_type": "code",
   "execution_count": null,
   "metadata": {
    "collapsed": false
   },
   "outputs": [],
   "source": [
    "dfAppidVotemax.at[83,'voteMinus']"
   ]
  },
  {
   "cell_type": "code",
   "execution_count": null,
   "metadata": {
    "collapsed": false
   },
   "outputs": [],
   "source": [
    "def minusNor(x):\n",
    "    appid = int(x[0])\n",
    "    _max = dfAppidVotemax.at[appid, 'voteMinus']\n",
    "    _min = dfAppidVotemin.at[appid, 'voteMinus']\n",
    "    return (x[1]-_min)/(_max-_min)\n",
    "temp['voteMinus_nor'] = temp[['appID','voteMinus']].apply(minusNor, axis=1)"
   ]
  },
  {
   "cell_type": "markdown",
   "metadata": {},
   "source": [
    "## 为每个appID单独生成字段(user_single_vote2)"
   ]
  },
  {
   "cell_type": "code",
   "execution_count": null,
   "metadata": {
    "collapsed": false
   },
   "outputs": [],
   "source": [
    "# 获得targetID名单\n",
    "dataAppID = pd.read_csv('C:\\\\Users\\\\work\\\\Desktop\\\\tencent\\\\pre\\\\ad.csv')\n",
    "appIDs = set(dataAppID['appID'])\n",
    "# 为每个appID单独生成字段\n",
    "for id in appIDs:\n",
    "    temp['vm' + str(id) + '_1'] = (temp['appID']==id).astype(int) * temp['voteMinus']\n",
    "    temp['vm' + str(id) + '_0'] = (temp['voteMinus']==0).astype(int)"
   ]
  },
  {
   "cell_type": "code",
   "execution_count": null,
   "metadata": {
    "collapsed": false
   },
   "outputs": [],
   "source": [
    "temp[temp['appID']==83][['appID','vm83_1','vm83_0']].head()"
   ]
  },
  {
   "cell_type": "code",
   "execution_count": null,
   "metadata": {
    "collapsed": false
   },
   "outputs": [],
   "source": [
    "out = temp.drop(['label','vote1','vote0','voteMinus'],axis=1)"
   ]
  },
  {
   "cell_type": "code",
   "execution_count": null,
   "metadata": {
    "collapsed": true
   },
   "outputs": [],
   "source": [
    "out.to_csv('C:\\\\Users\\\\work\\\\Desktop\\\\tencent\\\\feature\\\\user_single_vote2.csv',index=False)"
   ]
  },
  {
   "cell_type": "markdown",
   "metadata": {},
   "source": [
    "## 其它数据分析"
   ]
  },
  {
   "cell_type": "code",
   "execution_count": null,
   "metadata": {
    "collapsed": false
   },
   "outputs": [],
   "source": [
    "tempTrain = pd.concat([pd.read_csv(\"C:\\\\Users\\\\work\\\\Desktop\\\\tencent\\\\pre\\\\train.csv\"),pd.read_csv(\"C:\\\\Users\\\\work\\\\Desktop\\\\tencent\\\\pre\\\\test.csv\")])\n",
    "tempTrain  = pd.merge(tempTrain, pd.read_csv(\"C:\\\\Users\\\\work\\\\Desktop\\\\tencent\\\\pre\\\\ad.csv\"), on='creativeID')"
   ]
  },
  {
   "cell_type": "code",
   "execution_count": null,
   "metadata": {
    "collapsed": true
   },
   "outputs": [],
   "source": [
    "dataUserAppscale = pd.read_csv('C:\\\\Users\\\\work\\\\Desktop\\\\tencent\\\\feature\\\\app-user\\\\user_appScale.csv')"
   ]
  },
  {
   "cell_type": "code",
   "execution_count": null,
   "metadata": {
    "collapsed": true
   },
   "outputs": [],
   "source": [
    "temp = pd.merge(temp, dataUserAppscale, on='userID')"
   ]
  },
  {
   "cell_type": "code",
   "execution_count": null,
   "metadata": {
    "collapsed": false
   },
   "outputs": [],
   "source": [
    "tempList1 = dict_userApps[2547462]\n",
    "tempList2 = dictUserSingle['150-1-1'].keys()\n",
    "# print np.intersect1d(tempList1, tempList2)\n",
    "# print np.union1d(tempList1, tempList2)\n",
    "print dict_userApps[2547462]\n",
    "print dict_userApps[2547462]"
   ]
  },
  {
   "cell_type": "code",
   "execution_count": null,
   "metadata": {
    "collapsed": false
   },
   "outputs": [],
   "source": [
    "tempTrain[tempTrain['userID']==2517914][['label','userID','appID','clickTime','adID']].sort_values(by=['clickTime'],ascending=True)"
   ]
  },
  {
   "cell_type": "code",
   "execution_count": null,
   "metadata": {
    "collapsed": false
   },
   "outputs": [],
   "source": [
    "temp.groupby('appID').count().sort_values(['label'],ascending=False)"
   ]
  },
  {
   "cell_type": "code",
   "execution_count": null,
   "metadata": {
    "collapsed": false,
    "scrolled": true
   },
   "outputs": [],
   "source": [
    "# temp[(temp['appID']==83)&(temp['voteMinus']>0)].groupby('label').count()\n",
    "# temp.sort_values(by=['voteMinus2'],ascending=False)[:50] #整体排序\n",
    "temp[(temp['voteMinus1']>0)].sort_values(by=['voteMinus1'],ascending=False)[:50] #各APP正例排序\n",
    "# temp[(temp['appID']==428)&(temp['voteMinus']<0)].sort_values(by=['voteMinus'],ascending=True)[:50] #各APP负例排序"
   ]
  },
  {
   "cell_type": "code",
   "execution_count": null,
   "metadata": {
    "collapsed": false
   },
   "outputs": [],
   "source": [
    "import matplotlib.pyplot as plt\n",
    "from matplotlib.ticker import  MultipleLocator\n",
    "temp2 = temp[(temp['label']!=-1)&(temp['voteMinus']!=0)&(temp['appID']==465)].sort_values(by=['voteMinus'],ascending=False)\n",
    "roll = temp2['label'].rolling(50, min_periods=1).mean()\n",
    "dataR = temp2['scale'].rolling(50, min_periods=1).mean()\n",
    "axL = plt.subplot(111)\n",
    "axL.plot(range(len(roll)), roll.values, color='blue')\n",
    "axR = axL.twinx()\n",
    "axR.plot(range(len(roll)), dataR.values, color='red')\n",
    "# xminorLocator = MultipleLocator(1)\n",
    "# axL.xaxis.set_major_locator(xminorLocator)\n",
    "plt.show()"
   ]
  }
 ],
 "metadata": {
  "anaconda-cloud": {},
  "kernelspec": {
   "display_name": "Python [default]",
   "language": "python",
   "name": "python2"
  },
  "language_info": {
   "codemirror_mode": {
    "name": "ipython",
    "version": 2
   },
   "file_extension": ".py",
   "mimetype": "text/x-python",
   "name": "python",
   "nbconvert_exporter": "python",
   "pygments_lexer": "ipython2",
   "version": "2.7.12"
  }
 },
 "nbformat": 4,
 "nbformat_minor": 1
}
