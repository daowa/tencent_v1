{
 "cells": [
  {
   "cell_type": "code",
   "execution_count": 1,
   "metadata": {
    "collapsed": true
   },
   "outputs": [],
   "source": [
    "import numpy as np\n",
    "import pandas as pd\n",
    "import math"
   ]
  },
  {
   "cell_type": "code",
   "execution_count": 2,
   "metadata": {
    "collapsed": false
   },
   "outputs": [
    {
     "data": {
      "text/html": [
       "<div>\n",
       "<table border=\"1\" class=\"dataframe\">\n",
       "  <thead>\n",
       "    <tr style=\"text-align: right;\">\n",
       "      <th></th>\n",
       "      <th>userID</th>\n",
       "      <th>appList</th>\n",
       "    </tr>\n",
       "  </thead>\n",
       "  <tbody>\n",
       "    <tr>\n",
       "      <th>0</th>\n",
       "      <td>1</td>\n",
       "      <td>[357, 360, 362, 365, 375, 441, 480, 481, 482, ...</td>\n",
       "    </tr>\n",
       "    <tr>\n",
       "      <th>1</th>\n",
       "      <td>9</td>\n",
       "      <td>[538, 602, 604]</td>\n",
       "    </tr>\n",
       "    <tr>\n",
       "      <th>2</th>\n",
       "      <td>10</td>\n",
       "      <td>[357, 359, 365, 383, 480, 481, 482, 483, 484, ...</td>\n",
       "    </tr>\n",
       "    <tr>\n",
       "      <th>3</th>\n",
       "      <td>12</td>\n",
       "      <td>[480, 481, 482, 483, 484, 485, 486, 487, 488, ...</td>\n",
       "    </tr>\n",
       "    <tr>\n",
       "      <th>4</th>\n",
       "      <td>14</td>\n",
       "      <td>[362, 480, 481, 482, 483, 484, 485, 486, 487, ...</td>\n",
       "    </tr>\n",
       "  </tbody>\n",
       "</table>\n",
       "</div>"
      ],
      "text/plain": [
       "   userID                                            appList\n",
       "0       1  [357, 360, 362, 365, 375, 441, 480, 481, 482, ...\n",
       "1       9                                    [538, 602, 604]\n",
       "2      10  [357, 359, 365, 383, 480, 481, 482, 483, 484, ...\n",
       "3      12  [480, 481, 482, 483, 484, 485, 486, 487, 488, ...\n",
       "4      14  [362, 480, 481, 482, 483, 484, 485, 486, 487, ..."
      ]
     },
     "execution_count": 2,
     "metadata": {},
     "output_type": "execute_result"
    }
   ],
   "source": [
    "# 读取user_apps\n",
    "dataUserApps = pd.read_csv('C:\\\\Users\\\\work\\\\Desktop\\\\tencent\\\\feature\\\\app-user\\\\user_apps.csv', names=['userID', 'appList'])\n",
    "dict_userApps = {}\n",
    "def getDictUserApps(x):\n",
    "     dict_userApps[x[0]] = x[1][1:-1].split(', ')\n",
    "dataUserApps.apply(getDictUserApps, axis=1)\n",
    "dataUserApps.head()"
   ]
  },
  {
   "cell_type": "code",
   "execution_count": 3,
   "metadata": {
    "collapsed": false
   },
   "outputs": [],
   "source": [
    "dataTrain = pd.read_csv('C:\\\\Users\\\\work\\\\Desktop\\\\tencent\\\\pre\\\\train.csv')\n",
    "dataTrain = pd.merge(dataTrain, pd.read_csv('C:\\\\Users\\\\work\\\\Desktop\\\\tencent\\\\pre\\\\ad.csv'), on='creativeID')\n",
    "dataTrain = dataTrain[['label','appID','userID']]\n",
    "dataTrain.drop_duplicates(inplace=True) #有很多重复值，会对结果产生干扰"
   ]
  },
  {
   "cell_type": "code",
   "execution_count": 4,
   "metadata": {
    "collapsed": false
   },
   "outputs": [
    {
     "data": {
      "text/html": [
       "<div>\n",
       "<table border=\"1\" class=\"dataframe\">\n",
       "  <thead>\n",
       "    <tr style=\"text-align: right;\">\n",
       "      <th></th>\n",
       "      <th>label</th>\n",
       "      <th>appID</th>\n",
       "      <th>userID</th>\n",
       "    </tr>\n",
       "  </thead>\n",
       "  <tbody>\n",
       "    <tr>\n",
       "      <th>0</th>\n",
       "      <td>0</td>\n",
       "      <td>434</td>\n",
       "      <td>2798058</td>\n",
       "    </tr>\n",
       "    <tr>\n",
       "      <th>1</th>\n",
       "      <td>0</td>\n",
       "      <td>434</td>\n",
       "      <td>195578</td>\n",
       "    </tr>\n",
       "    <tr>\n",
       "      <th>2</th>\n",
       "      <td>0</td>\n",
       "      <td>434</td>\n",
       "      <td>1462213</td>\n",
       "    </tr>\n",
       "    <tr>\n",
       "      <th>3</th>\n",
       "      <td>0</td>\n",
       "      <td>434</td>\n",
       "      <td>1985880</td>\n",
       "    </tr>\n",
       "    <tr>\n",
       "      <th>4</th>\n",
       "      <td>0</td>\n",
       "      <td>434</td>\n",
       "      <td>2152167</td>\n",
       "    </tr>\n",
       "  </tbody>\n",
       "</table>\n",
       "</div>"
      ],
      "text/plain": [
       "   label  appID   userID\n",
       "0      0    434  2798058\n",
       "1      0    434   195578\n",
       "2      0    434  1462213\n",
       "3      0    434  1985880\n",
       "4      0    434  2152167"
      ]
     },
     "execution_count": 4,
     "metadata": {},
     "output_type": "execute_result"
    }
   ],
   "source": [
    "# dataTrain[dataTrain['appID']==465].groupby('userID').count()\n",
    "dataTrain.head()"
   ]
  },
  {
   "cell_type": "code",
   "execution_count": 5,
   "metadata": {
    "collapsed": true
   },
   "outputs": [],
   "source": [
    "dataAppCoScale = pd.read_csv('C:\\\\Users\\\\work\\\\Desktop\\\\tencent\\\\feature\\\\app-user\\\\app_coScale.csv')\n",
    "dataAppCoScale['scale_reci'] = 1000000/dataAppCoScale['scale'] #扩大系数使得不用省略太多尾数\n",
    "dataAppCoScale =  dataAppCoScale[['appID', 'scale_reci']].set_index('appID')\n",
    "dictAppScore = dataAppCoScale.to_dict() #索引，为了加快速度"
   ]
  },
  {
   "cell_type": "code",
   "execution_count": 28,
   "metadata": {
    "collapsed": false
   },
   "outputs": [],
   "source": [
    "def getSingle(id):\n",
    "    # 合并人格\n",
    "    global dict1\n",
    "    global dict0\n",
    "    dict1 = {}\n",
    "    dict0 = {}\n",
    "    def getDict1(x):\n",
    "        global dict1\n",
    "        if dict_userApps.has_key(x[0]):\n",
    "            appList = dict_userApps[x[0]]\n",
    "            for app in appList:\n",
    "                if dict1.has_key(app):\n",
    "                    dict1[app] = dict1[app]+1\n",
    "                else:\n",
    "                    dict1[app] = 1\n",
    "    def getDict0(x):\n",
    "        global dict0\n",
    "        if dict_userApps.has_key(x[0]):\n",
    "            appList = dict_userApps[x[0]]\n",
    "            for app in appList:\n",
    "                if dict0.has_key(app):\n",
    "                    dict0[app] = dict0[app]+1\n",
    "                else:\n",
    "                    dict0[app] = 1\n",
    "    single1 = dataTrain[(dataTrain['appID']==id)&(dataTrain['label']==1)][['userID']]\n",
    "    single0 = dataTrain[(dataTrain['appID']==id)&(dataTrain['label']==0)][['userID']]\n",
    "    single1.apply(getDict1, axis=1)\n",
    "    single0.apply(getDict0, axis=1)\n",
    "    # 阈值\n",
    "    # dict归一化\n",
    "    for key in dict1:\n",
    "        dict1[key] = math.log((float(dict1[key])/len(single1)) * dictAppScore['scale_reci'][int(key)]) #log化避免小众的超大差异\n",
    "    for key in dict0:\n",
    "        dict0[key] = math.log((float(dict0[key])/len(single0)) * dictAppScore['scale_reci'][int(key)])\n",
    "    dict1 = dict(sorted(dict1.items(), lambda x, y: cmp(x[1], y[1]), reverse=True)[:1000])\n",
    "    dict0 = dict(sorted(dict0.items(), lambda x, y: cmp(x[1], y[1]), reverse=True)[:1000])\n",
    "    print dict0\n",
    "    # 写入dataframe\n",
    "    global out\n",
    "    out.loc[out['appID'].count()] = [id, 1, 1, str(dict1)]\n",
    "    out.loc[out['appID'].count()] = [id, 1, 0, str(dict0)]"
   ]
  },
  {
   "cell_type": "code",
   "execution_count": null,
   "metadata": {
    "collapsed": true
   },
   "outputs": [],
   "source": [
    "getSingle(83)"
   ]
  },
  {
   "cell_type": "code",
   "execution_count": 29,
   "metadata": {
    "collapsed": false
   },
   "outputs": [],
   "source": [
    "# 写入csv\n",
    "out = pd.DataFrame(columns=['appID','single','partition','dict'])\n",
    "# 获得targetID名单\n",
    "dataAppID = pd.read_csv('C:\\\\Users\\\\work\\\\Desktop\\\\tencent\\\\pre\\\\ad.csv')\n",
    "appIDs = set(dataAppID['appID'])\n",
    "for id in appIDs:\n",
    "    getSingle(id)\n",
    "# 1表示无阈值，2表示有阈值(千分1),3表示有阈值(万分1)\n",
    "# 4表示出现数量除以single的长度,阈值万分之五\n",
    "# 5表示根据每个项最多带来的数值，取top1000返回，并且dict中的数值已经代表了加权和\n",
    "out.to_csv('C:\\\\Users\\\\work\\\\Desktop\\\\tencent\\\\feature\\\\app-user\\\\user_single_simple5.csv', index=False)"
   ]
  },
  {
   "cell_type": "code",
   "execution_count": 31,
   "metadata": {
    "collapsed": false
   },
   "outputs": [
    {
     "data": {
      "text/html": [
       "<div>\n",
       "<table border=\"1\" class=\"dataframe\">\n",
       "  <thead>\n",
       "    <tr style=\"text-align: right;\">\n",
       "      <th></th>\n",
       "      <th>appID</th>\n",
       "      <th>single</th>\n",
       "      <th>partition</th>\n",
       "      <th>dict</th>\n",
       "    </tr>\n",
       "  </thead>\n",
       "  <tbody>\n",
       "    <tr>\n",
       "      <th>0</th>\n",
       "      <td>389.0</td>\n",
       "      <td>1.0</td>\n",
       "      <td>1.0</td>\n",
       "      <td>{'3922': 0.9619333547528913, '6961': 1.0773988...</td>\n",
       "    </tr>\n",
       "    <tr>\n",
       "      <th>1</th>\n",
       "      <td>389.0</td>\n",
       "      <td>1.0</td>\n",
       "      <td>0.0</td>\n",
       "      <td>{'144180': 2.610429057269779, '198195': 2.6104...</td>\n",
       "    </tr>\n",
       "    <tr>\n",
       "      <th>2</th>\n",
       "      <td>262.0</td>\n",
       "      <td>1.0</td>\n",
       "      <td>1.0</td>\n",
       "      <td>{'14174': 5.325894134318271, '9075': 4.8526064...</td>\n",
       "    </tr>\n",
       "    <tr>\n",
       "      <th>3</th>\n",
       "      <td>262.0</td>\n",
       "      <td>1.0</td>\n",
       "      <td>0.0</td>\n",
       "      <td>{'1855': 1.4725845436872924, '667': -1.2665407...</td>\n",
       "    </tr>\n",
       "    <tr>\n",
       "      <th>4</th>\n",
       "      <td>391.0</td>\n",
       "      <td>1.0</td>\n",
       "      <td>1.0</td>\n",
       "      <td>{'1867': 0.2227711206751106, '3924': 1.8732472...</td>\n",
       "    </tr>\n",
       "  </tbody>\n",
       "</table>\n",
       "</div>"
      ],
      "text/plain": [
       "   appID  single  partition                                               dict\n",
       "0  389.0     1.0        1.0  {'3922': 0.9619333547528913, '6961': 1.0773988...\n",
       "1  389.0     1.0        0.0  {'144180': 2.610429057269779, '198195': 2.6104...\n",
       "2  262.0     1.0        1.0  {'14174': 5.325894134318271, '9075': 4.8526064...\n",
       "3  262.0     1.0        0.0  {'1855': 1.4725845436872924, '667': -1.2665407...\n",
       "4  391.0     1.0        1.0  {'1867': 0.2227711206751106, '3924': 1.8732472..."
      ]
     },
     "execution_count": 31,
     "metadata": {},
     "output_type": "execute_result"
    }
   ],
   "source": [
    "temp = pd.read_csv('C:\\\\Users\\\\work\\\\Desktop\\\\tencent\\\\feature\\\\app-user\\\\user_single_simple5.csv')\n",
    "# temp[temp['appID']==83].head()\n",
    "temp.head()"
   ]
  },
  {
   "cell_type": "code",
   "execution_count": null,
   "metadata": {
    "collapsed": true
   },
   "outputs": [],
   "source": []
  },
  {
   "cell_type": "code",
   "execution_count": null,
   "metadata": {
    "collapsed": true
   },
   "outputs": [],
   "source": []
  }
 ],
 "metadata": {
  "anaconda-cloud": {},
  "kernelspec": {
   "display_name": "Python [default]",
   "language": "python",
   "name": "python2"
  },
  "language_info": {
   "codemirror_mode": {
    "name": "ipython",
    "version": 2
   },
   "file_extension": ".py",
   "mimetype": "text/x-python",
   "name": "python",
   "nbconvert_exporter": "python",
   "pygments_lexer": "ipython2",
   "version": "2.7.12"
  }
 },
 "nbformat": 4,
 "nbformat_minor": 1
}
