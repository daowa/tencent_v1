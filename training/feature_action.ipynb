{
 "cells": [
  {
   "cell_type": "markdown",
   "metadata": {},
   "source": [
    "# 通过标的APP与actionAPP的分布情况，投票得分"
   ]
  },
  {
   "cell_type": "code",
   "execution_count": 1,
   "metadata": {
    "collapsed": true
   },
   "outputs": [],
   "source": [
    "import numpy as np\n",
    "import pandas as pd"
   ]
  },
  {
   "cell_type": "markdown",
   "metadata": {},
   "source": [
    "## 1.数据基本了解"
   ]
  },
  {
   "cell_type": "code",
   "execution_count": null,
   "metadata": {
    "collapsed": true
   },
   "outputs": [],
   "source": [
    "dataAction = pd.read_csv('E:\\\\work\\\\kaggle\\\\data\\\\tecent\\\\pre\\\\user_app_actions.csv')"
   ]
  },
  {
   "cell_type": "code",
   "execution_count": null,
   "metadata": {
    "collapsed": false
   },
   "outputs": [],
   "source": [
    "dataAction.head()"
   ]
  },
  {
   "cell_type": "markdown",
   "metadata": {},
   "source": [
    "## 2.将用户转化记录也考虑在内"
   ]
  },
  {
   "cell_type": "code",
   "execution_count": null,
   "metadata": {
    "collapsed": false
   },
   "outputs": [],
   "source": [
    "dataTrain = pd.read_csv('E:\\\\work\\\\kaggle\\\\data\\\\tecent\\\\pre\\\\train.csv')\n",
    "dataTrain = pd.merge(dataTrain, pd.read_csv('E:\\\\work\\\\kaggle\\\\data\\\\tecent\\\\pre\\\\ad.csv'), on='creativeID')\n",
    "dataTrain = dataTrain[['userID','label','appID']]\n",
    "dataTrain = dataTrain[dataTrain['label']==1][['userID','appID']]\n",
    "dataAction = pd.concat([dataAction[['userID','appID']],dataTrain])\n",
    "dataAction.drop_duplicates(inplace=True)"
   ]
  },
  {
   "cell_type": "code",
   "execution_count": null,
   "metadata": {
    "collapsed": false
   },
   "outputs": [],
   "source": [
    "dataAction.head()"
   ]
  },
  {
   "cell_type": "markdown",
   "metadata": {},
   "source": [
    "# 3.用户APP列表"
   ]
  },
  {
   "cell_type": "code",
   "execution_count": null,
   "metadata": {
    "collapsed": true
   },
   "outputs": [],
   "source": [
    "def getAppList(df):\n",
    "    return list(df['appID'])\n",
    "out = dataAction.groupby('userID').apply(getAppList)\n",
    "out = out.reset_index()\n",
    "out.rename(columns={0:'appList'},inplace=True)\n",
    "out.to_csv('E:\\\\work\\\\kaggle\\\\data\\\\tecent\\\\feature\\\\app_action\\\\action_user_applist.csv',index=False)"
   ]
  },
  {
   "cell_type": "code",
   "execution_count": null,
   "metadata": {
    "collapsed": false
   },
   "outputs": [],
   "source": [
    "read = pd.read_csv('E:\\\\work\\\\kaggle\\\\data\\\\tecent\\\\feature\\\\app_action\\\\action_user_applist.csv')\n",
    "read.head()"
   ]
  },
  {
   "cell_type": "markdown",
   "metadata": {},
   "source": [
    "# 4.APP-用户列表"
   ]
  },
  {
   "cell_type": "code",
   "execution_count": null,
   "metadata": {
    "collapsed": false
   },
   "outputs": [],
   "source": [
    "def getUserList(df):\n",
    "    return list(df['userID'])\n",
    "out = dataAction.groupby('appID').apply(getUserList)\n",
    "out = out.reset_index()\n",
    "out.rename(columns={0:'userList'},inplace=True)\n",
    "out.to_csv('E:\\\\work\\\\kaggle\\\\data\\\\tecent\\\\feature\\\\app_action\\\\action_app_userlist.csv',index=False)"
   ]
  },
  {
   "cell_type": "code",
   "execution_count": null,
   "metadata": {
    "collapsed": false
   },
   "outputs": [],
   "source": [
    "read = pd.read_csv('E:\\\\work\\\\kaggle\\\\data\\\\tecent\\\\feature\\\\app_action\\\\action_app_userlist.csv')\n",
    "read.head()"
   ]
  },
  {
   "cell_type": "markdown",
   "metadata": {},
   "source": [
    "# 5.targetAPP与其它APP的实际共现数量"
   ]
  },
  {
   "cell_type": "code",
   "execution_count": 4,
   "metadata": {
    "collapsed": false
   },
   "outputs": [
    {
     "data": {
      "text/html": [
       "<div>\n",
       "<table border=\"1\" class=\"dataframe\">\n",
       "  <thead>\n",
       "    <tr style=\"text-align: right;\">\n",
       "      <th></th>\n",
       "      <th>userID</th>\n",
       "      <th>appList</th>\n",
       "    </tr>\n",
       "  </thead>\n",
       "  <tbody>\n",
       "    <tr>\n",
       "      <th>0</th>\n",
       "      <td>1</td>\n",
       "      <td>[933]</td>\n",
       "    </tr>\n",
       "    <tr>\n",
       "      <th>1</th>\n",
       "      <td>5</td>\n",
       "      <td>[589, 565, 596, 536, 6610, 723, 441, 403, 844]</td>\n",
       "    </tr>\n",
       "    <tr>\n",
       "      <th>2</th>\n",
       "      <td>12</td>\n",
       "      <td>[589, 536, 1014, 1032, 634, 662, 1982, 1304]</td>\n",
       "    </tr>\n",
       "    <tr>\n",
       "      <th>3</th>\n",
       "      <td>14</td>\n",
       "      <td>[49946, 59822, 78248, 394396, 630, 2075, 10815]</td>\n",
       "    </tr>\n",
       "    <tr>\n",
       "      <th>4</th>\n",
       "      <td>19</td>\n",
       "      <td>[12129]</td>\n",
       "    </tr>\n",
       "  </tbody>\n",
       "</table>\n",
       "</div>"
      ],
      "text/plain": [
       "   userID                                          appList\n",
       "0       1                                            [933]\n",
       "1       5   [589, 565, 596, 536, 6610, 723, 441, 403, 844]\n",
       "2      12     [589, 536, 1014, 1032, 634, 662, 1982, 1304]\n",
       "3      14  [49946, 59822, 78248, 394396, 630, 2075, 10815]\n",
       "4      19                                          [12129]"
      ]
     },
     "execution_count": 4,
     "metadata": {},
     "output_type": "execute_result"
    }
   ],
   "source": [
    "# 读取user_applist\n",
    "read = pd.read_csv('C:\\\\Users\\\\work\\\\Desktop\\\\tencent\\\\feature\\\\app_action\\\\action_user_applist.csv')\n",
    "dict_user_applist = {}\n",
    "def getDictUserAppList(x):\n",
    "     dict_user_applist[x[0]] = x[1][1:-1].split(', ')\n",
    "read.apply(getDictUserAppList, axis=1)\n",
    "read.head()"
   ]
  },
  {
   "cell_type": "code",
   "execution_count": null,
   "metadata": {
    "collapsed": true
   },
   "outputs": [],
   "source": [
    "# 获得targetID名单\n",
    "dataAppID = pd.read_csv('E:\\\\work\\\\kaggle\\\\data\\\\tecent\\\\pre\\\\ad.csv')\n",
    "appIDs = set(dataAppID['appID'])"
   ]
  },
  {
   "cell_type": "code",
   "execution_count": null,
   "metadata": {
    "collapsed": true
   },
   "outputs": [],
   "source": []
  }
 ],
 "metadata": {
  "anaconda-cloud": {},
  "kernelspec": {
   "display_name": "Python [default]",
   "language": "python",
   "name": "python2"
  },
  "language_info": {
   "codemirror_mode": {
    "name": "ipython",
    "version": 2
   },
   "file_extension": ".py",
   "mimetype": "text/x-python",
   "name": "python",
   "nbconvert_exporter": "python",
   "pygments_lexer": "ipython2",
   "version": "2.7.12"
  }
 },
 "nbformat": 4,
 "nbformat_minor": 0
}
