{
 "cells": [
  {
   "cell_type": "code",
   "execution_count": 1,
   "metadata": {
    "collapsed": false
   },
   "outputs": [],
   "source": [
    "#计算每个creativeID，adID，camgaignID，advertiserID，appID，appPlatform的平均转化率"
   ]
  },
  {
   "cell_type": "code",
   "execution_count": 2,
   "metadata": {
    "collapsed": true
   },
   "outputs": [],
   "source": [
    "import numpy as np\n",
    "import pandas as pd"
   ]
  },
  {
   "cell_type": "code",
   "execution_count": 3,
   "metadata": {
    "collapsed": false
   },
   "outputs": [],
   "source": [
    "dataTrain = pd.read_csv('E:\\\\work\\\\kaggle\\\\data\\\\tecent\\\\pre\\\\train.csv')\n",
    "dataAd = pd.read_csv('E:\\\\work\\\\kaggle\\\\data\\\\tecent\\\\pre\\\\ad.csv')\n",
    "dataPosition = pd.read_csv('E:\\\\work\\\\kaggle\\\\data\\\\tecent\\\\pre\\\\position.csv')\n",
    "dataMerge = pd.merge(dataTrain, dataAd, on='creativeID')\n",
    "dataMerge = pd.merge(dataMerge, dataPosition, on='positionID')"
   ]
  },
  {
   "cell_type": "code",
   "execution_count": 4,
   "metadata": {
    "collapsed": false
   },
   "outputs": [
    {
     "data": {
      "text/html": [
       "<div>\n",
       "<table border=\"1\" class=\"dataframe\">\n",
       "  <thead>\n",
       "    <tr style=\"text-align: right;\">\n",
       "      <th></th>\n",
       "      <th>label</th>\n",
       "      <th>clickTime</th>\n",
       "      <th>conversionTime</th>\n",
       "      <th>creativeID</th>\n",
       "      <th>userID</th>\n",
       "      <th>positionID</th>\n",
       "      <th>connectionType</th>\n",
       "      <th>telecomsOperator</th>\n",
       "      <th>adID</th>\n",
       "      <th>camgaignID</th>\n",
       "      <th>advertiserID</th>\n",
       "      <th>appID</th>\n",
       "      <th>appPlatform</th>\n",
       "      <th>sitesetID</th>\n",
       "      <th>positionType</th>\n",
       "    </tr>\n",
       "  </thead>\n",
       "  <tbody>\n",
       "    <tr>\n",
       "      <th>count</th>\n",
       "      <td>3749528.000000</td>\n",
       "      <td>3749528.000000</td>\n",
       "      <td>93262.000000</td>\n",
       "      <td>3749528.000000</td>\n",
       "      <td>3749528.000000</td>\n",
       "      <td>3749528.000000</td>\n",
       "      <td>3749528.000000</td>\n",
       "      <td>3749528.000000</td>\n",
       "      <td>3749528.000000</td>\n",
       "      <td>3749528.000000</td>\n",
       "      <td>3749528.000000</td>\n",
       "      <td>3749528.000000</td>\n",
       "      <td>3749528.000000</td>\n",
       "      <td>3749528.000000</td>\n",
       "      <td>3749528.000000</td>\n",
       "    </tr>\n",
       "    <tr>\n",
       "      <th>mean</th>\n",
       "      <td>0.024873</td>\n",
       "      <td>241831.747959</td>\n",
       "      <td>242645.358013</td>\n",
       "      <td>3261.575475</td>\n",
       "      <td>1405348.702019</td>\n",
       "      <td>3702.798808</td>\n",
       "      <td>1.222590</td>\n",
       "      <td>1.605879</td>\n",
       "      <td>2005.434555</td>\n",
       "      <td>415.590737</td>\n",
       "      <td>27.762003</td>\n",
       "      <td>370.321200</td>\n",
       "      <td>1.217947</td>\n",
       "      <td>0.293448</td>\n",
       "      <td>0.804405</td>\n",
       "    </tr>\n",
       "    <tr>\n",
       "      <th>std</th>\n",
       "      <td>0.155738</td>\n",
       "      <td>39587.929012</td>\n",
       "      <td>39285.385532</td>\n",
       "      <td>1829.643039</td>\n",
       "      <td>808809.361815</td>\n",
       "      <td>1923.723859</td>\n",
       "      <td>0.574443</td>\n",
       "      <td>0.849113</td>\n",
       "      <td>1250.836163</td>\n",
       "      <td>213.429996</td>\n",
       "      <td>32.745696</td>\n",
       "      <td>144.056959</td>\n",
       "      <td>0.412852</td>\n",
       "      <td>0.471896</td>\n",
       "      <td>0.638593</td>\n",
       "    </tr>\n",
       "    <tr>\n",
       "      <th>min</th>\n",
       "      <td>0.000000</td>\n",
       "      <td>170000.000000</td>\n",
       "      <td>170005.000000</td>\n",
       "      <td>1.000000</td>\n",
       "      <td>1.000000</td>\n",
       "      <td>1.000000</td>\n",
       "      <td>0.000000</td>\n",
       "      <td>0.000000</td>\n",
       "      <td>1.000000</td>\n",
       "      <td>1.000000</td>\n",
       "      <td>1.000000</td>\n",
       "      <td>14.000000</td>\n",
       "      <td>1.000000</td>\n",
       "      <td>0.000000</td>\n",
       "      <td>0.000000</td>\n",
       "    </tr>\n",
       "    <tr>\n",
       "      <th>25%</th>\n",
       "      <td>0.000000</td>\n",
       "      <td>211627.000000</td>\n",
       "      <td>211626.000000</td>\n",
       "      <td>1540.000000</td>\n",
       "      <td>705869.750000</td>\n",
       "      <td>2579.000000</td>\n",
       "      <td>1.000000</td>\n",
       "      <td>1.000000</td>\n",
       "      <td>761.000000</td>\n",
       "      <td>205.000000</td>\n",
       "      <td>3.000000</td>\n",
       "      <td>360.000000</td>\n",
       "      <td>1.000000</td>\n",
       "      <td>0.000000</td>\n",
       "      <td>0.000000</td>\n",
       "    </tr>\n",
       "    <tr>\n",
       "      <th>50%</th>\n",
       "      <td>0.000000</td>\n",
       "      <td>241839.000000</td>\n",
       "      <td>242106.000000</td>\n",
       "      <td>3465.000000</td>\n",
       "      <td>1407062.000000</td>\n",
       "      <td>3322.000000</td>\n",
       "      <td>1.000000</td>\n",
       "      <td>1.000000</td>\n",
       "      <td>1977.000000</td>\n",
       "      <td>460.000000</td>\n",
       "      <td>3.000000</td>\n",
       "      <td>465.000000</td>\n",
       "      <td>1.000000</td>\n",
       "      <td>0.000000</td>\n",
       "      <td>1.000000</td>\n",
       "    </tr>\n",
       "    <tr>\n",
       "      <th>75%</th>\n",
       "      <td>0.000000</td>\n",
       "      <td>272217.000000</td>\n",
       "      <td>272344.000000</td>\n",
       "      <td>4565.000000</td>\n",
       "      <td>2105989.250000</td>\n",
       "      <td>4896.000000</td>\n",
       "      <td>1.000000</td>\n",
       "      <td>2.000000</td>\n",
       "      <td>3242.000000</td>\n",
       "      <td>632.000000</td>\n",
       "      <td>56.000000</td>\n",
       "      <td>465.000000</td>\n",
       "      <td>1.000000</td>\n",
       "      <td>1.000000</td>\n",
       "      <td>1.000000</td>\n",
       "    </tr>\n",
       "    <tr>\n",
       "      <th>max</th>\n",
       "      <td>1.000000</td>\n",
       "      <td>302359.000000</td>\n",
       "      <td>302359.000000</td>\n",
       "      <td>6582.000000</td>\n",
       "      <td>2805118.000000</td>\n",
       "      <td>7645.000000</td>\n",
       "      <td>4.000000</td>\n",
       "      <td>3.000000</td>\n",
       "      <td>3616.000000</td>\n",
       "      <td>720.000000</td>\n",
       "      <td>91.000000</td>\n",
       "      <td>472.000000</td>\n",
       "      <td>2.000000</td>\n",
       "      <td>2.000000</td>\n",
       "      <td>5.000000</td>\n",
       "    </tr>\n",
       "  </tbody>\n",
       "</table>\n",
       "</div>"
      ],
      "text/plain": [
       "                label       clickTime  conversionTime      creativeID  \\\n",
       "count  3749528.000000  3749528.000000    93262.000000  3749528.000000   \n",
       "mean         0.024873   241831.747959   242645.358013     3261.575475   \n",
       "std          0.155738    39587.929012    39285.385532     1829.643039   \n",
       "min          0.000000   170000.000000   170005.000000        1.000000   \n",
       "25%          0.000000   211627.000000   211626.000000     1540.000000   \n",
       "50%          0.000000   241839.000000   242106.000000     3465.000000   \n",
       "75%          0.000000   272217.000000   272344.000000     4565.000000   \n",
       "max          1.000000   302359.000000   302359.000000     6582.000000   \n",
       "\n",
       "               userID      positionID  connectionType  telecomsOperator  \\\n",
       "count  3749528.000000  3749528.000000  3749528.000000    3749528.000000   \n",
       "mean   1405348.702019     3702.798808        1.222590          1.605879   \n",
       "std     808809.361815     1923.723859        0.574443          0.849113   \n",
       "min          1.000000        1.000000        0.000000          0.000000   \n",
       "25%     705869.750000     2579.000000        1.000000          1.000000   \n",
       "50%    1407062.000000     3322.000000        1.000000          1.000000   \n",
       "75%    2105989.250000     4896.000000        1.000000          2.000000   \n",
       "max    2805118.000000     7645.000000        4.000000          3.000000   \n",
       "\n",
       "                 adID      camgaignID    advertiserID           appID  \\\n",
       "count  3749528.000000  3749528.000000  3749528.000000  3749528.000000   \n",
       "mean      2005.434555      415.590737       27.762003      370.321200   \n",
       "std       1250.836163      213.429996       32.745696      144.056959   \n",
       "min          1.000000        1.000000        1.000000       14.000000   \n",
       "25%        761.000000      205.000000        3.000000      360.000000   \n",
       "50%       1977.000000      460.000000        3.000000      465.000000   \n",
       "75%       3242.000000      632.000000       56.000000      465.000000   \n",
       "max       3616.000000      720.000000       91.000000      472.000000   \n",
       "\n",
       "          appPlatform       sitesetID    positionType  \n",
       "count  3749528.000000  3749528.000000  3749528.000000  \n",
       "mean         1.217947        0.293448        0.804405  \n",
       "std          0.412852        0.471896        0.638593  \n",
       "min          1.000000        0.000000        0.000000  \n",
       "25%          1.000000        0.000000        0.000000  \n",
       "50%          1.000000        0.000000        1.000000  \n",
       "75%          1.000000        1.000000        1.000000  \n",
       "max          2.000000        2.000000        5.000000  "
      ]
     },
     "execution_count": 4,
     "metadata": {},
     "output_type": "execute_result"
    }
   ],
   "source": [
    "dataMerge.describe()"
   ]
  },
  {
   "cell_type": "code",
   "execution_count": 3,
   "metadata": {
    "collapsed": true
   },
   "outputs": [],
   "source": [
    "#计算每个creativeID，adID，camgaignID，advertiserID，appID，appPlatform的平均转化率\n",
    "#写入creativeCVR\n",
    "cvr = dataMerge[['label','creativeID']].groupby('creativeID').sum()/dataMerge[['label','creativeID']].groupby('creativeID').count()\n",
    "cvr.to_csv('E:\\\\work\\\\kaggle\\\\data\\\\tecent\\\\feature\\\\feature_CVR_creative.csv')"
   ]
  },
  {
   "cell_type": "code",
   "execution_count": 4,
   "metadata": {
    "collapsed": true
   },
   "outputs": [],
   "source": [
    "#写入adCVR\n",
    "cvr = dataMerge[['label','adID']].groupby('adID').sum()/dataMerge[['label','adID']].groupby('adID').count()\n",
    "cvr.to_csv('E:\\\\work\\\\kaggle\\\\data\\\\tecent\\\\feature\\\\feature_CVR_ad.csv')"
   ]
  },
  {
   "cell_type": "code",
   "execution_count": 5,
   "metadata": {
    "collapsed": true
   },
   "outputs": [],
   "source": [
    "#写入campaignCVR\n",
    "cvr = dataMerge[['label','camgaignID']].groupby('camgaignID').sum()/dataMerge[['label','camgaignID']].groupby('camgaignID').count()\n",
    "cvr.to_csv('E:\\\\work\\\\kaggle\\\\data\\\\tecent\\\\feature\\\\feature_CVR_campaign.csv')"
   ]
  },
  {
   "cell_type": "code",
   "execution_count": 5,
   "metadata": {
    "collapsed": false
   },
   "outputs": [],
   "source": [
    "#写入advertiserCVR\n",
    "cvr = dataMerge[['label','advertiserID']].groupby('advertiserID').sum()/dataMerge[['label','advertiserID']].groupby('advertiserID').count()\n",
    "cvr.to_csv('E:\\\\work\\\\kaggle\\\\data\\\\tecent\\\\feature\\\\feature_CVR_advertiser.csv')"
   ]
  },
  {
   "cell_type": "code",
   "execution_count": 6,
   "metadata": {
    "collapsed": true
   },
   "outputs": [],
   "source": [
    "#写入appCVR\n",
    "cvr = dataMerge[['label','appID']].groupby('appID').sum()/dataMerge[['label','appID']].groupby('appID').count()\n",
    "cvr.to_csv('E:\\\\work\\\\kaggle\\\\data\\\\tecent\\\\feature\\\\feature_CVR_app.csv')"
   ]
  },
  {
   "cell_type": "code",
   "execution_count": 9,
   "metadata": {
    "collapsed": true
   },
   "outputs": [],
   "source": [
    "#写入appPlatformCVR\n",
    "cvr = dataMerge[['label','appPlatform']].groupby('appPlatform').sum()/dataMerge[['label','appPlatform']].groupby('appPlatform').count()\n",
    "cvr.to_csv('E:\\\\work\\\\kaggle\\\\data\\\\tecent\\\\feature\\\\feature_CVR_appPlatform.csv')"
   ]
  },
  {
   "cell_type": "code",
   "execution_count": 26,
   "metadata": {
    "collapsed": true
   },
   "outputs": [],
   "source": [
    "#计算每个positionID,sizeSetID，positionType的平均转化率\n",
    "#写入positionCVR\n",
    "cvr = dataMerge[['label','positionID']].groupby('positionID').sum()/dataMerge[['label','positionID']].groupby('positionID').count()\n",
    "cvr.to_csv('E:\\\\work\\\\kaggle\\\\data\\\\tecent\\\\feature\\\\feature_CVR_position.csv')"
   ]
  },
  {
   "cell_type": "code",
   "execution_count": 29,
   "metadata": {
    "collapsed": false
   },
   "outputs": [],
   "source": [
    "#写入sitesetCVR\n",
    "cvr = dataMerge[['label','sitesetID']].groupby('sitesetID').sum()/dataMerge[['label','sitesetID']].groupby('sitesetID').count()\n",
    "cvr.to_csv('E:\\\\work\\\\kaggle\\\\data\\\\tecent\\\\feature\\\\feature_CVR_sitesetID.csv')"
   ]
  },
  {
   "cell_type": "code",
   "execution_count": 30,
   "metadata": {
    "collapsed": true
   },
   "outputs": [],
   "source": [
    "#写入positionTypeCVR\n",
    "cvr = dataMerge[['label','positionType']].groupby('positionType').sum()/dataMerge[['label','positionType']].groupby('positionType').count()\n",
    "cvr.to_csv('E:\\\\work\\\\kaggle\\\\data\\\\tecent\\\\feature\\\\feature_CVR_positionType.csv')"
   ]
  },
  {
   "cell_type": "code",
   "execution_count": 33,
   "metadata": {
    "collapsed": false
   },
   "outputs": [
    {
     "data": {
      "text/plain": [
       "6"
      ]
     },
     "execution_count": 33,
     "metadata": {},
     "output_type": "execute_result"
    }
   ],
   "source": [
    "dataMerge['positionType'].drop_duplicates().count()"
   ]
  }
 ],
 "metadata": {
  "kernelspec": {
   "display_name": "Python 2",
   "language": "python",
   "name": "python2"
  },
  "language_info": {
   "codemirror_mode": {
    "name": "ipython",
    "version": 2
   },
   "file_extension": ".py",
   "mimetype": "text/x-python",
   "name": "python",
   "nbconvert_exporter": "python",
   "pygments_lexer": "ipython2",
   "version": "2.7.11"
  }
 },
 "nbformat": 4,
 "nbformat_minor": 0
}
