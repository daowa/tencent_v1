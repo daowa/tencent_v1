{
 "cells": [
  {
   "cell_type": "markdown",
   "metadata": {},
   "source": [
    "# 计算用户和app的匹配程度"
   ]
  },
  {
   "cell_type": "code",
   "execution_count": 1,
   "metadata": {
    "collapsed": true
   },
   "outputs": [],
   "source": [
    "import numpy as np\n",
    "import pandas as pd"
   ]
  },
  {
   "cell_type": "code",
   "execution_count": 2,
   "metadata": {
    "collapsed": false
   },
   "outputs": [],
   "source": [
    "# 读入用户和app\n",
    "dataTrain = pd.concat([pd.read_csv(\"C:\\\\Users\\\\work\\\\Desktop\\\\tencent\\\\pre\\\\train.csv\"),pd.read_csv(\"C:\\\\Users\\\\work\\\\Desktop\\\\tencent\\\\pre\\\\test.csv\")])\n",
    "dataTrain  = pd.merge(dataTrain, pd.read_csv(\"C:\\\\Users\\\\work\\\\Desktop\\\\tencent\\\\pre\\\\ad.csv\"), on='creativeID')\n",
    "dataTrain = dataTrain[['label','userID','appID']]"
   ]
  },
  {
   "cell_type": "code",
   "execution_count": 3,
   "metadata": {
    "collapsed": true
   },
   "outputs": [],
   "source": [
    "dataTrain = dataTrain[dataTrain['appID']==83]"
   ]
  },
  {
   "cell_type": "code",
   "execution_count": 23,
   "metadata": {
    "collapsed": false
   },
   "outputs": [
    {
     "name": "stdout",
     "output_type": "stream",
     "text": [
      "0.00571428571429\n"
     ]
    }
   ],
   "source": [
    "# 读入userSingle\n",
    "dataUserSingle = pd.read_csv('C:\\\\Users\\\\work\\\\Desktop\\\\tencent\\\\feature\\\\app-user\\\\user_single.csv')\n",
    "dictUserSingle = {}\n",
    "def getDictUserSingle(x):\n",
    "    key = str(int(x[0])) + '-' + str(int(x[1])) + '-' + str(int(x[2]))\n",
    "    value = eval(x[3])\n",
    "    dictUserSingle[key] = value\n",
    "dataUserSingle.apply(getDictUserSingle, axis=1)\n",
    "print dictUserSingle['83-1-0']['4025'] #第一位是appid，第二位是single，第三位是partition"
   ]
  },
  {
   "cell_type": "code",
   "execution_count": 8,
   "metadata": {
    "collapsed": true
   },
   "outputs": [],
   "source": [
    "# 读入app_coScale\n",
    "dataAppCoScale = pd.read_csv('C:\\\\Users\\\\work\\\\Desktop\\\\tencent\\\\feature\\\\app-user\\\\app_coScale.csv')[['appID', 'coScale_logReci']].set_index('appID')\n",
    "dictAppScore = dataAppCoScale.to_dict() #索引，为了加快速度"
   ]
  },
  {
   "cell_type": "code",
   "execution_count": 9,
   "metadata": {
    "collapsed": false
   },
   "outputs": [
    {
     "data": {
      "text/html": [
       "<div>\n",
       "<table border=\"1\" class=\"dataframe\">\n",
       "  <thead>\n",
       "    <tr style=\"text-align: right;\">\n",
       "      <th></th>\n",
       "      <th>userID</th>\n",
       "      <th>appList</th>\n",
       "    </tr>\n",
       "  </thead>\n",
       "  <tbody>\n",
       "    <tr>\n",
       "      <th>0</th>\n",
       "      <td>1</td>\n",
       "      <td>[357, 360, 362, 365, 375, 441, 480, 481, 482, ...</td>\n",
       "    </tr>\n",
       "    <tr>\n",
       "      <th>1</th>\n",
       "      <td>9</td>\n",
       "      <td>[538, 602, 604]</td>\n",
       "    </tr>\n",
       "    <tr>\n",
       "      <th>2</th>\n",
       "      <td>10</td>\n",
       "      <td>[357, 359, 365, 383, 480, 481, 482, 483, 484, ...</td>\n",
       "    </tr>\n",
       "    <tr>\n",
       "      <th>3</th>\n",
       "      <td>12</td>\n",
       "      <td>[480, 481, 482, 483, 484, 485, 486, 487, 488, ...</td>\n",
       "    </tr>\n",
       "    <tr>\n",
       "      <th>4</th>\n",
       "      <td>14</td>\n",
       "      <td>[362, 480, 481, 482, 483, 484, 485, 486, 487, ...</td>\n",
       "    </tr>\n",
       "  </tbody>\n",
       "</table>\n",
       "</div>"
      ],
      "text/plain": [
       "   userID                                            appList\n",
       "0       1  [357, 360, 362, 365, 375, 441, 480, 481, 482, ...\n",
       "1       9                                    [538, 602, 604]\n",
       "2      10  [357, 359, 365, 383, 480, 481, 482, 483, 484, ...\n",
       "3      12  [480, 481, 482, 483, 484, 485, 486, 487, 488, ...\n",
       "4      14  [362, 480, 481, 482, 483, 484, 485, 486, 487, ..."
      ]
     },
     "execution_count": 9,
     "metadata": {},
     "output_type": "execute_result"
    }
   ],
   "source": [
    "# 读取user_apps\n",
    "dataUserApps = pd.read_csv('C:\\\\Users\\\\work\\\\Desktop\\\\tencent\\\\feature\\\\app-user\\\\user_apps.csv', names=['userID', 'appList'])\n",
    "dict_userApps = {}\n",
    "def getDictUserApps(x):\n",
    "     dict_userApps[x[0]] = x[1][1:-1].split(', ')\n",
    "dataUserApps.apply(getDictUserApps, axis=1)\n",
    "dataUserApps.head()"
   ]
  },
  {
   "cell_type": "code",
   "execution_count": 38,
   "metadata": {
    "collapsed": true
   },
   "outputs": [],
   "source": [
    "# 用户与single的相似度计算函数\n",
    "def getScore(list, single):\n",
    "    score = 0.0\n",
    "    for l in list:\n",
    "        if dictUserSingle[single].has_key(l): #交集及single这边的app\n",
    "            score += dictAppScore['coScale_logReci'][int(l)] * dictUserSingle[single][l]\n",
    "        else: #仅user这边的app\n",
    "            score += dictAppScore['coScale_logReci'][int(l)]\n",
    "    return score\n",
    "def cal_coScale(user, single):\n",
    "    if dict_userApps.has_key(user) == False: #对于缺乏数据的用户，目前返回0\n",
    "        return 0\n",
    "    list0 = dict_userApps[user]\n",
    "    list1 = dictUserSingle[single].keys()\n",
    "    intersect = np.intersect1d(list0, list1)\n",
    "    union = np.union1d(list0, list1)\n",
    "    length = len(intersect)\n",
    "    if(length == 0): \n",
    "        return 0\n",
    "    else: \n",
    "#         return getScore(intersect, single)\n",
    "        return getScore(intersect, single)/length\n",
    "#         return getScore(intersect, single)/getScore(union, single)"
   ]
  },
  {
   "cell_type": "code",
   "execution_count": 39,
   "metadata": {
    "collapsed": false
   },
   "outputs": [],
   "source": [
    "def getVote(x, voteType):\n",
    "    single = str(int(x[1])) + '-' + '1' + '-' + str(voteType)\n",
    "    return cal_coScale(int(x[0]), single)\n",
    "dataTrain['vote1'] = dataTrain[['userID','appID']].apply(getVote, args=(1,), axis=1)\n",
    "dataTrain['vote0'] = dataTrain[['userID','appID']].apply(getVote, args=(0,), axis=1)"
   ]
  },
  {
   "cell_type": "code",
   "execution_count": 40,
   "metadata": {
    "collapsed": false
   },
   "outputs": [],
   "source": [
    "dataTrain['voteMinus'] = dataTrain['vote1']-dataTrain['vote0']"
   ]
  },
  {
   "cell_type": "code",
   "execution_count": 29,
   "metadata": {
    "collapsed": true
   },
   "outputs": [],
   "source": [
    "dataTrain = dataTrain[dataTrain['vote1']!=0]"
   ]
  },
  {
   "cell_type": "code",
   "execution_count": 42,
   "metadata": {
    "collapsed": false
   },
   "outputs": [
    {
     "data": {
      "text/html": [
       "<div>\n",
       "<table border=\"1\" class=\"dataframe\">\n",
       "  <thead>\n",
       "    <tr style=\"text-align: right;\">\n",
       "      <th></th>\n",
       "      <th>userID</th>\n",
       "      <th>appID</th>\n",
       "      <th>vote1</th>\n",
       "      <th>vote0</th>\n",
       "      <th>voteMinus</th>\n",
       "    </tr>\n",
       "    <tr>\n",
       "      <th>label</th>\n",
       "      <th></th>\n",
       "      <th></th>\n",
       "      <th></th>\n",
       "      <th></th>\n",
       "      <th></th>\n",
       "    </tr>\n",
       "  </thead>\n",
       "  <tbody>\n",
       "    <tr>\n",
       "      <th>0</th>\n",
       "      <td>1574</td>\n",
       "      <td>1574</td>\n",
       "      <td>1574</td>\n",
       "      <td>1574</td>\n",
       "      <td>1574</td>\n",
       "    </tr>\n",
       "    <tr>\n",
       "      <th>1</th>\n",
       "      <td>224</td>\n",
       "      <td>224</td>\n",
       "      <td>224</td>\n",
       "      <td>224</td>\n",
       "      <td>224</td>\n",
       "    </tr>\n",
       "  </tbody>\n",
       "</table>\n",
       "</div>"
      ],
      "text/plain": [
       "       userID  appID  vote1  vote0  voteMinus\n",
       "label                                        \n",
       "0        1574   1574   1574   1574       1574\n",
       "1         224    224    224    224        224"
      ]
     },
     "execution_count": 42,
     "metadata": {},
     "output_type": "execute_result"
    }
   ],
   "source": [
    "dataTrain[dataTrain['voteMinus']<0].groupby(['label']).count()"
   ]
  },
  {
   "cell_type": "code",
   "execution_count": null,
   "metadata": {
    "collapsed": true
   },
   "outputs": [],
   "source": []
  }
 ],
 "metadata": {
  "anaconda-cloud": {},
  "kernelspec": {
   "display_name": "Python [default]",
   "language": "python",
   "name": "python2"
  },
  "language_info": {
   "codemirror_mode": {
    "name": "ipython",
    "version": 2
   },
   "file_extension": ".py",
   "mimetype": "text/x-python",
   "name": "python",
   "nbconvert_exporter": "python",
   "pygments_lexer": "ipython2",
   "version": "2.7.12"
  }
 },
 "nbformat": 4,
 "nbformat_minor": 1
}
