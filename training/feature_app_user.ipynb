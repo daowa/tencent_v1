{
 "cells": [
  {
   "cell_type": "markdown",
   "metadata": {},
   "source": [
    "# 计算用户和app的匹配程度"
   ]
  },
  {
   "cell_type": "code",
   "execution_count": 3,
   "metadata": {
    "collapsed": true
   },
   "outputs": [],
   "source": [
    "import numpy as np\n",
    "import pandas as pd"
   ]
  },
  {
   "cell_type": "code",
   "execution_count": null,
   "metadata": {
    "collapsed": false
   },
   "outputs": [],
   "source": [
    "# 读入用户和app\n",
    "dataTrain = pd.concat([pd.read_csv(\"C:\\\\Users\\\\work\\\\Desktop\\\\tencent\\\\pre\\\\train.csv\"),pd.read_csv(\"C:\\\\Users\\\\work\\\\Desktop\\\\tencent\\\\pre\\\\test.csv\")])\n",
    "dataTrain  = pd.merge(dataTrain, pd.read_csv(\"C:\\\\Users\\\\work\\\\Desktop\\\\tencent\\\\pre\\\\ad.csv\"), on='creativeID')\n",
    "dataTrain = dataTrain[['label','userID','appID']]\n",
    "## 去掉重复值\n",
    "dataTrain.drop_duplicates(inplace=True)"
   ]
  },
  {
   "cell_type": "code",
   "execution_count": null,
   "metadata": {
    "collapsed": false
   },
   "outputs": [],
   "source": [
    "# 读入userSingle\n",
    "## 注意这里使用了single2，即app出现数量log化了，更鼓励小众app\n",
    "dataUserSingle = pd.read_csv('C:\\\\Users\\\\work\\\\Desktop\\\\tencent\\\\feature\\\\app-user\\\\user_single_simple5.csv')\n",
    "dictUserSingle = {}\n",
    "def getDictUserSingle(x):\n",
    "    key = str(int(x[0])) + '-' + str(int(x[1])) + '-' + str(int(x[2]))\n",
    "    value = eval(x[3])\n",
    "    dictUserSingle[key] = value\n",
    "dataUserSingle.apply(getDictUserSingle, axis=1)\n",
    "print dictUserSingle['83-1-0']['84917'] #第一位是appid，第二位是single，第三位是partition"
   ]
  },
  {
   "cell_type": "code",
   "execution_count": null,
   "metadata": {
    "collapsed": true
   },
   "outputs": [],
   "source": [
    "# 读入app_coScale\n",
    "dataAppCoScale = pd.read_csv('C:\\\\Users\\\\work\\\\Desktop\\\\tencent\\\\feature\\\\app-user\\\\app_coScale.csv')[['appID', 'coScale_logReci']].set_index('appID')\n",
    "dictAppScore = dataAppCoScale.to_dict() #索引，为了加快速度"
   ]
  },
  {
   "cell_type": "code",
   "execution_count": null,
   "metadata": {
    "collapsed": false
   },
   "outputs": [],
   "source": [
    "# 读取user_apps\n",
    "dataUserApps = pd.read_csv('C:\\\\Users\\\\work\\\\Desktop\\\\tencent\\\\feature\\\\app-user\\\\user_apps.csv', names=['userID', 'appList'])\n",
    "dict_userApps = {}\n",
    "def getDictUserApps(x):\n",
    "     dict_userApps[x[0]] = x[1][1:-1].split(', ')\n",
    "dataUserApps.apply(getDictUserApps, axis=1)\n",
    "dataUserApps.head()"
   ]
  },
  {
   "cell_type": "code",
   "execution_count": null,
   "metadata": {
    "collapsed": false
   },
   "outputs": [],
   "source": [
    "# 用户与single的相似度计算函数\n",
    "def getScore(list, single):\n",
    "    score = 0.0\n",
    "    for l in list:\n",
    "        # 只计算交集，并且交集得分在single的dict中已经算好了\n",
    "        if dictUserSingle[single].has_key(l): #交集及single这边的app\n",
    "            score += dictUserSingle[single][l]\n",
    "    return score\n",
    "def cal_coScale(user, single):\n",
    "    if dict_userApps.has_key(user) == False: #对于缺乏数据的用户，目前返回0\n",
    "        return 0\n",
    "    list0 = dict_userApps[user]\n",
    "    list1 = dictUserSingle[single].keys()\n",
    "    intersect = np.intersect1d(list0, list1)\n",
    "#     union = np.union1d(list0, list1)\n",
    "#     length = len(intersect)\n",
    "#     if(length == 0): \n",
    "#         return 0\n",
    "#     else: \n",
    "    return getScore(intersect, single)\n",
    "#         return getScore(intersect, single)/length\n",
    "#         return getScore(intersect, single)/getScore(union, single)"
   ]
  },
  {
   "cell_type": "code",
   "execution_count": null,
   "metadata": {
    "collapsed": false
   },
   "outputs": [],
   "source": [
    "def getVote(x, voteType):\n",
    "    single = str(int(x[1])) + '-' + '1' + '-' + str(voteType)\n",
    "    return cal_coScale(int(x[0]), single)\n",
    "dataTrain['vote1'] = dataTrain[['userID','appID']].apply(getVote, args=(1,), axis=1)\n",
    "dataTrain['vote0'] = dataTrain[['userID','appID']].apply(getVote, args=(0,), axis=1)"
   ]
  },
  {
   "cell_type": "code",
   "execution_count": null,
   "metadata": {
    "collapsed": false
   },
   "outputs": [],
   "source": [
    "import timeit\n",
    "def ft():\n",
    "    cal_coScale(16,'465-1-1')\n",
    "timeit.timeit(ft,number=1)"
   ]
  },
  {
   "cell_type": "code",
   "execution_count": null,
   "metadata": {
    "collapsed": false
   },
   "outputs": [],
   "source": [
    "# 5(1007)是采用simple的方法获取single，并采用 getScore(intersect, single)/length 获取vote1和vote0\n",
    "# 6(1008)是取加权和最高的1000个app作为single中的值，并且dictUserSingle中已经计算好了加权和；不除以length，只要有就加\n",
    "dataTrain.to_csv('C:\\\\Users\\\\work\\\\Desktop\\\\tencent\\\\feature\\\\user_single_vote_simple1008.csv',index=False)"
   ]
  },
  {
   "cell_type": "markdown",
   "metadata": {},
   "source": [
    "# 进一步处理"
   ]
  },
  {
   "cell_type": "code",
   "execution_count": 21,
   "metadata": {
    "collapsed": false
   },
   "outputs": [],
   "source": [
    "temp = pd.read_csv('C:\\\\Users\\\\work\\\\Desktop\\\\tencent\\\\feature\\\\user_single_vote_simple1008_r2.csv')\n",
    "# temp = temp.drop_duplicates()"
   ]
  },
  {
   "cell_type": "code",
   "execution_count": 22,
   "metadata": {
    "collapsed": false
   },
   "outputs": [
    {
     "data": {
      "text/html": [
       "<div>\n",
       "<table border=\"1\" class=\"dataframe\">\n",
       "  <thead>\n",
       "    <tr style=\"text-align: right;\">\n",
       "      <th></th>\n",
       "      <th>userID</th>\n",
       "      <th>appID</th>\n",
       "      <th>voteMinus</th>\n",
       "    </tr>\n",
       "  </thead>\n",
       "  <tbody>\n",
       "    <tr>\n",
       "      <th>0</th>\n",
       "      <td>2798058</td>\n",
       "      <td>434</td>\n",
       "      <td>-44.608333</td>\n",
       "    </tr>\n",
       "    <tr>\n",
       "      <th>1</th>\n",
       "      <td>195578</td>\n",
       "      <td>434</td>\n",
       "      <td>-29.594277</td>\n",
       "    </tr>\n",
       "    <tr>\n",
       "      <th>2</th>\n",
       "      <td>1985880</td>\n",
       "      <td>434</td>\n",
       "      <td>-6.784268</td>\n",
       "    </tr>\n",
       "    <tr>\n",
       "      <th>3</th>\n",
       "      <td>2593794</td>\n",
       "      <td>434</td>\n",
       "      <td>-13.962329</td>\n",
       "    </tr>\n",
       "    <tr>\n",
       "      <th>4</th>\n",
       "      <td>2503582</td>\n",
       "      <td>434</td>\n",
       "      <td>-39.751674</td>\n",
       "    </tr>\n",
       "  </tbody>\n",
       "</table>\n",
       "</div>"
      ],
      "text/plain": [
       "    userID  appID  voteMinus\n",
       "0  2798058    434 -44.608333\n",
       "1   195578    434 -29.594277\n",
       "2  1985880    434  -6.784268\n",
       "3  2593794    434 -13.962329\n",
       "4  2503582    434 -39.751674"
      ]
     },
     "execution_count": 22,
     "metadata": {},
     "output_type": "execute_result"
    }
   ],
   "source": []
  },
  {
   "cell_type": "code",
   "execution_count": 5,
   "metadata": {
    "collapsed": false
   },
   "outputs": [],
   "source": [
    "temp['voteMinus'] = temp['vote1'] - temp['vote0']\n",
    "temp['voteMinus2'] = (temp['vote1']-temp['vote0'])/(temp['vote1'] + temp['vote0']+1)"
   ]
  },
  {
   "cell_type": "code",
   "execution_count": 19,
   "metadata": {
    "collapsed": false
   },
   "outputs": [],
   "source": [
    "temp[['userID','appID','voteMinus']].drop_duplicates().to_csv('C:\\\\Users\\\\work\\\\Desktop\\\\tencent\\\\feature\\\\user_single_vote_simple1008_r2.csv',index=False)"
   ]
  },
  {
   "cell_type": "code",
   "execution_count": null,
   "metadata": {
    "collapsed": false
   },
   "outputs": [],
   "source": [
    "temp[(temp['appID']==360)].sort_values(['voteMinus'],ascending=False).head()"
   ]
  },
  {
   "cell_type": "code",
   "execution_count": null,
   "metadata": {
    "collapsed": true
   },
   "outputs": [],
   "source": [
    "temp[['userID','appID','voteMinus']]"
   ]
  },
  {
   "cell_type": "code",
   "execution_count": null,
   "metadata": {
    "collapsed": true
   },
   "outputs": [],
   "source": [
    "dfAppidVotemax = temp[['appID','voteMinus']].groupby('appID').max()\n",
    "dfAppidVotemean = temp[['appID','voteMinus']].groupby('appID').mean()\n",
    "dfAppidVotemin = temp[['appID','voteMinus']].groupby('appID').min()"
   ]
  },
  {
   "cell_type": "code",
   "execution_count": null,
   "metadata": {
    "collapsed": false
   },
   "outputs": [],
   "source": [
    "dfAppidVotemax.at[83,'voteMinus']"
   ]
  },
  {
   "cell_type": "code",
   "execution_count": null,
   "metadata": {
    "collapsed": false
   },
   "outputs": [],
   "source": [
    "def minusNor(x):\n",
    "    appid = int(x[0])\n",
    "    _max = dfAppidVotemax.at[appid, 'voteMinus']\n",
    "    _min = dfAppidVotemin.at[appid, 'voteMinus']\n",
    "    return (x[1]-_min)/(_max-_min)\n",
    "temp['voteMinus_nor'] = temp[['appID','voteMinus']].apply(minusNor, axis=1)"
   ]
  },
  {
   "cell_type": "markdown",
   "metadata": {},
   "source": [
    "## 为每个appID单独生成字段(user_single_vote2)"
   ]
  },
  {
   "cell_type": "code",
   "execution_count": null,
   "metadata": {
    "collapsed": false
   },
   "outputs": [],
   "source": [
    "# 获得targetID名单\n",
    "dataAppID = pd.read_csv('C:\\\\Users\\\\work\\\\Desktop\\\\tencent\\\\pre\\\\ad.csv')\n",
    "appIDs = set(dataAppID['appID'])\n",
    "# 为每个appID单独生成字段\n",
    "for id in appIDs:\n",
    "    temp['vm' + str(id) + '_1'] = (temp['appID']==id).astype(int) * temp['voteMinus']\n",
    "    temp['vm' + str(id) + '_0'] = (temp['voteMinus']==0).astype(int)"
   ]
  },
  {
   "cell_type": "code",
   "execution_count": null,
   "metadata": {
    "collapsed": false
   },
   "outputs": [],
   "source": [
    "temp[temp['appID']==83][['appID','vm83_1','vm83_0']].head()"
   ]
  },
  {
   "cell_type": "code",
   "execution_count": null,
   "metadata": {
    "collapsed": false
   },
   "outputs": [],
   "source": [
    "out = temp.drop(['label','vote1','vote0','voteMinus'],axis=1)"
   ]
  },
  {
   "cell_type": "code",
   "execution_count": null,
   "metadata": {
    "collapsed": true
   },
   "outputs": [],
   "source": [
    "out.to_csv('C:\\\\Users\\\\work\\\\Desktop\\\\tencent\\\\feature\\\\user_single_vote2.csv',index=False)"
   ]
  },
  {
   "cell_type": "markdown",
   "metadata": {},
   "source": [
    "## 其它数据分析"
   ]
  },
  {
   "cell_type": "code",
   "execution_count": null,
   "metadata": {
    "collapsed": false
   },
   "outputs": [],
   "source": [
    "tempTrain = pd.concat([pd.read_csv(\"C:\\\\Users\\\\work\\\\Desktop\\\\tencent\\\\pre\\\\train.csv\"),pd.read_csv(\"C:\\\\Users\\\\work\\\\Desktop\\\\tencent\\\\pre\\\\test.csv\")])\n",
    "tempTrain  = pd.merge(tempTrain, pd.read_csv(\"C:\\\\Users\\\\work\\\\Desktop\\\\tencent\\\\pre\\\\ad.csv\"), on='creativeID')"
   ]
  },
  {
   "cell_type": "code",
   "execution_count": 6,
   "metadata": {
    "collapsed": true
   },
   "outputs": [],
   "source": [
    "dataUserAppscale = pd.read_csv('C:\\\\Users\\\\work\\\\Desktop\\\\tencent\\\\feature\\\\app-user\\\\user_appScale.csv')"
   ]
  },
  {
   "cell_type": "code",
   "execution_count": 7,
   "metadata": {
    "collapsed": true
   },
   "outputs": [],
   "source": [
    "temp = pd.merge(temp, dataUserAppscale, on='userID')"
   ]
  },
  {
   "cell_type": "code",
   "execution_count": 17,
   "metadata": {
    "collapsed": false
   },
   "outputs": [
    {
     "data": {
      "image/png": "[encoded data removed]",
      "text/plain": [
       "<matplotlib.figure.Figure at 0x150ddda0>"
      ]
     },
     "metadata": {},
     "output_type": "display_data"
    }
   ],
   "source": [
    "import matplotlib.pyplot as plt\n",
    "from matplotlib.ticker import  MultipleLocator\n",
    "temp2 = temp[(temp['label']!=-1)&(temp['voteMinus']!=0)].sort_values(by=['voteMinus'],ascending=False)\n",
    "roll = temp2['label'].rolling(10, min_periods=1).mean()\n",
    "dataR = temp2['scale'].rolling(10, min_periods=1).mean()\n",
    "axL = plt.subplot(111)\n",
    "axL.plot(range(len(roll)), roll.values, color='blue')\n",
    "axR = axL.twinx()\n",
    "axR.plot(range(len(roll)), dataR.values, color='red')\n",
    "# xminorLocator = MultipleLocator(1)\n",
    "# axL.xaxis.set_major_locator(xminorLocator)\n",
    "plt.show()"
   ]
  },
  {
   "cell_type": "code",
   "execution_count": null,
   "metadata": {
    "collapsed": false
   },
   "outputs": [],
   "source": [
    "temp.head()"
   ]
  },
  {
   "cell_type": "code",
   "execution_count": null,
   "metadata": {
    "collapsed": false
   },
   "outputs": [],
   "source": [
    "plt.plot(range(len(ms)), ms.values)\n",
    "plt.show()         "
   ]
  }
 ],
 "metadata": {
  "anaconda-cloud": {},
  "kernelspec": {
   "display_name": "Python [default]",
   "language": "python",
   "name": "python2"
  },
  "language_info": {
   "codemirror_mode": {
    "name": "ipython",
    "version": 2
   },
   "file_extension": ".py",
   "mimetype": "text/x-python",
   "name": "python",
   "nbconvert_exporter": "python",
   "pygments_lexer": "ipython2",
   "version": "2.7.12"
  }
 },
 "nbformat": 4,
 "nbformat_minor": 1
}
