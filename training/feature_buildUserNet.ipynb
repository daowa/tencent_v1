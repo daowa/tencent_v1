{
 "cells": [
  {
   "cell_type": "markdown",
   "metadata": {},
   "source": [
    "# 对于50个APP，生成用户间共现网络"
   ]
  },
  {
   "cell_type": "code",
   "execution_count": 1,
   "metadata": {
    "collapsed": true
   },
   "outputs": [],
   "source": [
    "import numpy as np\n",
    "import pandas as pd"
   ]
  },
  {
   "cell_type": "code",
   "execution_count": 2,
   "metadata": {
    "collapsed": false
   },
   "outputs": [],
   "source": [
    "readAppCoScale = pd.read_csv('C:\\\\Users\\\\work\\\\Desktop\\\\tencent\\\\feature\\\\app-user\\\\app_coScale.csv')[['appID', 'coScale_logReci']].set_index('appID')\n",
    "dictAppScore = readAppCoScale.to_dict() #索引，为了加快速度"
   ]
  },
  {
   "cell_type": "code",
   "execution_count": 3,
   "metadata": {
    "collapsed": false
   },
   "outputs": [
    {
     "data": {
      "text/html": [
       "<div>\n",
       "<table border=\"1\" class=\"dataframe\">\n",
       "  <thead>\n",
       "    <tr style=\"text-align: right;\">\n",
       "      <th></th>\n",
       "      <th>userID</th>\n",
       "      <th>appList</th>\n",
       "    </tr>\n",
       "  </thead>\n",
       "  <tbody>\n",
       "    <tr>\n",
       "      <th>0</th>\n",
       "      <td>1</td>\n",
       "      <td>[357, 360, 362, 365, 375, 441, 480, 481, 482, ...</td>\n",
       "    </tr>\n",
       "    <tr>\n",
       "      <th>1</th>\n",
       "      <td>9</td>\n",
       "      <td>[538, 602, 604]</td>\n",
       "    </tr>\n",
       "    <tr>\n",
       "      <th>2</th>\n",
       "      <td>10</td>\n",
       "      <td>[357, 359, 365, 383, 480, 481, 482, 483, 484, ...</td>\n",
       "    </tr>\n",
       "    <tr>\n",
       "      <th>3</th>\n",
       "      <td>12</td>\n",
       "      <td>[480, 481, 482, 483, 484, 485, 486, 487, 488, ...</td>\n",
       "    </tr>\n",
       "    <tr>\n",
       "      <th>4</th>\n",
       "      <td>14</td>\n",
       "      <td>[362, 480, 481, 482, 483, 484, 485, 486, 487, ...</td>\n",
       "    </tr>\n",
       "  </tbody>\n",
       "</table>\n",
       "</div>"
      ],
      "text/plain": [
       "   userID                                            appList\n",
       "0       1  [357, 360, 362, 365, 375, 441, 480, 481, 482, ...\n",
       "1       9                                    [538, 602, 604]\n",
       "2      10  [357, 359, 365, 383, 480, 481, 482, 483, 484, ...\n",
       "3      12  [480, 481, 482, 483, 484, 485, 486, 487, 488, ...\n",
       "4      14  [362, 480, 481, 482, 483, 484, 485, 486, 487, ..."
      ]
     },
     "execution_count": 3,
     "metadata": {},
     "output_type": "execute_result"
    }
   ],
   "source": [
    "# 读取user_apps\n",
    "readUserApps = pd.read_csv('C:\\\\Users\\\\work\\\\Desktop\\\\tencent\\\\feature\\\\app-user\\\\user_apps.csv', names=['userID', 'appList'])\n",
    "dict_userApps = {}\n",
    "def getDictUserApps(x):\n",
    "     dict_userApps[x[0]] = x[1][1:-1].split(', ')\n",
    "readUserApps.apply(getDictUserApps, axis=1)\n",
    "readUserApps.head()"
   ]
  },
  {
   "cell_type": "code",
   "execution_count": 16,
   "metadata": {
    "collapsed": true
   },
   "outputs": [],
   "source": [
    "# 读取训练文件\n",
    "dataNetAll = pd.merge(pd.read_csv(\"C:\\\\Users\\\\work\\\\Desktop\\\\tencent\\\\pre\\\\train.csv\"), pd.read_csv(\"C:\\\\Users\\\\work\\\\Desktop\\\\tencent\\\\pre\\\\ad.csv\"), on='creativeID')"
   ]
  },
  {
   "cell_type": "code",
   "execution_count": 4,
   "metadata": {
    "collapsed": true
   },
   "outputs": [],
   "source": [
    "def getScore(list):\n",
    "    score = 0\n",
    "    for l in list:\n",
    "        score += dictAppScore['coScale_logReci'][int(l)]\n",
    "    return score\n",
    "def cal_coScale(user0, user1):\n",
    "    list0 = dict_userApps[user0]\n",
    "    list1 = dict_userApps[user1]\n",
    "    interset = np.intersect1d(list0, list1)\n",
    "    length = len(interset)\n",
    "    if(length == 0): \n",
    "        return 0\n",
    "    else: \n",
    "#         return getScore(interset)\n",
    "#         return getScore(interset)/length\n",
    "        return getScore(np.intersect1d(list0, list1))/getScore(np.union1d(list0, list1))"
   ]
  },
  {
   "cell_type": "code",
   "execution_count": 31,
   "metadata": {
    "collapsed": true
   },
   "outputs": [],
   "source": [
    "def writeNet(appID):\n",
    "    # 取某个appID的用户，分为1和0两个部分\n",
    "    dataNet = dataNetAll[dataNetAll['appID']==appID][['label','userID']].copy()\n",
    "    dataNet_1 = dataNet[dataNet['label']==1]\n",
    "    dataNet_0 = dataNet[dataNet['label']==0]\n",
    "    ## 前期准备\n",
    "    listUsers1 = list(dataNet_1['userID'])\n",
    "    if len(listUsers1) > 1500:\n",
    "        listUsers1 = listUsers1[::int(len(listUsers1)/1500)] #控制listUser1的长度，如果大于1500，就间隔抽样1500个\n",
    "    sampler = np.random.permutation(len(listUsers1))\n",
    "    index = dataNet_0['userID'].index[sampler] #重排序后的索引\n",
    "    listUsers0 = list(dataNet_0['userID'].ix[index])\n",
    "    # node\n",
    "    ## node1\n",
    "    f_node = open('C:\\\\Users\\\\work\\\\Desktop\\\\tencent\\\\feature\\\\net\\\\' + str(appID) + '_node.csv', 'w')\n",
    "    f_node.write('Id,Label,partition\\r\\n')\n",
    "    for i in range(len(listUsers1)):\n",
    "        f_node.write(str(listUsers1[i]) + ',' + str(listUsers1[i]) + ',' + '1' + '\\r\\n')\n",
    "    ## node0\n",
    "    for i in range(len(listUsers0)):\n",
    "        f_node.write(str(listUsers0[i]) + ',' + str(listUsers0[i]) + ',' + '0' + '\\r\\n')\n",
    "    f_node.close()\n",
    "    # line\n",
    "    f_line = open('C:\\\\Users\\\\work\\\\Desktop\\\\tencent\\\\feature\\\\net\\\\' + str(appID) + '_line.csv', 'w')\n",
    "    f_line.write('Source,Target,weight,partition\\r\\n')\n",
    "    threshold_score = 0.3\n",
    "    # 1网络\n",
    "    for i in range(len(listUsers1)):\n",
    "        if dict_userApps.has_key(listUsers1[i]) == False: continue\n",
    "        for j in range(i, len(listUsers1)):\n",
    "            if dict_userApps.has_key(listUsers1[j]) == False: continue\n",
    "            if listUsers1[i] == listUsers1[j]: continue\n",
    "            score = cal_coScale(listUsers1[i], listUsers1[j])\n",
    "            if score > threshold_score:\n",
    "                f_line.write(str(listUsers1[i]) + \",\" + str(listUsers1[j]) + \",\"\n",
    "                             + str(score) + ',' + \"1\\r\\n\")\n",
    "    # 0网络\n",
    "    for i in range(len(listUsers0)):\n",
    "        if dict_userApps.has_key(listUsers0[i]) == False: continue\n",
    "        for j in range(i, len(listUsers0)):\n",
    "            if dict_userApps.has_key(listUsers0[j]) == False: continue\n",
    "            if listUsers0[i] == listUsers0[j]: continue\n",
    "            score = cal_coScale(listUsers0[i], listUsers0[j])\n",
    "            if score > threshold_score:\n",
    "                f_line.write(str(listUsers0[i]) + \",\" + str(listUsers0[j]) + \",\"\n",
    "                             + str(score) + ',' + \"0\\r\\n\")\n",
    "    # 1-0网络\n",
    "    for i in range(len(listUsers1)):\n",
    "        if dict_userApps.has_key(listUsers1[i]) == False: continue\n",
    "        for j in range(i, len(listUsers0)):\n",
    "            if dict_userApps.has_key(listUsers0[j]) == False: continue\n",
    "            score = cal_coScale(listUsers1[i], listUsers0[j])\n",
    "            if score > threshold_score:\n",
    "                f_line.write(str(listUsers1[i]) + \",\" + str(listUsers0[j]) + \",\"\n",
    "                             + str(score) + ',' + \"10\\r\\n\")\n",
    "    f_line.close()"
   ]
  },
  {
   "cell_type": "code",
   "execution_count": 42,
   "metadata": {
    "collapsed": true
   },
   "outputs": [],
   "source": [
    "writeNet(75)"
   ]
  },
  {
   "cell_type": "code",
   "execution_count": 43,
   "metadata": {
    "collapsed": false
   },
   "outputs": [
    {
     "name": "stdout",
     "output_type": "stream",
     "text": [
      "389\n",
      "262\n",
      "391\n",
      "137\n",
      "14\n",
      "271\n",
      "472\n",
      "146\n",
      "150\n",
      "25\n",
      "283\n",
      "284\n",
      "286\n",
      "160\n",
      "278\n",
      "419\n",
      "420\n",
      "421\n",
      "428\n",
      "304\n",
      "434\n",
      "442\n",
      "319\n",
      "195\n",
      "68\n",
      "198\n",
      "327\n",
      "328\n",
      "75\n",
      "205\n",
      "206\n",
      "336\n",
      "465\n",
      "83\n",
      "84\n",
      "88\n",
      "100\n",
      "218\n",
      "350\n",
      "293\n",
      "123\n",
      "356\n",
      "229\n",
      "360\n",
      "105\n",
      "109\n",
      "113\n",
      "116\n",
      "127\n",
      "383\n"
     ]
    }
   ],
   "source": [
    "# 获得targetID名单\n",
    "dataAppID = pd.read_csv('C:\\\\Users\\\\work\\\\Desktop\\\\tencent\\\\pre\\\\ad.csv')\n",
    "appIDs = set(dataAppID['appID'])\n",
    "for id in appIDs:\n",
    "    print id\n",
    "#     writeNet(id)"
   ]
  }
 ],
 "metadata": {
  "anaconda-cloud": {},
  "kernelspec": {
   "display_name": "Python [default]",
   "language": "python",
   "name": "python2"
  },
  "language_info": {
   "codemirror_mode": {
    "name": "ipython",
    "version": 2
   },
   "file_extension": ".py",
   "mimetype": "text/x-python",
   "name": "python",
   "nbconvert_exporter": "python",
   "pygments_lexer": "ipython2",
   "version": "2.7.12"
  }
 },
 "nbformat": 4,
 "nbformat_minor": 1
}
