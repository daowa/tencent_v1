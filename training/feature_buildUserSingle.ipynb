{
 "cells": [
  {
   "cell_type": "markdown",
   "metadata": {},
   "source": [
    "# 1. 读取node和line文件，计算node的加权weight"
   ]
  },
  {
   "cell_type": "code",
   "execution_count": 2,
   "metadata": {
    "collapsed": true
   },
   "outputs": [],
   "source": [
    "import numpy as np\n",
    "import pandas as pd\n",
    "import math"
   ]
  },
  {
   "cell_type": "code",
   "execution_count": null,
   "metadata": {
    "collapsed": true
   },
   "outputs": [],
   "source": [
    "def writeNetWeight(id):\n",
    "    def getWeight(x):\n",
    "        weight = dataLine[dataLine['Source']==x[0]]['weight'].sum() + dataLine[dataLine['Target']==x[0]]['weight'].sum()\n",
    "        count = dataLine[dataLine['Source']==x[0]]['weight'].count() + dataLine[dataLine['Target']==x[0]]['weight'].count()\n",
    "        if count == 0:\n",
    "            return 0.0\n",
    "        else:\n",
    "            return weight\n",
    "    dataNode = pd.read_csv('C:\\\\Users\\\\work\\\\Desktop\\\\tencent\\\\feature\\\\net\\\\' + str(id) + '_node.csv')\n",
    "    dataLine = pd.read_csv('C:\\\\Users\\\\work\\\\Desktop\\\\tencent\\\\feature\\\\net\\\\' + str(id) + '_line.csv')\n",
    "    dataNode['weightDegree'] = dataNode[['Id']].apply(getWeight, axis=1)\n",
    "    dataNode.to_csv('C:\\\\Users\\\\work\\\\Desktop\\\\tencent\\\\feature\\\\net\\\\' + str(id) + '_nodeWeight.csv', index=False)"
   ]
  },
  {
   "cell_type": "code",
   "execution_count": null,
   "metadata": {
    "collapsed": false
   },
   "outputs": [],
   "source": [
    "# 获得targetID名单\n",
    "dataAppID = pd.read_csv('C:\\\\Users\\\\work\\\\Desktop\\\\tencent\\\\pre\\\\ad.csv')\n",
    "appIDs = set(dataAppID['appID'])\n",
    "for id in appIDs:\n",
    "    writeNetWeight(id)"
   ]
  },
  {
   "cell_type": "markdown",
   "metadata": {},
   "source": [
    "# 2.读取nodeWeight，合并人格"
   ]
  },
  {
   "cell_type": "code",
   "execution_count": null,
   "metadata": {
    "collapsed": false
   },
   "outputs": [],
   "source": [
    "# 读取user_apps\n",
    "readUserApps = pd.read_csv('C:\\\\Users\\\\work\\\\Desktop\\\\tencent\\\\feature\\\\app-user\\\\user_apps.csv', names=['userID', 'appList'])\n",
    "dict_userApps = {}\n",
    "def getDictUserApps(x):\n",
    "     dict_userApps[x[0]] = x[1][1:-1].split(', ')\n",
    "readUserApps.apply(getDictUserApps, axis=1)\n",
    "readUserApps.head()"
   ]
  },
  {
   "cell_type": "code",
   "execution_count": null,
   "metadata": {
    "collapsed": true
   },
   "outputs": [],
   "source": [
    "def getSingle(id):\n",
    "    dataNodeWeight = pd.read_csv('C:\\\\Users\\\\work\\\\Desktop\\\\tencent\\\\feature\\\\net\\\\' + str(id) + '_nodeWeight.csv')\n",
    "    thresholdHead = dataNodeWeight['weightDegree'].max()*0.9\n",
    "    thresholdTail = dataNodeWeight['weightDegree'].max()*0.2\n",
    "    dataNodeWeight = dataNodeWeight[(dataNodeWeight['weightDegree']>thresholdTail) & (dataNodeWeight['weightDegree']<thresholdHead)]\n",
    "    # 合并人格\n",
    "    global dict1\n",
    "    global dict0\n",
    "    dict1 = {}\n",
    "    dict0 = {}\n",
    "    def getDict1(x):\n",
    "        global dict1\n",
    "        appList = dict_userApps[x[0]]\n",
    "        for app in appList:\n",
    "            if dict1.has_key(app):\n",
    "                dict1[app] = dict1[app]+1\n",
    "            else:\n",
    "                dict1[app] = 1\n",
    "    def getDict0(x):\n",
    "        global dict0\n",
    "        appList = dict_userApps[x[0]]\n",
    "        for app in appList:\n",
    "            if dict0.has_key(app):\n",
    "                dict0[app] = dict0[app]+1\n",
    "            else:\n",
    "                dict0[app] = 1\n",
    "    single1 = dataNodeWeight[dataNodeWeight['partition']==1][['Id']]\n",
    "    single0 = dataNodeWeight[dataNodeWeight['partition']==0][['Id']]\n",
    "    single1.apply(getDict1, axis=1)\n",
    "    single0.apply(getDict0, axis=1)\n",
    "    # dict归一化\n",
    "    for key in dict1:\n",
    "        dict1[key] = math.log(dict1[key]+1)/len(single1) #因为权重是log化了，所以这里数量也log化;+1是避免log1=0的情况\n",
    "    for key in dict0:\n",
    "        dict0[key] = math.log(dict0[key]+1)/len(single0)\n",
    "    # 写入dataframe\n",
    "    global out\n",
    "    out.loc[out['appID'].count()] = [id, 1, 1, str(dict1)]\n",
    "    out.loc[out['appID'].count()] = [id, 1, 0, str(dict0)]"
   ]
  },
  {
   "cell_type": "code",
   "execution_count": null,
   "metadata": {
    "collapsed": false
   },
   "outputs": [],
   "source": [
    "# 写入csv\n",
    "out = pd.DataFrame(columns=['appID','single','partition','dict'])\n",
    "# 获得targetID名单\n",
    "dataAppID = pd.read_csv('C:\\\\Users\\\\work\\\\Desktop\\\\tencent\\\\pre\\\\ad.csv')\n",
    "appIDs = set(dataAppID['appID'])\n",
    "for id in appIDs:\n",
    "    getSingle(id)\n",
    "# 1是app的出现数量/总代表数量\n",
    "# 2是log（app的出现数量）/总代表数\n",
    "out.to_csv('C:\\\\Users\\\\work\\\\Desktop\\\\tencent\\\\feature\\\\app-user\\\\user_single2.csv', index=False)"
   ]
  },
  {
   "cell_type": "code",
   "execution_count": 4,
   "metadata": {
    "collapsed": false
   },
   "outputs": [
    {
     "data": {
      "text/html": [
       "<div>\n",
       "<table border=\"1\" class=\"dataframe\">\n",
       "  <thead>\n",
       "    <tr style=\"text-align: right;\">\n",
       "      <th></th>\n",
       "      <th>appID</th>\n",
       "      <th>single</th>\n",
       "      <th>partition</th>\n",
       "      <th>dict</th>\n",
       "    </tr>\n",
       "  </thead>\n",
       "  <tbody>\n",
       "    <tr>\n",
       "      <th>66</th>\n",
       "      <td>83.0</td>\n",
       "      <td>1.0</td>\n",
       "      <td>1.0</td>\n",
       "      <td>{'18558': 0.003850817669777474, '799': 0.00385...</td>\n",
       "    </tr>\n",
       "    <tr>\n",
       "      <th>67</th>\n",
       "      <td>83.0</td>\n",
       "      <td>1.0</td>\n",
       "      <td>0.0</td>\n",
       "      <td>{'4025': 0.003960841031771116, '9671': 0.00396...</td>\n",
       "    </tr>\n",
       "  </tbody>\n",
       "</table>\n",
       "</div>"
      ],
      "text/plain": [
       "    appID  single  partition  \\\n",
       "66   83.0     1.0        1.0   \n",
       "67   83.0     1.0        0.0   \n",
       "\n",
       "                                                 dict  \n",
       "66  {'18558': 0.003850817669777474, '799': 0.00385...  \n",
       "67  {'4025': 0.003960841031771116, '9671': 0.00396...  "
      ]
     },
     "execution_count": 4,
     "metadata": {},
     "output_type": "execute_result"
    }
   ],
   "source": [
    "temp = pd.read_csv('C:\\\\Users\\\\work\\\\Desktop\\\\tencent\\\\feature\\\\app-user\\\\user_single2.csv')\n",
    "temp[temp['appID']==83].head()"
   ]
  },
  {
   "cell_type": "code",
   "execution_count": null,
   "metadata": {
    "collapsed": true
   },
   "outputs": [],
   "source": []
  }
 ],
 "metadata": {
  "anaconda-cloud": {},
  "kernelspec": {
   "display_name": "Python [default]",
   "language": "python",
   "name": "python2"
  },
  "language_info": {
   "codemirror_mode": {
    "name": "ipython",
    "version": 2
   },
   "file_extension": ".py",
   "mimetype": "text/x-python",
   "name": "python",
   "nbconvert_exporter": "python",
   "pygments_lexer": "ipython2",
   "version": "2.7.12"
  }
 },
 "nbformat": 4,
 "nbformat_minor": 1
}
