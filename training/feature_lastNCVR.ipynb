{
 "cells": [
  {
   "cell_type": "code",
   "execution_count": 1,
   "metadata": {
    "collapsed": true
   },
   "outputs": [],
   "source": [
    "import numpy as np\n",
    "import pandas as pd"
   ]
  },
  {
   "cell_type": "code",
   "execution_count": 2,
   "metadata": {
    "collapsed": true
   },
   "outputs": [],
   "source": [
    "dataTrain = pd.read_csv('C:\\\\Users\\\\work\\\\Desktop\\\\tencent\\\\pre\\\\train.csv')\n",
    "dataCreative = pd.read_csv('C:\\\\Users\\\\work\\\\Desktop\\\\tencent\\\\pre\\\\ad.csv')\n",
    "dataTrain = pd.merge(dataTrain, dataCreative, on='creativeID')"
   ]
  },
  {
   "cell_type": "code",
   "execution_count": 3,
   "metadata": {
    "collapsed": false
   },
   "outputs": [],
   "source": [
    "def cvr_by_time(field):\n",
    "    return dataTrain[['label','date',field]].groupby([field,'date']).sum()/dataTrain[['label','date',field]].groupby([field,'date']).count()\n",
    "# 计算不同N下当日CVR与前N日平均CVR的相关系数\n",
    "def nAvg(x, N):\n",
    "#     avg = 0.02487299735\n",
    "    avg = 0\n",
    "    # 第一种情况，之前无投放，直接用平均CVR代替\n",
    "    if ((x[0], x[1]-1) in se.index) is False:\n",
    "        return avg\n",
    "    #第二种情况，之前有不到M天的投放，则用这些天数的平均值\n",
    "    count = 0;\n",
    "    amount = 0;\n",
    "    for i in range(N):\n",
    "        if ((x[0], x[1]-1-i) in se.index) is False:\n",
    "            break\n",
    "        count = count+1\n",
    "        amount += se['label'][x[0], x[1]-1-i]\n",
    "    return amount/count"
   ]
  },
  {
   "cell_type": "code",
   "execution_count": 4,
   "metadata": {
    "collapsed": false,
    "scrolled": true
   },
   "outputs": [
    {
     "name": "stdout",
     "output_type": "stream",
     "text": [
      "                    label  lastNCVR_camgaignID\n",
      "camgaignID date                               \n",
      "1          27    0.000000             0.000000\n",
      "           28    0.000000             0.000000\n",
      "2          26    0.001733             0.000000\n",
      "           27    0.000000             0.001733\n",
      "           28    0.000000             0.000000\n",
      "3          24    0.000000             0.000000\n",
      "           25    0.000000             0.000000\n",
      "           26    0.000000             0.000000\n",
      "           27    0.000000             0.000000\n",
      "4          18    0.000000             0.000000\n",
      "           19    0.000000             0.000000\n",
      "           20    0.000000             0.000000\n",
      "           21    0.000000             0.000000\n",
      "           22    0.000000             0.000000\n",
      "           24    0.000000             0.000000\n",
      "           25    0.000000             0.000000\n",
      "           26    0.000000             0.000000\n",
      "           27    0.000000             0.000000\n",
      "           29    0.000000             0.000000\n",
      "           30    0.000000             0.000000\n",
      "5          29    0.000000             0.000000\n",
      "           30    0.016129             0.000000\n",
      "6          22    0.000000             0.000000\n",
      "           23    0.005277             0.000000\n",
      "           24    0.000000             0.005277\n",
      "           25    0.000000             0.000000\n",
      "           26    0.003650             0.000000\n",
      "           27    0.003425             0.003650\n",
      "           28    0.000000             0.003425\n",
      "           29    0.000000             0.000000\n",
      "...                   ...                  ...\n",
      "718        17    0.000000             0.000000\n",
      "           18    0.017857             0.000000\n",
      "           19    0.000000             0.017857\n",
      "           20    0.008511             0.000000\n",
      "           21    0.000000             0.008511\n",
      "           22    0.000000             0.000000\n",
      "           23    0.000000             0.000000\n",
      "           24    0.000000             0.000000\n",
      "           25    0.000000             0.000000\n",
      "           26    0.000000             0.000000\n",
      "           27    0.000000             0.000000\n",
      "           28    0.000000             0.000000\n",
      "           29    0.000000             0.000000\n",
      "           30    0.033333             0.000000\n",
      "719        23    0.000000             0.000000\n",
      "           24    0.012987             0.000000\n",
      "720        17    0.002981             0.000000\n",
      "           18    0.000000             0.002981\n",
      "           19    0.000000             0.000000\n",
      "           20    0.000000             0.000000\n",
      "           21    0.000000             0.000000\n",
      "           22    0.000000             0.000000\n",
      "           23    0.000000             0.000000\n",
      "           24    0.000000             0.000000\n",
      "           25    0.000000             0.000000\n",
      "           26    0.000000             0.000000\n",
      "           27    0.000000             0.000000\n",
      "           28    0.000000             0.000000\n",
      "           29    0.000000             0.000000\n",
      "           30    0.000000             0.000000\n",
      "\n",
      "[4355 rows x 2 columns]\n"
     ]
    }
   ],
   "source": [
    "# 需要两个参数，一个是target字段，一个是前向N期\n",
    "target = 'camgaignID'\n",
    "N = 1\n",
    "# 先根据日期统计数据\n",
    "dataTrain['date'] = dataTrain['clickTime'].apply(lambda x: int(x/10000))\n",
    "se = cvr_by_time(target)\n",
    "se['lastNCVR_' + target] = pd.Series(se.reset_index().apply(nAvg, args=(N,), axis=1).values, index=se.index)\n",
    "print se\n",
    "result = se.drop('label', axis=1)\n",
    "result.to_csv('C:\\\\Users\\\\work\\\\Desktop\\\\tencent\\\\feature\\\\lastNCVR_' + target + '.csv')"
   ]
  },
  {
   "cell_type": "code",
   "execution_count": 5,
   "metadata": {
    "collapsed": false
   },
   "outputs": [
    {
     "data": {
      "text/html": [
       "<div>\n",
       "<table border=\"1\" class=\"dataframe\">\n",
       "  <thead>\n",
       "    <tr style=\"text-align: right;\">\n",
       "      <th></th>\n",
       "      <th>camgaignID</th>\n",
       "      <th>date</th>\n",
       "      <th>lastNCVR_camgaignID</th>\n",
       "    </tr>\n",
       "  </thead>\n",
       "  <tbody>\n",
       "    <tr>\n",
       "      <th>0</th>\n",
       "      <td>1</td>\n",
       "      <td>27</td>\n",
       "      <td>0.000000</td>\n",
       "    </tr>\n",
       "    <tr>\n",
       "      <th>1</th>\n",
       "      <td>1</td>\n",
       "      <td>28</td>\n",
       "      <td>0.000000</td>\n",
       "    </tr>\n",
       "    <tr>\n",
       "      <th>2</th>\n",
       "      <td>2</td>\n",
       "      <td>26</td>\n",
       "      <td>0.000000</td>\n",
       "    </tr>\n",
       "    <tr>\n",
       "      <th>3</th>\n",
       "      <td>2</td>\n",
       "      <td>27</td>\n",
       "      <td>0.001733</td>\n",
       "    </tr>\n",
       "    <tr>\n",
       "      <th>4</th>\n",
       "      <td>2</td>\n",
       "      <td>28</td>\n",
       "      <td>0.000000</td>\n",
       "    </tr>\n",
       "  </tbody>\n",
       "</table>\n",
       "</div>"
      ],
      "text/plain": [
       "   camgaignID  date  lastNCVR_camgaignID\n",
       "0           1    27             0.000000\n",
       "1           1    28             0.000000\n",
       "2           2    26             0.000000\n",
       "3           2    27             0.001733\n",
       "4           2    28             0.000000"
      ]
     },
     "execution_count": 5,
     "metadata": {},
     "output_type": "execute_result"
    }
   ],
   "source": [
    "temp = pd.read_csv('C:\\\\Users\\\\work\\\\Desktop\\\\tencent\\\\feature\\\\lastNCVR_' + target + '.csv')\n",
    "temp.head()"
   ]
  }
 ],
 "metadata": {
  "kernelspec": {
   "display_name": "Python [default]",
   "language": "python",
   "name": "python2"
  },
  "language_info": {
   "codemirror_mode": {
    "name": "ipython",
    "version": 2
   },
   "file_extension": ".py",
   "mimetype": "text/x-python",
   "name": "python",
   "nbconvert_exporter": "python",
   "pygments_lexer": "ipython2",
   "version": "2.7.12"
  }
 },
 "nbformat": 4,
 "nbformat_minor": 0
}
