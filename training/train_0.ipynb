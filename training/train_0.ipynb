{
 "cells": [
  {
   "cell_type": "code",
   "execution_count": 1,
   "metadata": {
    "collapsed": true
   },
   "outputs": [],
   "source": [
    "import numpy as np\n",
    "import pandas as pd"
   ]
  },
  {
   "cell_type": "code",
   "execution_count": 2,
   "metadata": {
    "collapsed": false,
    "scrolled": true
   },
   "outputs": [],
   "source": [
    "# 读入基础数据\n",
    "data = pd.read_csv('C:\\\\Users\\\\work\\\\Desktop\\\\tencent\\\\pre\\\\train.csv')\n",
    "data['date'] = data['clickTime'].apply(lambda x: int(x/10000))\n",
    "data = data[['label', 'date']]"
   ]
  },
  {
   "cell_type": "code",
   "execution_count": 3,
   "metadata": {
    "collapsed": false
   },
   "outputs": [],
   "source": [
    "# 读入特征\n",
    "def readFeature(features):\n",
    "    for feature in features:\n",
    "        global data #声明data是global而不是局部变量\n",
    "        dataFeature = pd.read_csv('C:\\\\Users\\\\work\\\\Desktop\\\\tencent\\\\feature\\\\train\\\\' + feature + '.csv', names=[feature])\n",
    "        data = pd.concat([data, dataFeature], axis=1)\n",
    "readFeature(['connectionType','telecomsOperator', 'lastNCVR_appID', 'lastNCVR_advertiserID'])"
   ]
  },
  {
   "cell_type": "code",
   "execution_count": 5,
   "metadata": {
    "collapsed": false
   },
   "outputs": [
    {
     "data": {
      "text/html": [
       "<div>\n",
       "<table border=\"1\" class=\"dataframe\">\n",
       "  <thead>\n",
       "    <tr style=\"text-align: right;\">\n",
       "      <th></th>\n",
       "      <th>label</th>\n",
       "      <th>date</th>\n",
       "      <th>connectionType</th>\n",
       "      <th>telecomsOperator</th>\n",
       "      <th>lastNCVR_appID</th>\n",
       "      <th>lastNCVR_advertiserID</th>\n",
       "    </tr>\n",
       "  </thead>\n",
       "  <tbody>\n",
       "    <tr>\n",
       "      <th>0</th>\n",
       "      <td>0</td>\n",
       "      <td>17</td>\n",
       "      <td>1</td>\n",
       "      <td>1</td>\n",
       "      <td>0.024873</td>\n",
       "      <td>0.024873</td>\n",
       "    </tr>\n",
       "    <tr>\n",
       "      <th>1</th>\n",
       "      <td>0</td>\n",
       "      <td>17</td>\n",
       "      <td>1</td>\n",
       "      <td>2</td>\n",
       "      <td>0.024873</td>\n",
       "      <td>0.024873</td>\n",
       "    </tr>\n",
       "    <tr>\n",
       "      <th>2</th>\n",
       "      <td>0</td>\n",
       "      <td>17</td>\n",
       "      <td>4</td>\n",
       "      <td>1</td>\n",
       "      <td>0.024873</td>\n",
       "      <td>0.024873</td>\n",
       "    </tr>\n",
       "    <tr>\n",
       "      <th>3</th>\n",
       "      <td>0</td>\n",
       "      <td>17</td>\n",
       "      <td>1</td>\n",
       "      <td>1</td>\n",
       "      <td>0.024873</td>\n",
       "      <td>0.024873</td>\n",
       "    </tr>\n",
       "    <tr>\n",
       "      <th>4</th>\n",
       "      <td>0</td>\n",
       "      <td>17</td>\n",
       "      <td>1</td>\n",
       "      <td>1</td>\n",
       "      <td>0.024873</td>\n",
       "      <td>0.024873</td>\n",
       "    </tr>\n",
       "  </tbody>\n",
       "</table>\n",
       "</div>"
      ],
      "text/plain": [
       "   label  date  connectionType  telecomsOperator  lastNCVR_appID  \\\n",
       "0      0    17               1                 1        0.024873   \n",
       "1      0    17               1                 2        0.024873   \n",
       "2      0    17               4                 1        0.024873   \n",
       "3      0    17               1                 1        0.024873   \n",
       "4      0    17               1                 1        0.024873   \n",
       "\n",
       "   lastNCVR_advertiserID  \n",
       "0               0.024873  \n",
       "1               0.024873  \n",
       "2               0.024873  \n",
       "3               0.024873  \n",
       "4               0.024873  "
      ]
     },
     "execution_count": 5,
     "metadata": {},
     "output_type": "execute_result"
    }
   ],
   "source": [
    "data.head()"
   ]
  },
  {
   "cell_type": "code",
   "execution_count": 8,
   "metadata": {
    "collapsed": false
   },
   "outputs": [
    {
     "name": "stderr",
     "output_type": "stream",
     "text": [
      "C:\\Users\\work\\Anaconda2\\lib\\site-packages\\sklearn\\preprocessing\\data.py:583: DeprecationWarning: Passing 1d arrays as data is deprecated in 0.17 and will raise ValueError in 0.19. Reshape your data either using X.reshape(-1, 1) if your data has a single feature or X.reshape(1, -1) if it contains a single sample.\n",
      "  warnings.warn(DEPRECATION_MSG_1D, DeprecationWarning)\n",
      "C:\\Users\\work\\Anaconda2\\lib\\site-packages\\sklearn\\preprocessing\\data.py:583: DeprecationWarning: Passing 1d arrays as data is deprecated in 0.17 and will raise ValueError in 0.19. Reshape your data either using X.reshape(-1, 1) if your data has a single feature or X.reshape(1, -1) if it contains a single sample.\n",
      "  warnings.warn(DEPRECATION_MSG_1D, DeprecationWarning)\n",
      "C:\\Users\\work\\Anaconda2\\lib\\site-packages\\sklearn\\preprocessing\\data.py:646: DeprecationWarning: Passing 1d arrays as data is deprecated in 0.17 and will raise ValueError in 0.19. Reshape your data either using X.reshape(-1, 1) if your data has a single feature or X.reshape(1, -1) if it contains a single sample.\n",
      "  warnings.warn(DEPRECATION_MSG_1D, DeprecationWarning)\n",
      "C:\\Users\\work\\Anaconda2\\lib\\site-packages\\sklearn\\preprocessing\\data.py:583: DeprecationWarning: Passing 1d arrays as data is deprecated in 0.17 and will raise ValueError in 0.19. Reshape your data either using X.reshape(-1, 1) if your data has a single feature or X.reshape(1, -1) if it contains a single sample.\n",
      "  warnings.warn(DEPRECATION_MSG_1D, DeprecationWarning)\n",
      "C:\\Users\\work\\Anaconda2\\lib\\site-packages\\sklearn\\preprocessing\\data.py:583: DeprecationWarning: Passing 1d arrays as data is deprecated in 0.17 and will raise ValueError in 0.19. Reshape your data either using X.reshape(-1, 1) if your data has a single feature or X.reshape(1, -1) if it contains a single sample.\n",
      "  warnings.warn(DEPRECATION_MSG_1D, DeprecationWarning)\n",
      "C:\\Users\\work\\Anaconda2\\lib\\site-packages\\sklearn\\preprocessing\\data.py:646: DeprecationWarning: Passing 1d arrays as data is deprecated in 0.17 and will raise ValueError in 0.19. Reshape your data either using X.reshape(-1, 1) if your data has a single feature or X.reshape(1, -1) if it contains a single sample.\n",
      "  warnings.warn(DEPRECATION_MSG_1D, DeprecationWarning)\n"
     ]
    }
   ],
   "source": [
    "# 特征哑变量化与离散化\n",
    "import sklearn.preprocessing as preprocessing\n",
    "## 离散变量哑变量化\n",
    "def featureDummy(features):\n",
    "    for feature in features:\n",
    "        global data #声明data是global而不是局部变量\n",
    "        dummies = pd.get_dummies(data[feature], prefix=feature)\n",
    "        data = pd.concat([data, dummies], axis=1)\n",
    "        data.drop([feature], axis=1, inplace=True)\n",
    "## 连续变量标准化\n",
    "def featureScale(features):\n",
    "    for feature in features:\n",
    "        global data #声明data是global而不是局部变量\n",
    "        scaler = preprocessing.StandardScaler()\n",
    "        scaleParam = scaler.fit(data[feature])\n",
    "        data[feature] = scaler.fit_transform(data[feature], scaleParam)\n",
    "\n",
    "# 哑变量化与离散化\n",
    "featureDummy(['connectionType', 'telecomsOperator'])\n",
    "featureScale(['lastNCVR_appID', 'lastNCVR_advertiserID'])"
   ]
  },
  {
   "cell_type": "code",
   "execution_count": 9,
   "metadata": {
    "collapsed": false
   },
   "outputs": [
    {
     "data": {
      "text/html": [
       "<div>\n",
       "<table border=\"1\" class=\"dataframe\">\n",
       "  <thead>\n",
       "    <tr style=\"text-align: right;\">\n",
       "      <th></th>\n",
       "      <th>label</th>\n",
       "      <th>date</th>\n",
       "      <th>lastNCVR_appID</th>\n",
       "      <th>lastNCVR_advertiserID</th>\n",
       "      <th>connectionType_0</th>\n",
       "      <th>connectionType_1</th>\n",
       "      <th>connectionType_2</th>\n",
       "      <th>connectionType_3</th>\n",
       "      <th>connectionType_4</th>\n",
       "      <th>connectionType_0</th>\n",
       "      <th>connectionType_1</th>\n",
       "      <th>connectionType_2</th>\n",
       "      <th>connectionType_3</th>\n",
       "      <th>connectionType_4</th>\n",
       "      <th>telecomsOperator_0</th>\n",
       "      <th>telecomsOperator_1</th>\n",
       "      <th>telecomsOperator_2</th>\n",
       "      <th>telecomsOperator_3</th>\n",
       "    </tr>\n",
       "  </thead>\n",
       "  <tbody>\n",
       "    <tr>\n",
       "      <th>0</th>\n",
       "      <td>0</td>\n",
       "      <td>17</td>\n",
       "      <td>-0.029142</td>\n",
       "      <td>-0.033222</td>\n",
       "      <td>0.0</td>\n",
       "      <td>1.0</td>\n",
       "      <td>0.0</td>\n",
       "      <td>0.0</td>\n",
       "      <td>0.0</td>\n",
       "      <td>0.0</td>\n",
       "      <td>1.0</td>\n",
       "      <td>0.0</td>\n",
       "      <td>0.0</td>\n",
       "      <td>0.0</td>\n",
       "      <td>0.0</td>\n",
       "      <td>1.0</td>\n",
       "      <td>0.0</td>\n",
       "      <td>0.0</td>\n",
       "    </tr>\n",
       "    <tr>\n",
       "      <th>1</th>\n",
       "      <td>0</td>\n",
       "      <td>17</td>\n",
       "      <td>-0.029142</td>\n",
       "      <td>-0.033222</td>\n",
       "      <td>0.0</td>\n",
       "      <td>1.0</td>\n",
       "      <td>0.0</td>\n",
       "      <td>0.0</td>\n",
       "      <td>0.0</td>\n",
       "      <td>0.0</td>\n",
       "      <td>1.0</td>\n",
       "      <td>0.0</td>\n",
       "      <td>0.0</td>\n",
       "      <td>0.0</td>\n",
       "      <td>0.0</td>\n",
       "      <td>0.0</td>\n",
       "      <td>1.0</td>\n",
       "      <td>0.0</td>\n",
       "    </tr>\n",
       "    <tr>\n",
       "      <th>2</th>\n",
       "      <td>0</td>\n",
       "      <td>17</td>\n",
       "      <td>-0.029142</td>\n",
       "      <td>-0.033222</td>\n",
       "      <td>0.0</td>\n",
       "      <td>0.0</td>\n",
       "      <td>0.0</td>\n",
       "      <td>0.0</td>\n",
       "      <td>1.0</td>\n",
       "      <td>0.0</td>\n",
       "      <td>0.0</td>\n",
       "      <td>0.0</td>\n",
       "      <td>0.0</td>\n",
       "      <td>1.0</td>\n",
       "      <td>0.0</td>\n",
       "      <td>1.0</td>\n",
       "      <td>0.0</td>\n",
       "      <td>0.0</td>\n",
       "    </tr>\n",
       "    <tr>\n",
       "      <th>3</th>\n",
       "      <td>0</td>\n",
       "      <td>17</td>\n",
       "      <td>-0.029142</td>\n",
       "      <td>-0.033222</td>\n",
       "      <td>0.0</td>\n",
       "      <td>1.0</td>\n",
       "      <td>0.0</td>\n",
       "      <td>0.0</td>\n",
       "      <td>0.0</td>\n",
       "      <td>0.0</td>\n",
       "      <td>1.0</td>\n",
       "      <td>0.0</td>\n",
       "      <td>0.0</td>\n",
       "      <td>0.0</td>\n",
       "      <td>0.0</td>\n",
       "      <td>1.0</td>\n",
       "      <td>0.0</td>\n",
       "      <td>0.0</td>\n",
       "    </tr>\n",
       "    <tr>\n",
       "      <th>4</th>\n",
       "      <td>0</td>\n",
       "      <td>17</td>\n",
       "      <td>-0.029142</td>\n",
       "      <td>-0.033222</td>\n",
       "      <td>0.0</td>\n",
       "      <td>1.0</td>\n",
       "      <td>0.0</td>\n",
       "      <td>0.0</td>\n",
       "      <td>0.0</td>\n",
       "      <td>0.0</td>\n",
       "      <td>1.0</td>\n",
       "      <td>0.0</td>\n",
       "      <td>0.0</td>\n",
       "      <td>0.0</td>\n",
       "      <td>0.0</td>\n",
       "      <td>1.0</td>\n",
       "      <td>0.0</td>\n",
       "      <td>0.0</td>\n",
       "    </tr>\n",
       "  </tbody>\n",
       "</table>\n",
       "</div>"
      ],
      "text/plain": [
       "   label  date  lastNCVR_appID  lastNCVR_advertiserID  connectionType_0  \\\n",
       "0      0    17       -0.029142              -0.033222               0.0   \n",
       "1      0    17       -0.029142              -0.033222               0.0   \n",
       "2      0    17       -0.029142              -0.033222               0.0   \n",
       "3      0    17       -0.029142              -0.033222               0.0   \n",
       "4      0    17       -0.029142              -0.033222               0.0   \n",
       "\n",
       "   connectionType_1  connectionType_2  connectionType_3  connectionType_4  \\\n",
       "0               1.0               0.0               0.0               0.0   \n",
       "1               1.0               0.0               0.0               0.0   \n",
       "2               0.0               0.0               0.0               1.0   \n",
       "3               1.0               0.0               0.0               0.0   \n",
       "4               1.0               0.0               0.0               0.0   \n",
       "\n",
       "   connectionType_0  connectionType_1  connectionType_2  connectionType_3  \\\n",
       "0               0.0               1.0               0.0               0.0   \n",
       "1               0.0               1.0               0.0               0.0   \n",
       "2               0.0               0.0               0.0               0.0   \n",
       "3               0.0               1.0               0.0               0.0   \n",
       "4               0.0               1.0               0.0               0.0   \n",
       "\n",
       "   connectionType_4  telecomsOperator_0  telecomsOperator_1  \\\n",
       "0               0.0                 0.0                 1.0   \n",
       "1               0.0                 0.0                 0.0   \n",
       "2               1.0                 0.0                 1.0   \n",
       "3               0.0                 0.0                 1.0   \n",
       "4               0.0                 0.0                 1.0   \n",
       "\n",
       "   telecomsOperator_2  telecomsOperator_3  \n",
       "0                 0.0                 0.0  \n",
       "1                 1.0                 0.0  \n",
       "2                 0.0                 0.0  \n",
       "3                 0.0                 0.0  \n",
       "4                 0.0                 0.0  "
      ]
     },
     "execution_count": 9,
     "metadata": {},
     "output_type": "execute_result"
    }
   ],
   "source": [
    "data.head()"
   ]
  },
  {
   "cell_type": "code",
   "execution_count": 9,
   "metadata": {
    "collapsed": false
   },
   "outputs": [],
   "source": [
    "# 提取特征\n",
    "# all_data = data.filter(regex='label|connectionType_*|telecomsOperato_*|appPlatform_*|lastNCVR_appID_+|lastNCVR_advertiserID_+')"
   ]
  },
  {
   "cell_type": "code",
   "execution_count": 11,
   "metadata": {
    "collapsed": false
   },
   "outputs": [],
   "source": [
    "# 平衡正反例\n",
    "def balance(train_pro):\n",
    "    ## 从正例中随机取出比例为a的数据，划分\n",
    "    train_size_p = int(data[data['label']==1]['label'].count()*train_pro)\n",
    "    train_size_n = int(train_size_p * 39.02) #原始样本中负例是正例的这个倍数\n",
    "    sampler1 = np.random.permutation(data[data['label']==1]['label'].count())\n",
    "    index1 = data[data['label']==1].index[sampler1] #重排序后的索引\n",
    "    train1 = data[data['label']==1].ix[index1[:train_size_p]]\n",
    "    test1 = data[data['label']==1].ix[index1[train_size_p:]]\n",
    "    ## 从负例中随机取出相同数量的数据，划分\n",
    "    sampler0 = np.random.permutation(data[data['label']==0]['label'].count())\n",
    "    index0 = data[data['label']==0].index[sampler0] #重排序后的索引\n",
    "    train0 = data[data['label']==0].ix[index0[:train_size_n]]\n",
    "    test0 = data[data['label']==0].ix[index0[train_size_n:]]\n",
    "    ## 构建训练集和测试集\n",
    "    data_train = pd.concat([train1, train0])\n",
    "    data_test = pd.concat([test1, test0])\n",
    "    return data_train.as_matrix()[:,1:], data_test.as_matrix()[:,1:], data_train.as_matrix()[:,0],  data_test.as_matrix()[:,0]\n",
    "trainX, testX, trainY, testY = balance(0.8)"
   ]
  },
  {
   "cell_type": "code",
   "execution_count": 12,
   "metadata": {
    "collapsed": false
   },
   "outputs": [
    {
     "name": "stdout",
     "output_type": "stream",
     "text": [
      "LogisticRegressionCV(Cs=10, class_weight=None, cv=5, dual=False,\n",
      "           fit_intercept=True, intercept_scaling=1.0, max_iter=100,\n",
      "           multi_class='ovr', n_jobs=-1, penalty='l2', random_state=None,\n",
      "           refit=True, scoring=None, solver='lbfgs', tol=0.0001, verbose=0)\n"
     ]
    }
   ],
   "source": [
    "# 划分训练集和测试集\n",
    "from sklearn import cross_validation\n",
    "from sklearn import linear_model\n",
    "from sklearn.tree import DecisionTreeClassifier\n",
    "from sklearn.ensemble import RandomForestClassifier\n",
    "from sklearn.cluster import KMeans\n",
    "# X = all_data.as_matrix()[:,1:]\n",
    "# y = all_data.as_matrix()[:,0]\n",
    "# trainX, testX, trainY, testY = cross_validation.train_test_split(X, y, test_size=0.2, random_state=174)\n",
    "# y\n",
    "# 训练\n",
    "clf = linear_model.LogisticRegressionCV(Cs=10, penalty='l2', tol=1e-4, n_jobs=-1, cv=5)\n",
    "# clf = RandomForestClassifier()\n",
    "clf.fit(trainX, trainY)\n",
    "print clf"
   ]
  },
  {
   "cell_type": "code",
   "execution_count": 13,
   "metadata": {
    "collapsed": false
   },
   "outputs": [
    {
     "name": "stdout",
     "output_type": "stream",
     "text": [
      "P&R\n"
     ]
    },
    {
     "name": "stderr",
     "output_type": "stream",
     "text": [
      "C:\\Users\\work\\Anaconda2\\lib\\site-packages\\sklearn\\metrics\\classification.py:1074: UndefinedMetricWarning: Precision and F-score are ill-defined and being set to 0.0 in labels with no predicted samples.\n",
      "  'precision', 'predicted', average, warn_for)\n"
     ]
    },
    {
     "name": "stdout",
     "output_type": "stream",
     "text": [
      "             precision    recall  f1-score   support\n",
      "\n",
      "        0.0       0.98      1.00      0.99    745023\n",
      "        1.0       0.00      0.00      0.00     18653\n",
      "\n",
      "avg / total       0.95      0.98      0.96    763676\n",
      "\n",
      "loss:\n",
      "0.862909530975\n"
     ]
    }
   ],
   "source": [
    "# 评估模型结果\n",
    "import scipy as sp\n",
    "def logloss(act, pred):\n",
    "  epsilon = 1e-15\n",
    "  pred = sp.maximum(epsilon, pred)\n",
    "  pred = sp.minimum(1-epsilon, pred)\n",
    "  ll = sum(act*sp.log(pred) + sp.subtract(1,act)*sp.log(sp.subtract(1,pred)))\n",
    "  ll = ll * -1.0/len(act)\n",
    "  return ll\n",
    "from sklearn import metrics\n",
    "pred = clf.predict(testX)\n",
    "print 'P&R'\n",
    "print metrics.classification_report(testY, pred)\n",
    "print 'loss:'\n",
    "act = clf.predict_proba(testX)[:, 1]\n",
    "# scaleParam = scaler.fit(act)\n",
    "# act = scaler.fit_transform(act, scaleParam)\n",
    "print logloss(act, pred)"
   ]
  },
  {
   "cell_type": "code",
   "execution_count": 14,
   "metadata": {
    "collapsed": false,
    "scrolled": true
   },
   "outputs": [
    {
     "data": {
      "text/plain": [
       "array([ 0.02696289,  0.03149135,  0.02563044, ...,  0.02874685,\n",
       "        0.0132047 ,  0.02696289])"
      ]
     },
     "execution_count": 14,
     "metadata": {},
     "output_type": "execute_result"
    }
   ],
   "source": [
    "act"
   ]
  },
  {
   "cell_type": "code",
   "execution_count": 13,
   "metadata": {
    "collapsed": false
   },
   "outputs": [
    {
     "data": {
      "text/plain": [
       "['E:\\\\work\\\\kaggle\\\\data\\\\tecent\\\\clf\\\\1.pkl']"
      ]
     },
     "execution_count": 13,
     "metadata": {},
     "output_type": "execute_result"
    }
   ],
   "source": [
    "# 保存分类器\n",
    "from sklearn.externals import joblib\n",
    "joblib.dump(clf, 'C:\\\\Users\\\\work\\\\Desktop\\\\tencent\\\\clf\\\\0.pkl', compress=3)"
   ]
  }
 ],
 "metadata": {
  "anaconda-cloud": {},
  "kernelspec": {
   "display_name": "Python [default]",
   "language": "python",
   "name": "python2"
  },
  "language_info": {
   "codemirror_mode": {
    "name": "ipython",
    "version": 2
   },
   "file_extension": ".py",
   "mimetype": "text/x-python",
   "name": "python",
   "nbconvert_exporter": "python",
   "pygments_lexer": "ipython2",
   "version": "2.7.12"
  }
 },
 "nbformat": 4,
 "nbformat_minor": 0
}
